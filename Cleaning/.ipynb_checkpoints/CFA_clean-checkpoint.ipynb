{
 "cells": [
  {
   "cell_type": "code",
   "execution_count": 1,
   "id": "cff8e576",
   "metadata": {},
   "outputs": [],
   "source": [
    "import pandas as pd\n",
    "from pandas import DataFrame\n",
    "\n",
    "df = pd.read_csv('CFA\\CFA_Incident_Response_csv.csv')\n",
    "\n",
    "# , encoding = \"windows-1252\""
   ]
  },
  {
   "cell_type": "code",
   "execution_count": 2,
   "id": "10bfcf54",
   "metadata": {},
   "outputs": [],
   "source": [
    "df1 = pd.read_csv('CFA\\CFA_Incident_Response1718.csv')\n"
   ]
  },
  {
   "cell_type": "code",
   "execution_count": 3,
   "id": "e850f4ad",
   "metadata": {},
   "outputs": [],
   "source": [
    "df2 = pd.read_csv('CFA\\CFA_Incident_Response17.csv')\n"
   ]
  },
  {
   "cell_type": "code",
   "execution_count": 4,
   "id": "be56a09e",
   "metadata": {},
   "outputs": [],
   "source": [
    "df3 = pd.read_csv('CFA\\CFA_Incident_Response18.csv')\n"
   ]
  },
  {
   "cell_type": "code",
   "execution_count": 5,
   "id": "c2ad43aa",
   "metadata": {},
   "outputs": [],
   "source": [
    "df4 = pd.read_csv('CFA\\CFA_Incident_Response19.csv')\n"
   ]
  },
  {
   "cell_type": "code",
   "execution_count": 6,
   "id": "71dfff9f",
   "metadata": {},
   "outputs": [],
   "source": [
    "df5 = pd.read_csv('CFA\\CFA_Incident_Response20.csv')\n"
   ]
  },
  {
   "cell_type": "code",
   "execution_count": 7,
   "id": "616e85bb",
   "metadata": {},
   "outputs": [],
   "source": [
    "frames = [df,df1,df2,df3,df4,df5]\n",
    "result = pd.concat(frames)"
   ]
  },
  {
   "cell_type": "code",
   "execution_count": 8,
   "id": "672cf272",
   "metadata": {},
   "outputs": [
    {
     "data": {
      "text/plain": [
       "<bound method DataFrame.info of       incident_datetime  incident_no  District_no  incident_type_code  \\\n",
       "0             1/07/2021       814394         18.0              152.00   \n",
       "1             1/07/2021       814393          NaN              523.53   \n",
       "2             1/07/2021       814395         15.0              151.00   \n",
       "3             1/07/2021       814396          9.0              112.00   \n",
       "4             1/07/2021       814397         14.0              151.00   \n",
       "...                 ...          ...          ...                 ...   \n",
       "31591        30/06/2021       814392          8.0              129.00   \n",
       "31592        30/06/2021       814388          5.0              414.30   \n",
       "31593        30/06/2021       814387          7.0              189.00   \n",
       "31594        30/06/2021       814389         11.0              624.00   \n",
       "31595        30/06/2021       814390         14.0              523.53   \n",
       "\n",
       "                                           incident_type  \n",
       "0                         Road or transport vehicle fire  \n",
       "1                                 Mutual Aid Given - FRV  \n",
       "2                 Passenger vehicle fire including buses  \n",
       "3                           Fire damaging structure only  \n",
       "4                 Passenger vehicle fire including buses  \n",
       "...                                                  ...  \n",
       "31591  Fire in building confined within non-combustib...  \n",
       "31592  Minor fuel or other flammable liquid spill/lea...  \n",
       "31593                 Outside refuse fire not classified  \n",
       "31594                                 Controlled burning  \n",
       "31595                             Mutual Aid Given - FRV  \n",
       "\n",
       "[250425 rows x 5 columns]>"
      ]
     },
     "execution_count": 8,
     "metadata": {},
     "output_type": "execute_result"
    }
   ],
   "source": [
    "result.info"
   ]
  },
  {
   "cell_type": "code",
   "execution_count": 9,
   "id": "07b026bc",
   "metadata": {},
   "outputs": [
    {
     "data": {
      "text/html": [
       "<div>\n",
       "<style scoped>\n",
       "    .dataframe tbody tr th:only-of-type {\n",
       "        vertical-align: middle;\n",
       "    }\n",
       "\n",
       "    .dataframe tbody tr th {\n",
       "        vertical-align: top;\n",
       "    }\n",
       "\n",
       "    .dataframe thead th {\n",
       "        text-align: right;\n",
       "    }\n",
       "</style>\n",
       "<table border=\"1\" class=\"dataframe\">\n",
       "  <thead>\n",
       "    <tr style=\"text-align: right;\">\n",
       "      <th></th>\n",
       "      <th>incident_datetime</th>\n",
       "      <th>incident_no</th>\n",
       "      <th>District_no</th>\n",
       "      <th>incident_type_code</th>\n",
       "      <th>incident_type</th>\n",
       "    </tr>\n",
       "  </thead>\n",
       "  <tbody>\n",
       "    <tr>\n",
       "      <th>0</th>\n",
       "      <td>1/07/2021</td>\n",
       "      <td>814394</td>\n",
       "      <td>18.0</td>\n",
       "      <td>152.00</td>\n",
       "      <td>Road or transport vehicle fire</td>\n",
       "    </tr>\n",
       "    <tr>\n",
       "      <th>1</th>\n",
       "      <td>1/07/2021</td>\n",
       "      <td>814393</td>\n",
       "      <td>NaN</td>\n",
       "      <td>523.53</td>\n",
       "      <td>Mutual Aid Given - FRV</td>\n",
       "    </tr>\n",
       "    <tr>\n",
       "      <th>2</th>\n",
       "      <td>1/07/2021</td>\n",
       "      <td>814395</td>\n",
       "      <td>15.0</td>\n",
       "      <td>151.00</td>\n",
       "      <td>Passenger vehicle fire including buses</td>\n",
       "    </tr>\n",
       "    <tr>\n",
       "      <th>3</th>\n",
       "      <td>1/07/2021</td>\n",
       "      <td>814396</td>\n",
       "      <td>9.0</td>\n",
       "      <td>112.00</td>\n",
       "      <td>Fire damaging structure only</td>\n",
       "    </tr>\n",
       "    <tr>\n",
       "      <th>4</th>\n",
       "      <td>1/07/2021</td>\n",
       "      <td>814397</td>\n",
       "      <td>14.0</td>\n",
       "      <td>151.00</td>\n",
       "      <td>Passenger vehicle fire including buses</td>\n",
       "    </tr>\n",
       "    <tr>\n",
       "      <th>5</th>\n",
       "      <td>1/07/2021</td>\n",
       "      <td>814401</td>\n",
       "      <td>18.0</td>\n",
       "      <td>152.00</td>\n",
       "      <td>Road or transport vehicle fire</td>\n",
       "    </tr>\n",
       "    <tr>\n",
       "      <th>6</th>\n",
       "      <td>1/07/2021</td>\n",
       "      <td>814398</td>\n",
       "      <td>23.0</td>\n",
       "      <td>523.53</td>\n",
       "      <td>Mutual Aid Given - FRV</td>\n",
       "    </tr>\n",
       "    <tr>\n",
       "      <th>7</th>\n",
       "      <td>1/07/2021</td>\n",
       "      <td>814399</td>\n",
       "      <td>8.0</td>\n",
       "      <td>352.00</td>\n",
       "      <td>Vehicle accident-no injuries</td>\n",
       "    </tr>\n",
       "    <tr>\n",
       "      <th>8</th>\n",
       "      <td>1/07/2021</td>\n",
       "      <td>814400</td>\n",
       "      <td>14.0</td>\n",
       "      <td>523.53</td>\n",
       "      <td>Mutual Aid Given - FRV</td>\n",
       "    </tr>\n",
       "    <tr>\n",
       "      <th>9</th>\n",
       "      <td>1/07/2021</td>\n",
       "      <td>814402</td>\n",
       "      <td>22.0</td>\n",
       "      <td>143.20</td>\n",
       "      <td>Stock fodder fire (includes hay bales or rolls...</td>\n",
       "    </tr>\n",
       "    <tr>\n",
       "      <th>10</th>\n",
       "      <td>1/07/2021</td>\n",
       "      <td>814404</td>\n",
       "      <td>8.0</td>\n",
       "      <td>523.53</td>\n",
       "      <td>Mutual Aid Given - FRV</td>\n",
       "    </tr>\n",
       "    <tr>\n",
       "      <th>11</th>\n",
       "      <td>1/07/2021</td>\n",
       "      <td>814405</td>\n",
       "      <td>7.0</td>\n",
       "      <td>523.53</td>\n",
       "      <td>Mutual Aid Given - FRV</td>\n",
       "    </tr>\n",
       "    <tr>\n",
       "      <th>12</th>\n",
       "      <td>1/07/2021</td>\n",
       "      <td>814406</td>\n",
       "      <td>9.0</td>\n",
       "      <td>434.00</td>\n",
       "      <td>Breakdown of light ballast</td>\n",
       "    </tr>\n",
       "    <tr>\n",
       "      <th>13</th>\n",
       "      <td>1/07/2021</td>\n",
       "      <td>814407</td>\n",
       "      <td>7.0</td>\n",
       "      <td>521.00</td>\n",
       "      <td>Assist police or other governmental agency</td>\n",
       "    </tr>\n",
       "    <tr>\n",
       "      <th>14</th>\n",
       "      <td>1/07/2021</td>\n",
       "      <td>814408</td>\n",
       "      <td>22.0</td>\n",
       "      <td>523.53</td>\n",
       "      <td>Mutual Aid Given - FRV</td>\n",
       "    </tr>\n",
       "    <tr>\n",
       "      <th>15</th>\n",
       "      <td>1/07/2021</td>\n",
       "      <td>814417</td>\n",
       "      <td>18.0</td>\n",
       "      <td>352.10</td>\n",
       "      <td>Vehicle accident-with injuries</td>\n",
       "    </tr>\n",
       "    <tr>\n",
       "      <th>16</th>\n",
       "      <td>1/07/2021</td>\n",
       "      <td>814600</td>\n",
       "      <td>11.0</td>\n",
       "      <td>352.10</td>\n",
       "      <td>Vehicle accident-with injuries</td>\n",
       "    </tr>\n",
       "    <tr>\n",
       "      <th>17</th>\n",
       "      <td>1/07/2021</td>\n",
       "      <td>814411</td>\n",
       "      <td>20.0</td>\n",
       "      <td>151.00</td>\n",
       "      <td>Passenger vehicle fire including buses</td>\n",
       "    </tr>\n",
       "    <tr>\n",
       "      <th>18</th>\n",
       "      <td>1/07/2021</td>\n",
       "      <td>814409</td>\n",
       "      <td>14.0</td>\n",
       "      <td>321.00</td>\n",
       "      <td>EMS call, excluding vehicle accident with injury</td>\n",
       "    </tr>\n",
       "    <tr>\n",
       "      <th>19</th>\n",
       "      <td>1/07/2021</td>\n",
       "      <td>814410</td>\n",
       "      <td>23.0</td>\n",
       "      <td>523.53</td>\n",
       "      <td>Mutual Aid Given - FRV</td>\n",
       "    </tr>\n",
       "  </tbody>\n",
       "</table>\n",
       "</div>"
      ],
      "text/plain": [
       "   incident_datetime  incident_no  District_no  incident_type_code  \\\n",
       "0          1/07/2021       814394         18.0              152.00   \n",
       "1          1/07/2021       814393          NaN              523.53   \n",
       "2          1/07/2021       814395         15.0              151.00   \n",
       "3          1/07/2021       814396          9.0              112.00   \n",
       "4          1/07/2021       814397         14.0              151.00   \n",
       "5          1/07/2021       814401         18.0              152.00   \n",
       "6          1/07/2021       814398         23.0              523.53   \n",
       "7          1/07/2021       814399          8.0              352.00   \n",
       "8          1/07/2021       814400         14.0              523.53   \n",
       "9          1/07/2021       814402         22.0              143.20   \n",
       "10         1/07/2021       814404          8.0              523.53   \n",
       "11         1/07/2021       814405          7.0              523.53   \n",
       "12         1/07/2021       814406          9.0              434.00   \n",
       "13         1/07/2021       814407          7.0              521.00   \n",
       "14         1/07/2021       814408         22.0              523.53   \n",
       "15         1/07/2021       814417         18.0              352.10   \n",
       "16         1/07/2021       814600         11.0              352.10   \n",
       "17         1/07/2021       814411         20.0              151.00   \n",
       "18         1/07/2021       814409         14.0              321.00   \n",
       "19         1/07/2021       814410         23.0              523.53   \n",
       "\n",
       "                                        incident_type  \n",
       "0                      Road or transport vehicle fire  \n",
       "1                              Mutual Aid Given - FRV  \n",
       "2              Passenger vehicle fire including buses  \n",
       "3                        Fire damaging structure only  \n",
       "4              Passenger vehicle fire including buses  \n",
       "5                      Road or transport vehicle fire  \n",
       "6                              Mutual Aid Given - FRV  \n",
       "7                        Vehicle accident-no injuries  \n",
       "8                              Mutual Aid Given - FRV  \n",
       "9   Stock fodder fire (includes hay bales or rolls...  \n",
       "10                             Mutual Aid Given - FRV  \n",
       "11                             Mutual Aid Given - FRV  \n",
       "12                         Breakdown of light ballast  \n",
       "13         Assist police or other governmental agency  \n",
       "14                             Mutual Aid Given - FRV  \n",
       "15                     Vehicle accident-with injuries  \n",
       "16                     Vehicle accident-with injuries  \n",
       "17             Passenger vehicle fire including buses  \n",
       "18   EMS call, excluding vehicle accident with injury  \n",
       "19                             Mutual Aid Given - FRV  "
      ]
     },
     "execution_count": 9,
     "metadata": {},
     "output_type": "execute_result"
    }
   ],
   "source": [
    "result.head(20)"
   ]
  },
  {
   "cell_type": "code",
   "execution_count": 23,
   "id": "79e6eee8",
   "metadata": {},
   "outputs": [],
   "source": [
    "cfa_df = pd.DataFrame(result.dropna())"
   ]
  },
  {
   "cell_type": "code",
   "execution_count": 24,
   "id": "1007e5b1",
   "metadata": {},
   "outputs": [
    {
     "data": {
      "text/html": [
       "<div>\n",
       "<style scoped>\n",
       "    .dataframe tbody tr th:only-of-type {\n",
       "        vertical-align: middle;\n",
       "    }\n",
       "\n",
       "    .dataframe tbody tr th {\n",
       "        vertical-align: top;\n",
       "    }\n",
       "\n",
       "    .dataframe thead th {\n",
       "        text-align: right;\n",
       "    }\n",
       "</style>\n",
       "<table border=\"1\" class=\"dataframe\">\n",
       "  <thead>\n",
       "    <tr style=\"text-align: right;\">\n",
       "      <th></th>\n",
       "      <th>incident_datetime</th>\n",
       "      <th>incident_no</th>\n",
       "      <th>District_no</th>\n",
       "      <th>incident_type_code</th>\n",
       "      <th>incident_type</th>\n",
       "    </tr>\n",
       "  </thead>\n",
       "  <tbody>\n",
       "    <tr>\n",
       "      <th>0</th>\n",
       "      <td>1/07/2021</td>\n",
       "      <td>814394</td>\n",
       "      <td>18.0</td>\n",
       "      <td>152.00</td>\n",
       "      <td>Road or transport vehicle fire</td>\n",
       "    </tr>\n",
       "    <tr>\n",
       "      <th>2</th>\n",
       "      <td>1/07/2021</td>\n",
       "      <td>814395</td>\n",
       "      <td>15.0</td>\n",
       "      <td>151.00</td>\n",
       "      <td>Passenger vehicle fire including buses</td>\n",
       "    </tr>\n",
       "    <tr>\n",
       "      <th>3</th>\n",
       "      <td>1/07/2021</td>\n",
       "      <td>814396</td>\n",
       "      <td>9.0</td>\n",
       "      <td>112.00</td>\n",
       "      <td>Fire damaging structure only</td>\n",
       "    </tr>\n",
       "    <tr>\n",
       "      <th>4</th>\n",
       "      <td>1/07/2021</td>\n",
       "      <td>814397</td>\n",
       "      <td>14.0</td>\n",
       "      <td>151.00</td>\n",
       "      <td>Passenger vehicle fire including buses</td>\n",
       "    </tr>\n",
       "    <tr>\n",
       "      <th>5</th>\n",
       "      <td>1/07/2021</td>\n",
       "      <td>814401</td>\n",
       "      <td>18.0</td>\n",
       "      <td>152.00</td>\n",
       "      <td>Road or transport vehicle fire</td>\n",
       "    </tr>\n",
       "    <tr>\n",
       "      <th>...</th>\n",
       "      <td>...</td>\n",
       "      <td>...</td>\n",
       "      <td>...</td>\n",
       "      <td>...</td>\n",
       "      <td>...</td>\n",
       "    </tr>\n",
       "    <tr>\n",
       "      <th>31591</th>\n",
       "      <td>30/06/2021</td>\n",
       "      <td>814392</td>\n",
       "      <td>8.0</td>\n",
       "      <td>129.00</td>\n",
       "      <td>Fire in building confined within non-combustib...</td>\n",
       "    </tr>\n",
       "    <tr>\n",
       "      <th>31592</th>\n",
       "      <td>30/06/2021</td>\n",
       "      <td>814388</td>\n",
       "      <td>5.0</td>\n",
       "      <td>414.30</td>\n",
       "      <td>Minor fuel or other flammable liquid spill/lea...</td>\n",
       "    </tr>\n",
       "    <tr>\n",
       "      <th>31593</th>\n",
       "      <td>30/06/2021</td>\n",
       "      <td>814387</td>\n",
       "      <td>7.0</td>\n",
       "      <td>189.00</td>\n",
       "      <td>Outside refuse fire not classified</td>\n",
       "    </tr>\n",
       "    <tr>\n",
       "      <th>31594</th>\n",
       "      <td>30/06/2021</td>\n",
       "      <td>814389</td>\n",
       "      <td>11.0</td>\n",
       "      <td>624.00</td>\n",
       "      <td>Controlled burning</td>\n",
       "    </tr>\n",
       "    <tr>\n",
       "      <th>31595</th>\n",
       "      <td>30/06/2021</td>\n",
       "      <td>814390</td>\n",
       "      <td>14.0</td>\n",
       "      <td>523.53</td>\n",
       "      <td>Mutual Aid Given - FRV</td>\n",
       "    </tr>\n",
       "  </tbody>\n",
       "</table>\n",
       "<p>241427 rows × 5 columns</p>\n",
       "</div>"
      ],
      "text/plain": [
       "      incident_datetime  incident_no  District_no  incident_type_code  \\\n",
       "0             1/07/2021       814394         18.0              152.00   \n",
       "2             1/07/2021       814395         15.0              151.00   \n",
       "3             1/07/2021       814396          9.0              112.00   \n",
       "4             1/07/2021       814397         14.0              151.00   \n",
       "5             1/07/2021       814401         18.0              152.00   \n",
       "...                 ...          ...          ...                 ...   \n",
       "31591        30/06/2021       814392          8.0              129.00   \n",
       "31592        30/06/2021       814388          5.0              414.30   \n",
       "31593        30/06/2021       814387          7.0              189.00   \n",
       "31594        30/06/2021       814389         11.0              624.00   \n",
       "31595        30/06/2021       814390         14.0              523.53   \n",
       "\n",
       "                                           incident_type  \n",
       "0                         Road or transport vehicle fire  \n",
       "2                 Passenger vehicle fire including buses  \n",
       "3                           Fire damaging structure only  \n",
       "4                 Passenger vehicle fire including buses  \n",
       "5                         Road or transport vehicle fire  \n",
       "...                                                  ...  \n",
       "31591  Fire in building confined within non-combustib...  \n",
       "31592  Minor fuel or other flammable liquid spill/lea...  \n",
       "31593                 Outside refuse fire not classified  \n",
       "31594                                 Controlled burning  \n",
       "31595                             Mutual Aid Given - FRV  \n",
       "\n",
       "[241427 rows x 5 columns]"
      ]
     },
     "execution_count": 24,
     "metadata": {},
     "output_type": "execute_result"
    }
   ],
   "source": [
    "cfa_df"
   ]
  },
  {
   "cell_type": "code",
   "execution_count": 25,
   "id": "51c6e428",
   "metadata": {},
   "outputs": [
    {
     "name": "stdout",
     "output_type": "stream",
     "text": [
      "[18. nan 15.  9. 14. 23.  8. 22.  7. 11. 20. 12.  5. 27. 13.  4. 17. 10.\n",
      " 16.  2.  6. 24.]\n"
     ]
    }
   ],
   "source": [
    "print(result['District_no'].unique())"
   ]
  },
  {
   "cell_type": "code",
   "execution_count": 26,
   "id": "c4cd1299",
   "metadata": {},
   "outputs": [
    {
     "name": "stdout",
     "output_type": "stream",
     "text": [
      "Empty DataFrame\n",
      "Columns: [incident_datetime, incident_no, District_no, incident_type_code, incident_type]\n",
      "Index: []\n"
     ]
    }
   ],
   "source": [
    "rows_with_nan = cfa_df[cfa_df.isna().any(axis=1)]\n",
    "\n",
    "# Print the rows with NaN values\n",
    "print(rows_with_nan)"
   ]
  },
  {
   "cell_type": "code",
   "execution_count": 14,
   "id": "bc999546",
   "metadata": {},
   "outputs": [
    {
     "name": "stdout",
     "output_type": "stream",
     "text": [
      "[18. nan 15.  9. 14. 23.  8. 22.  7. 11. 20. 12.  5. 27. 13.  4. 17. 10.\n",
      " 16.  2.  6. 24.]\n"
     ]
    }
   ],
   "source": [
    "print(result['District_no'].unique())"
   ]
  },
  {
   "cell_type": "code",
   "execution_count": 15,
   "id": "c828dd81",
   "metadata": {},
   "outputs": [
    {
     "data": {
      "text/plain": [
       "0"
      ]
     },
     "execution_count": 15,
     "metadata": {},
     "output_type": "execute_result"
    }
   ],
   "source": [
    "cfa_df.isnull().values.sum()"
   ]
  },
  {
   "cell_type": "code",
   "execution_count": 16,
   "id": "aaf56000",
   "metadata": {},
   "outputs": [
    {
     "data": {
      "text/plain": [
       "incident_datetime      object\n",
       "incident_no             int64\n",
       "District_no           float64\n",
       "incident_type_code    float64\n",
       "incident_type          object\n",
       "dtype: object"
      ]
     },
     "execution_count": 16,
     "metadata": {},
     "output_type": "execute_result"
    }
   ],
   "source": [
    "cfa_df.dtypes"
   ]
  },
  {
   "cell_type": "code",
   "execution_count": 17,
   "id": "55c8878a",
   "metadata": {},
   "outputs": [],
   "source": [
    "cfa_df['incident_datetime']= pd.to_datetime(cfa_df['incident_datetime'], dayfirst=True)"
   ]
  },
  {
   "cell_type": "code",
   "execution_count": 18,
   "id": "5b9326bb",
   "metadata": {},
   "outputs": [
    {
     "data": {
      "text/plain": [
       "incident_datetime     datetime64[ns]\n",
       "incident_no                    int64\n",
       "District_no                  float64\n",
       "incident_type_code           float64\n",
       "incident_type                 object\n",
       "dtype: object"
      ]
     },
     "execution_count": 18,
     "metadata": {},
     "output_type": "execute_result"
    }
   ],
   "source": [
    "cfa_df.dtypes"
   ]
  },
  {
   "cell_type": "code",
   "execution_count": 19,
   "id": "e18c7016",
   "metadata": {},
   "outputs": [
    {
     "data": {
      "text/html": [
       "<div>\n",
       "<style scoped>\n",
       "    .dataframe tbody tr th:only-of-type {\n",
       "        vertical-align: middle;\n",
       "    }\n",
       "\n",
       "    .dataframe tbody tr th {\n",
       "        vertical-align: top;\n",
       "    }\n",
       "\n",
       "    .dataframe thead th {\n",
       "        text-align: right;\n",
       "    }\n",
       "</style>\n",
       "<table border=\"1\" class=\"dataframe\">\n",
       "  <thead>\n",
       "    <tr style=\"text-align: right;\">\n",
       "      <th></th>\n",
       "      <th>incident_datetime</th>\n",
       "      <th>incident_no</th>\n",
       "      <th>District_no</th>\n",
       "      <th>incident_type_code</th>\n",
       "      <th>incident_type</th>\n",
       "    </tr>\n",
       "  </thead>\n",
       "  <tbody>\n",
       "    <tr>\n",
       "      <th>0</th>\n",
       "      <td>2021-07-01</td>\n",
       "      <td>814394</td>\n",
       "      <td>18.0</td>\n",
       "      <td>152.0</td>\n",
       "      <td>Road or transport vehicle fire</td>\n",
       "    </tr>\n",
       "    <tr>\n",
       "      <th>2</th>\n",
       "      <td>2021-07-01</td>\n",
       "      <td>814395</td>\n",
       "      <td>15.0</td>\n",
       "      <td>151.0</td>\n",
       "      <td>Passenger vehicle fire including buses</td>\n",
       "    </tr>\n",
       "    <tr>\n",
       "      <th>3</th>\n",
       "      <td>2021-07-01</td>\n",
       "      <td>814396</td>\n",
       "      <td>9.0</td>\n",
       "      <td>112.0</td>\n",
       "      <td>Fire damaging structure only</td>\n",
       "    </tr>\n",
       "    <tr>\n",
       "      <th>4</th>\n",
       "      <td>2021-07-01</td>\n",
       "      <td>814397</td>\n",
       "      <td>14.0</td>\n",
       "      <td>151.0</td>\n",
       "      <td>Passenger vehicle fire including buses</td>\n",
       "    </tr>\n",
       "    <tr>\n",
       "      <th>5</th>\n",
       "      <td>2021-07-01</td>\n",
       "      <td>814401</td>\n",
       "      <td>18.0</td>\n",
       "      <td>152.0</td>\n",
       "      <td>Road or transport vehicle fire</td>\n",
       "    </tr>\n",
       "  </tbody>\n",
       "</table>\n",
       "</div>"
      ],
      "text/plain": [
       "  incident_datetime  incident_no  District_no  incident_type_code  \\\n",
       "0        2021-07-01       814394         18.0               152.0   \n",
       "2        2021-07-01       814395         15.0               151.0   \n",
       "3        2021-07-01       814396          9.0               112.0   \n",
       "4        2021-07-01       814397         14.0               151.0   \n",
       "5        2021-07-01       814401         18.0               152.0   \n",
       "\n",
       "                            incident_type  \n",
       "0          Road or transport vehicle fire  \n",
       "2  Passenger vehicle fire including buses  \n",
       "3            Fire damaging structure only  \n",
       "4  Passenger vehicle fire including buses  \n",
       "5          Road or transport vehicle fire  "
      ]
     },
     "execution_count": 19,
     "metadata": {},
     "output_type": "execute_result"
    }
   ],
   "source": [
    "cfa_df.head()\n"
   ]
  },
  {
   "cell_type": "code",
   "execution_count": 20,
   "id": "a493d942",
   "metadata": {},
   "outputs": [],
   "source": [
    "import matplotlib.pyplot as plt"
   ]
  },
  {
   "cell_type": "code",
   "execution_count": 21,
   "id": "1fa7afc3",
   "metadata": {},
   "outputs": [
    {
     "data": {
      "text/html": [
       "<div>\n",
       "<style scoped>\n",
       "    .dataframe tbody tr th:only-of-type {\n",
       "        vertical-align: middle;\n",
       "    }\n",
       "\n",
       "    .dataframe tbody tr th {\n",
       "        vertical-align: top;\n",
       "    }\n",
       "\n",
       "    .dataframe thead th {\n",
       "        text-align: right;\n",
       "    }\n",
       "</style>\n",
       "<table border=\"1\" class=\"dataframe\">\n",
       "  <thead>\n",
       "    <tr style=\"text-align: right;\">\n",
       "      <th></th>\n",
       "      <th>Incident_count</th>\n",
       "    </tr>\n",
       "    <tr>\n",
       "      <th>incident_datetime</th>\n",
       "      <th></th>\n",
       "    </tr>\n",
       "  </thead>\n",
       "  <tbody>\n",
       "    <tr>\n",
       "      <th>2017-07-01</th>\n",
       "      <td>272</td>\n",
       "    </tr>\n",
       "    <tr>\n",
       "      <th>2017-07-02</th>\n",
       "      <td>272</td>\n",
       "    </tr>\n",
       "    <tr>\n",
       "      <th>2017-07-03</th>\n",
       "      <td>224</td>\n",
       "    </tr>\n",
       "    <tr>\n",
       "      <th>2017-07-04</th>\n",
       "      <td>182</td>\n",
       "    </tr>\n",
       "    <tr>\n",
       "      <th>2017-07-05</th>\n",
       "      <td>166</td>\n",
       "    </tr>\n",
       "    <tr>\n",
       "      <th>...</th>\n",
       "      <td>...</td>\n",
       "    </tr>\n",
       "    <tr>\n",
       "      <th>2022-06-26</th>\n",
       "      <td>63</td>\n",
       "    </tr>\n",
       "    <tr>\n",
       "      <th>2022-06-27</th>\n",
       "      <td>68</td>\n",
       "    </tr>\n",
       "    <tr>\n",
       "      <th>2022-06-28</th>\n",
       "      <td>56</td>\n",
       "    </tr>\n",
       "    <tr>\n",
       "      <th>2022-06-29</th>\n",
       "      <td>63</td>\n",
       "    </tr>\n",
       "    <tr>\n",
       "      <th>2022-06-30</th>\n",
       "      <td>60</td>\n",
       "    </tr>\n",
       "  </tbody>\n",
       "</table>\n",
       "<p>1826 rows × 1 columns</p>\n",
       "</div>"
      ],
      "text/plain": [
       "                   Incident_count\n",
       "incident_datetime                \n",
       "2017-07-01                    272\n",
       "2017-07-02                    272\n",
       "2017-07-03                    224\n",
       "2017-07-04                    182\n",
       "2017-07-05                    166\n",
       "...                           ...\n",
       "2022-06-26                     63\n",
       "2022-06-27                     68\n",
       "2022-06-28                     56\n",
       "2022-06-29                     63\n",
       "2022-06-30                     60\n",
       "\n",
       "[1826 rows x 1 columns]"
      ]
     },
     "execution_count": 21,
     "metadata": {},
     "output_type": "execute_result"
    }
   ],
   "source": [
    "groupeddates2 = cfa_df.groupby('incident_datetime')\n",
    "groupeddates2\n",
    "\n",
    "groupeddates2.count()\n",
    "\n",
    "result2 = groupeddates2.count().drop(columns=[\"District_no\",\"incident_type_code\",\"incident_type\"])\n",
    "\n",
    "result2.rename(columns={'incident_no': 'Incident_count'}, inplace=True)\n",
    "result2\n"
   ]
  },
  {
   "cell_type": "code",
   "execution_count": 22,
   "id": "c28212e4",
   "metadata": {},
   "outputs": [
    {
     "data": {
      "text/html": [
       "<div>\n",
       "<style scoped>\n",
       "    .dataframe tbody tr th:only-of-type {\n",
       "        vertical-align: middle;\n",
       "    }\n",
       "\n",
       "    .dataframe tbody tr th {\n",
       "        vertical-align: top;\n",
       "    }\n",
       "\n",
       "    .dataframe thead th {\n",
       "        text-align: right;\n",
       "    }\n",
       "</style>\n",
       "<table border=\"1\" class=\"dataframe\">\n",
       "  <thead>\n",
       "    <tr style=\"text-align: right;\">\n",
       "      <th></th>\n",
       "      <th>Incident_count</th>\n",
       "    </tr>\n",
       "    <tr>\n",
       "      <th>incident_datetime</th>\n",
       "      <th></th>\n",
       "    </tr>\n",
       "  </thead>\n",
       "  <tbody>\n",
       "    <tr>\n",
       "      <th>2017-07-01</th>\n",
       "      <td>272</td>\n",
       "    </tr>\n",
       "    <tr>\n",
       "      <th>2017-07-02</th>\n",
       "      <td>272</td>\n",
       "    </tr>\n",
       "    <tr>\n",
       "      <th>2017-07-03</th>\n",
       "      <td>224</td>\n",
       "    </tr>\n",
       "    <tr>\n",
       "      <th>2017-07-04</th>\n",
       "      <td>182</td>\n",
       "    </tr>\n",
       "    <tr>\n",
       "      <th>2017-07-05</th>\n",
       "      <td>166</td>\n",
       "    </tr>\n",
       "    <tr>\n",
       "      <th>...</th>\n",
       "      <td>...</td>\n",
       "    </tr>\n",
       "    <tr>\n",
       "      <th>2022-06-26</th>\n",
       "      <td>63</td>\n",
       "    </tr>\n",
       "    <tr>\n",
       "      <th>2022-06-27</th>\n",
       "      <td>68</td>\n",
       "    </tr>\n",
       "    <tr>\n",
       "      <th>2022-06-28</th>\n",
       "      <td>56</td>\n",
       "    </tr>\n",
       "    <tr>\n",
       "      <th>2022-06-29</th>\n",
       "      <td>63</td>\n",
       "    </tr>\n",
       "    <tr>\n",
       "      <th>2022-06-30</th>\n",
       "      <td>60</td>\n",
       "    </tr>\n",
       "  </tbody>\n",
       "</table>\n",
       "<p>1826 rows × 1 columns</p>\n",
       "</div>"
      ],
      "text/plain": [
       "                   Incident_count\n",
       "incident_datetime                \n",
       "2017-07-01                    272\n",
       "2017-07-02                    272\n",
       "2017-07-03                    224\n",
       "2017-07-04                    182\n",
       "2017-07-05                    166\n",
       "...                           ...\n",
       "2022-06-26                     63\n",
       "2022-06-27                     68\n",
       "2022-06-28                     56\n",
       "2022-06-29                     63\n",
       "2022-06-30                     60\n",
       "\n",
       "[1826 rows x 1 columns]"
      ]
     },
     "execution_count": 22,
     "metadata": {},
     "output_type": "execute_result"
    }
   ],
   "source": [
    "cfa_grouped = pd.DataFrame(result2)\n",
    "cfa_grouped"
   ]
  },
  {
   "cell_type": "code",
   "execution_count": 29,
   "id": "6690cca5",
   "metadata": {},
   "outputs": [
    {
     "data": {
      "text/html": [
       "<div>\n",
       "<style scoped>\n",
       "    .dataframe tbody tr th:only-of-type {\n",
       "        vertical-align: middle;\n",
       "    }\n",
       "\n",
       "    .dataframe tbody tr th {\n",
       "        vertical-align: top;\n",
       "    }\n",
       "\n",
       "    .dataframe thead th {\n",
       "        text-align: right;\n",
       "    }\n",
       "</style>\n",
       "<table border=\"1\" class=\"dataframe\">\n",
       "  <thead>\n",
       "    <tr style=\"text-align: right;\">\n",
       "      <th></th>\n",
       "      <th>Incident_count</th>\n",
       "    </tr>\n",
       "    <tr>\n",
       "      <th>incident_datetime</th>\n",
       "      <th></th>\n",
       "    </tr>\n",
       "  </thead>\n",
       "  <tbody>\n",
       "    <tr>\n",
       "      <th>2017-07-01</th>\n",
       "      <td>272</td>\n",
       "    </tr>\n",
       "    <tr>\n",
       "      <th>2017-07-02</th>\n",
       "      <td>272</td>\n",
       "    </tr>\n",
       "    <tr>\n",
       "      <th>2017-07-03</th>\n",
       "      <td>224</td>\n",
       "    </tr>\n",
       "    <tr>\n",
       "      <th>2017-07-04</th>\n",
       "      <td>182</td>\n",
       "    </tr>\n",
       "    <tr>\n",
       "      <th>2017-07-05</th>\n",
       "      <td>166</td>\n",
       "    </tr>\n",
       "  </tbody>\n",
       "</table>\n",
       "</div>"
      ],
      "text/plain": [
       "                   Incident_count\n",
       "incident_datetime                \n",
       "2017-07-01                    272\n",
       "2017-07-02                    272\n",
       "2017-07-03                    224\n",
       "2017-07-04                    182\n",
       "2017-07-05                    166"
      ]
     },
     "execution_count": 29,
     "metadata": {},
     "output_type": "execute_result"
    }
   ],
   "source": [
    "cfa_grouped.head()"
   ]
  },
  {
   "cell_type": "code",
   "execution_count": 30,
   "id": "14545d2b",
   "metadata": {},
   "outputs": [
    {
     "data": {
      "text/plain": [
       "<Axes: xlabel='incident_datetime'>"
      ]
     },
     "execution_count": 30,
     "metadata": {},
     "output_type": "execute_result"
    },
    {
     "data": {
      "image/png": "[encoded data removed]",
      "text/plain": [
       "<Figure size 640x480 with 1 Axes>"
      ]
     },
     "metadata": {},
     "output_type": "display_data"
    }
   ],
   "source": [
    "cfa_grouped['Incident_count'].plot()"
   ]
  },
  {
   "cell_type": "code",
   "execution_count": 31,
   "id": "ba8b2d85",
   "metadata": {},
   "outputs": [],
   "source": [
    "cfa_df.to_csv('cfa_df.csv', sep=',', index=False)"
   ]
  },
  {
   "cell_type": "code",
   "execution_count": 35,
   "id": "e3cb41eb",
   "metadata": {},
   "outputs": [],
   "source": [
    "cfa_grouped.to_csv('cfa_grouped.csv', sep=',', index=True)"
   ]
  },
  {
   "cell_type": "code",
   "execution_count": null,
   "id": "8d53f220",
   "metadata": {},
   "outputs": [],
   "source": []
  }
 ],
 "metadata": {
  "kernelspec": {
   "display_name": "Python 3 (ipykernel)",
   "language": "python",
   "name": "python3"
  },
  "language_info": {
   "codemirror_mode": {
    "name": "ipython",
    "version": 3
   },
   "file_extension": ".py",
   "mimetype": "text/x-python",
   "name": "python",
   "nbconvert_exporter": "python",
   "pygments_lexer": "ipython3",
   "version": "3.10.12"
  }
 },
 "nbformat": 4,
 "nbformat_minor": 5
}
