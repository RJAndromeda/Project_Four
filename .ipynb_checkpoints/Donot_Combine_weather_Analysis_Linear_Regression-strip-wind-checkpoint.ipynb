{
 "cells": [
  {
   "cell_type": "code",
   "execution_count": 43,
   "id": "448fa4e2",
   "metadata": {},
   "outputs": [],
   "source": [
    "# Initial imports\n",
    "import pandas as pd\n",
    "from pathlib import Path\n",
    "from sklearn import tree\n",
    "from sklearn.preprocessing import StandardScaler\n",
    "from sklearn.model_selection import train_test_split\n",
    "from sklearn.metrics import accuracy_score\n",
    "import matplotlib.pyplot as plt\n",
    "import scipy.stats as st\n",
    "import numpy as np\n",
    "import seaborn as sns\n",
    "import hvplot.pandas\n",
    "from sklearn.cluster import KMeans\n",
    "from sklearn.decomposition import PCA\n",
    "from sklearn.linear_model import LinearRegression\n",
    "from sklearn import linear_model\n",
    "from sklearn.linear_model import Lasso\n",
    "import statsmodels.api as sm\n",
    "from sklearn.preprocessing import OneHotEncoder\n",
    "import warnings\n",
    "warnings.simplefilter(action='ignore')"
   ]
  },
  {
   "cell_type": "code",
   "execution_count": 44,
   "id": "8947414c",
   "metadata": {},
   "outputs": [],
   "source": [
    "df1 = pd.read_csv('clean_Ballarat.csv')\n",
    "cfa = pd.read_csv('cfa_grouped.csv')"
   ]
  },
  {
   "cell_type": "code",
   "execution_count": 45,
   "id": "3ae2c92e",
   "metadata": {},
   "outputs": [
    {
     "data": {
      "text/html": [
       "<div>\n",
       "<style scoped>\n",
       "    .dataframe tbody tr th:only-of-type {\n",
       "        vertical-align: middle;\n",
       "    }\n",
       "\n",
       "    .dataframe tbody tr th {\n",
       "        vertical-align: top;\n",
       "    }\n",
       "\n",
       "    .dataframe thead th {\n",
       "        text-align: right;\n",
       "    }\n",
       "</style>\n",
       "<table border=\"1\" class=\"dataframe\">\n",
       "  <thead>\n",
       "    <tr style=\"text-align: right;\">\n",
       "      <th></th>\n",
       "      <th>Date</th>\n",
       "      <th>Minimum temperature (°C)</th>\n",
       "      <th>Maximum temperature (°C)</th>\n",
       "      <th>Rainfall (mm)</th>\n",
       "      <th>Direction of maximum wind gust</th>\n",
       "      <th>Speed of maximum wind gust (km/h)</th>\n",
       "      <th>Time of maximum wind gust</th>\n",
       "      <th>9am Temperature (°C)</th>\n",
       "      <th>9am wind direction</th>\n",
       "      <th>9am wind speed (km/h)</th>\n",
       "      <th>3pm Temperature (°C)</th>\n",
       "      <th>3pm wind direction</th>\n",
       "      <th>3pm wind speed (km/h)</th>\n",
       "      <th>station_id</th>\n",
       "    </tr>\n",
       "  </thead>\n",
       "  <tbody>\n",
       "    <tr>\n",
       "      <th>0</th>\n",
       "      <td>2022-07-01</td>\n",
       "      <td>4.8</td>\n",
       "      <td>9.5</td>\n",
       "      <td>0.2</td>\n",
       "      <td>SSE</td>\n",
       "      <td>35.0</td>\n",
       "      <td>00:22</td>\n",
       "      <td>6.3</td>\n",
       "      <td>S</td>\n",
       "      <td>19</td>\n",
       "      <td>9.2</td>\n",
       "      <td>S</td>\n",
       "      <td>15</td>\n",
       "      <td>89002</td>\n",
       "    </tr>\n",
       "    <tr>\n",
       "      <th>1</th>\n",
       "      <td>2022-07-02</td>\n",
       "      <td>1.2</td>\n",
       "      <td>10.0</td>\n",
       "      <td>0.2</td>\n",
       "      <td>SE</td>\n",
       "      <td>44.0</td>\n",
       "      <td>21:17</td>\n",
       "      <td>5.5</td>\n",
       "      <td>SSE</td>\n",
       "      <td>20</td>\n",
       "      <td>8.8</td>\n",
       "      <td>SSE</td>\n",
       "      <td>28</td>\n",
       "      <td>89002</td>\n",
       "    </tr>\n",
       "    <tr>\n",
       "      <th>2</th>\n",
       "      <td>2022-07-03</td>\n",
       "      <td>4.8</td>\n",
       "      <td>10.2</td>\n",
       "      <td>0.0</td>\n",
       "      <td>SE</td>\n",
       "      <td>57.0</td>\n",
       "      <td>05:49</td>\n",
       "      <td>6.8</td>\n",
       "      <td>SE</td>\n",
       "      <td>31</td>\n",
       "      <td>8.4</td>\n",
       "      <td>SSE</td>\n",
       "      <td>33</td>\n",
       "      <td>89002</td>\n",
       "    </tr>\n",
       "    <tr>\n",
       "      <th>3</th>\n",
       "      <td>2022-07-04</td>\n",
       "      <td>4.9</td>\n",
       "      <td>11.5</td>\n",
       "      <td>0.0</td>\n",
       "      <td>SSE</td>\n",
       "      <td>57.0</td>\n",
       "      <td>11:45</td>\n",
       "      <td>5.9</td>\n",
       "      <td>SSE</td>\n",
       "      <td>30</td>\n",
       "      <td>10.5</td>\n",
       "      <td>SSE</td>\n",
       "      <td>41</td>\n",
       "      <td>89002</td>\n",
       "    </tr>\n",
       "    <tr>\n",
       "      <th>4</th>\n",
       "      <td>2022-07-05</td>\n",
       "      <td>5.9</td>\n",
       "      <td>11.9</td>\n",
       "      <td>0.2</td>\n",
       "      <td>SE</td>\n",
       "      <td>54.0</td>\n",
       "      <td>04:48</td>\n",
       "      <td>8.2</td>\n",
       "      <td>SE</td>\n",
       "      <td>30</td>\n",
       "      <td>11.0</td>\n",
       "      <td>SE</td>\n",
       "      <td>28</td>\n",
       "      <td>89002</td>\n",
       "    </tr>\n",
       "  </tbody>\n",
       "</table>\n",
       "</div>"
      ],
      "text/plain": [
       "         Date  Minimum temperature (°C)  Maximum temperature (°C)  \\\n",
       "0  2022-07-01                       4.8                       9.5   \n",
       "1  2022-07-02                       1.2                      10.0   \n",
       "2  2022-07-03                       4.8                      10.2   \n",
       "3  2022-07-04                       4.9                      11.5   \n",
       "4  2022-07-05                       5.9                      11.9   \n",
       "\n",
       "   Rainfall (mm) Direction of maximum wind gust   \\\n",
       "0            0.2                             SSE   \n",
       "1            0.2                              SE   \n",
       "2            0.0                              SE   \n",
       "3            0.0                             SSE   \n",
       "4            0.2                              SE   \n",
       "\n",
       "   Speed of maximum wind gust (km/h) Time of maximum wind gust  \\\n",
       "0                               35.0                     00:22   \n",
       "1                               44.0                     21:17   \n",
       "2                               57.0                     05:49   \n",
       "3                               57.0                     11:45   \n",
       "4                               54.0                     04:48   \n",
       "\n",
       "   9am Temperature (°C) 9am wind direction  9am wind speed (km/h)  \\\n",
       "0                   6.3                  S                     19   \n",
       "1                   5.5                SSE                     20   \n",
       "2                   6.8                 SE                     31   \n",
       "3                   5.9                SSE                     30   \n",
       "4                   8.2                 SE                     30   \n",
       "\n",
       "   3pm Temperature (°C) 3pm wind direction  3pm wind speed (km/h)  station_id  \n",
       "0                   9.2                  S                     15       89002  \n",
       "1                   8.8                SSE                     28       89002  \n",
       "2                   8.4                SSE                     33       89002  \n",
       "3                  10.5                SSE                     41       89002  \n",
       "4                  11.0                 SE                     28       89002  "
      ]
     },
     "execution_count": 45,
     "metadata": {},
     "output_type": "execute_result"
    }
   ],
   "source": [
    "df1.head()"
   ]
  },
  {
   "cell_type": "code",
   "execution_count": 46,
   "id": "47d51a74",
   "metadata": {},
   "outputs": [
    {
     "data": {
      "text/html": [
       "<div>\n",
       "<style scoped>\n",
       "    .dataframe tbody tr th:only-of-type {\n",
       "        vertical-align: middle;\n",
       "    }\n",
       "\n",
       "    .dataframe tbody tr th {\n",
       "        vertical-align: top;\n",
       "    }\n",
       "\n",
       "    .dataframe thead th {\n",
       "        text-align: right;\n",
       "    }\n",
       "</style>\n",
       "<table border=\"1\" class=\"dataframe\">\n",
       "  <thead>\n",
       "    <tr style=\"text-align: right;\">\n",
       "      <th></th>\n",
       "      <th>incident_datetime</th>\n",
       "      <th>Incident_count</th>\n",
       "    </tr>\n",
       "  </thead>\n",
       "  <tbody>\n",
       "    <tr>\n",
       "      <th>0</th>\n",
       "      <td>2017-07-01</td>\n",
       "      <td>272</td>\n",
       "    </tr>\n",
       "    <tr>\n",
       "      <th>1</th>\n",
       "      <td>2017-07-02</td>\n",
       "      <td>272</td>\n",
       "    </tr>\n",
       "    <tr>\n",
       "      <th>2</th>\n",
       "      <td>2017-07-03</td>\n",
       "      <td>224</td>\n",
       "    </tr>\n",
       "    <tr>\n",
       "      <th>3</th>\n",
       "      <td>2017-07-04</td>\n",
       "      <td>182</td>\n",
       "    </tr>\n",
       "    <tr>\n",
       "      <th>4</th>\n",
       "      <td>2017-07-05</td>\n",
       "      <td>166</td>\n",
       "    </tr>\n",
       "    <tr>\n",
       "      <th>...</th>\n",
       "      <td>...</td>\n",
       "      <td>...</td>\n",
       "    </tr>\n",
       "    <tr>\n",
       "      <th>1821</th>\n",
       "      <td>2022-06-26</td>\n",
       "      <td>63</td>\n",
       "    </tr>\n",
       "    <tr>\n",
       "      <th>1822</th>\n",
       "      <td>2022-06-27</td>\n",
       "      <td>68</td>\n",
       "    </tr>\n",
       "    <tr>\n",
       "      <th>1823</th>\n",
       "      <td>2022-06-28</td>\n",
       "      <td>56</td>\n",
       "    </tr>\n",
       "    <tr>\n",
       "      <th>1824</th>\n",
       "      <td>2022-06-29</td>\n",
       "      <td>63</td>\n",
       "    </tr>\n",
       "    <tr>\n",
       "      <th>1825</th>\n",
       "      <td>2022-06-30</td>\n",
       "      <td>60</td>\n",
       "    </tr>\n",
       "  </tbody>\n",
       "</table>\n",
       "<p>1826 rows × 2 columns</p>\n",
       "</div>"
      ],
      "text/plain": [
       "     incident_datetime  Incident_count\n",
       "0           2017-07-01             272\n",
       "1           2017-07-02             272\n",
       "2           2017-07-03             224\n",
       "3           2017-07-04             182\n",
       "4           2017-07-05             166\n",
       "...                ...             ...\n",
       "1821        2022-06-26              63\n",
       "1822        2022-06-27              68\n",
       "1823        2022-06-28              56\n",
       "1824        2022-06-29              63\n",
       "1825        2022-06-30              60\n",
       "\n",
       "[1826 rows x 2 columns]"
      ]
     },
     "execution_count": 46,
     "metadata": {},
     "output_type": "execute_result"
    }
   ],
   "source": [
    "cfa"
   ]
  },
  {
   "cell_type": "code",
   "execution_count": 5,
   "id": "9ef1d913",
   "metadata": {},
   "outputs": [],
   "source": [
    "CFA_dataset = pd.merge(cfa, df1, left_on=\"incident_datetime\", right_on=\"Date\", how='inner')\n",
    "# going to only combine where there is a date in both columns\n"
   ]
  },
  {
   "cell_type": "code",
   "execution_count": 6,
   "id": "6f96fdbe",
   "metadata": {},
   "outputs": [
    {
     "data": {
      "text/html": [
       "<div>\n",
       "<style scoped>\n",
       "    .dataframe tbody tr th:only-of-type {\n",
       "        vertical-align: middle;\n",
       "    }\n",
       "\n",
       "    .dataframe tbody tr th {\n",
       "        vertical-align: top;\n",
       "    }\n",
       "\n",
       "    .dataframe thead th {\n",
       "        text-align: right;\n",
       "    }\n",
       "</style>\n",
       "<table border=\"1\" class=\"dataframe\">\n",
       "  <thead>\n",
       "    <tr style=\"text-align: right;\">\n",
       "      <th></th>\n",
       "      <th>incident_datetime</th>\n",
       "      <th>Incident_count</th>\n",
       "      <th>Date</th>\n",
       "      <th>Minimum temperature (°C)</th>\n",
       "      <th>Maximum temperature (°C)</th>\n",
       "      <th>Rainfall (mm)</th>\n",
       "      <th>Direction of maximum wind gust</th>\n",
       "      <th>Speed of maximum wind gust (km/h)</th>\n",
       "      <th>Time of maximum wind gust</th>\n",
       "      <th>9am Temperature (°C)</th>\n",
       "      <th>9am wind direction</th>\n",
       "      <th>9am wind speed (km/h)</th>\n",
       "      <th>3pm Temperature (°C)</th>\n",
       "      <th>3pm wind direction</th>\n",
       "      <th>3pm wind speed (km/h)</th>\n",
       "      <th>station_id</th>\n",
       "    </tr>\n",
       "  </thead>\n",
       "  <tbody>\n",
       "    <tr>\n",
       "      <th>0</th>\n",
       "      <td>2018-01-01</td>\n",
       "      <td>324</td>\n",
       "      <td>2018-01-01</td>\n",
       "      <td>12.3</td>\n",
       "      <td>25.4</td>\n",
       "      <td>0.2</td>\n",
       "      <td>S</td>\n",
       "      <td>37.0</td>\n",
       "      <td>17:52</td>\n",
       "      <td>14.9</td>\n",
       "      <td>SSW</td>\n",
       "      <td>15</td>\n",
       "      <td>24.2</td>\n",
       "      <td>W</td>\n",
       "      <td>17</td>\n",
       "      <td>89002</td>\n",
       "    </tr>\n",
       "    <tr>\n",
       "      <th>1</th>\n",
       "      <td>2018-01-02</td>\n",
       "      <td>240</td>\n",
       "      <td>2018-01-02</td>\n",
       "      <td>9.7</td>\n",
       "      <td>21.0</td>\n",
       "      <td>0.0</td>\n",
       "      <td>SSW</td>\n",
       "      <td>43.0</td>\n",
       "      <td>19:07</td>\n",
       "      <td>14.4</td>\n",
       "      <td>S</td>\n",
       "      <td>17</td>\n",
       "      <td>20.3</td>\n",
       "      <td>SW</td>\n",
       "      <td>20</td>\n",
       "      <td>89002</td>\n",
       "    </tr>\n",
       "    <tr>\n",
       "      <th>2</th>\n",
       "      <td>2018-01-03</td>\n",
       "      <td>264</td>\n",
       "      <td>2018-01-03</td>\n",
       "      <td>9.3</td>\n",
       "      <td>22.8</td>\n",
       "      <td>0.0</td>\n",
       "      <td>S</td>\n",
       "      <td>44.0</td>\n",
       "      <td>14:24</td>\n",
       "      <td>12.9</td>\n",
       "      <td>S</td>\n",
       "      <td>20</td>\n",
       "      <td>21.3</td>\n",
       "      <td>S</td>\n",
       "      <td>22</td>\n",
       "      <td>89002</td>\n",
       "    </tr>\n",
       "    <tr>\n",
       "      <th>3</th>\n",
       "      <td>2018-01-04</td>\n",
       "      <td>244</td>\n",
       "      <td>2018-01-04</td>\n",
       "      <td>10.5</td>\n",
       "      <td>27.4</td>\n",
       "      <td>0.0</td>\n",
       "      <td>S</td>\n",
       "      <td>39.0</td>\n",
       "      <td>18:32</td>\n",
       "      <td>16.3</td>\n",
       "      <td>SSW</td>\n",
       "      <td>9</td>\n",
       "      <td>25.5</td>\n",
       "      <td>S</td>\n",
       "      <td>15</td>\n",
       "      <td>89002</td>\n",
       "    </tr>\n",
       "    <tr>\n",
       "      <th>4</th>\n",
       "      <td>2018-01-05</td>\n",
       "      <td>280</td>\n",
       "      <td>2018-01-05</td>\n",
       "      <td>11.9</td>\n",
       "      <td>32.2</td>\n",
       "      <td>0.0</td>\n",
       "      <td>WNW</td>\n",
       "      <td>35.0</td>\n",
       "      <td>12:55</td>\n",
       "      <td>19.4</td>\n",
       "      <td>SE</td>\n",
       "      <td>7</td>\n",
       "      <td>30.8</td>\n",
       "      <td>W</td>\n",
       "      <td>24</td>\n",
       "      <td>89002</td>\n",
       "    </tr>\n",
       "  </tbody>\n",
       "</table>\n",
       "</div>"
      ],
      "text/plain": [
       "  incident_datetime  Incident_count        Date  Minimum temperature (°C)  \\\n",
       "0        2018-01-01             324  2018-01-01                      12.3   \n",
       "1        2018-01-02             240  2018-01-02                       9.7   \n",
       "2        2018-01-03             264  2018-01-03                       9.3   \n",
       "3        2018-01-04             244  2018-01-04                      10.5   \n",
       "4        2018-01-05             280  2018-01-05                      11.9   \n",
       "\n",
       "   Maximum temperature (°C)  Rainfall (mm) Direction of maximum wind gust   \\\n",
       "0                      25.4            0.2                               S   \n",
       "1                      21.0            0.0                             SSW   \n",
       "2                      22.8            0.0                               S   \n",
       "3                      27.4            0.0                               S   \n",
       "4                      32.2            0.0                             WNW   \n",
       "\n",
       "   Speed of maximum wind gust (km/h) Time of maximum wind gust  \\\n",
       "0                               37.0                     17:52   \n",
       "1                               43.0                     19:07   \n",
       "2                               44.0                     14:24   \n",
       "3                               39.0                     18:32   \n",
       "4                               35.0                     12:55   \n",
       "\n",
       "   9am Temperature (°C) 9am wind direction  9am wind speed (km/h)  \\\n",
       "0                  14.9                SSW                     15   \n",
       "1                  14.4                  S                     17   \n",
       "2                  12.9                  S                     20   \n",
       "3                  16.3                SSW                      9   \n",
       "4                  19.4                 SE                      7   \n",
       "\n",
       "   3pm Temperature (°C) 3pm wind direction  3pm wind speed (km/h)  station_id  \n",
       "0                  24.2                  W                     17       89002  \n",
       "1                  20.3                 SW                     20       89002  \n",
       "2                  21.3                  S                     22       89002  \n",
       "3                  25.5                  S                     15       89002  \n",
       "4                  30.8                  W                     24       89002  "
      ]
     },
     "execution_count": 6,
     "metadata": {},
     "output_type": "execute_result"
    }
   ],
   "source": [
    "CFA_dataset.head()"
   ]
  },
  {
   "cell_type": "code",
   "execution_count": 7,
   "id": "25b63cf0",
   "metadata": {},
   "outputs": [
    {
     "data": {
      "text/html": [
       "<div>\n",
       "<style scoped>\n",
       "    .dataframe tbody tr th:only-of-type {\n",
       "        vertical-align: middle;\n",
       "    }\n",
       "\n",
       "    .dataframe tbody tr th {\n",
       "        vertical-align: top;\n",
       "    }\n",
       "\n",
       "    .dataframe thead th {\n",
       "        text-align: right;\n",
       "    }\n",
       "</style>\n",
       "<table border=\"1\" class=\"dataframe\">\n",
       "  <thead>\n",
       "    <tr style=\"text-align: right;\">\n",
       "      <th></th>\n",
       "      <th>Incident_count</th>\n",
       "      <th>Minimum temperature (°C)</th>\n",
       "      <th>Maximum temperature (°C)</th>\n",
       "      <th>Rainfall (mm)</th>\n",
       "      <th>Speed of maximum wind gust (km/h)</th>\n",
       "      <th>9am Temperature (°C)</th>\n",
       "      <th>9am wind speed (km/h)</th>\n",
       "      <th>3pm Temperature (°C)</th>\n",
       "      <th>3pm wind speed (km/h)</th>\n",
       "      <th>station_id</th>\n",
       "    </tr>\n",
       "  </thead>\n",
       "  <tbody>\n",
       "    <tr>\n",
       "      <th>count</th>\n",
       "      <td>1634.000000</td>\n",
       "      <td>1634.000000</td>\n",
       "      <td>1634.000000</td>\n",
       "      <td>1634.000000</td>\n",
       "      <td>1634.000000</td>\n",
       "      <td>1634.000000</td>\n",
       "      <td>1634.000000</td>\n",
       "      <td>1634.000000</td>\n",
       "      <td>1634.000000</td>\n",
       "      <td>1634.0</td>\n",
       "    </tr>\n",
       "    <tr>\n",
       "      <th>mean</th>\n",
       "      <td>121.904529</td>\n",
       "      <td>7.533048</td>\n",
       "      <td>18.355692</td>\n",
       "      <td>1.693146</td>\n",
       "      <td>45.686047</td>\n",
       "      <td>11.688862</td>\n",
       "      <td>20.580171</td>\n",
       "      <td>16.912729</td>\n",
       "      <td>23.218482</td>\n",
       "      <td>89002.0</td>\n",
       "    </tr>\n",
       "    <tr>\n",
       "      <th>std</th>\n",
       "      <td>63.662792</td>\n",
       "      <td>4.722733</td>\n",
       "      <td>7.183329</td>\n",
       "      <td>4.460253</td>\n",
       "      <td>13.590547</td>\n",
       "      <td>5.357024</td>\n",
       "      <td>9.465055</td>\n",
       "      <td>6.992087</td>\n",
       "      <td>9.156428</td>\n",
       "      <td>0.0</td>\n",
       "    </tr>\n",
       "    <tr>\n",
       "      <th>min</th>\n",
       "      <td>40.000000</td>\n",
       "      <td>-3.800000</td>\n",
       "      <td>4.200000</td>\n",
       "      <td>0.000000</td>\n",
       "      <td>0.000000</td>\n",
       "      <td>0.100000</td>\n",
       "      <td>0.000000</td>\n",
       "      <td>2.900000</td>\n",
       "      <td>0.000000</td>\n",
       "      <td>89002.0</td>\n",
       "    </tr>\n",
       "    <tr>\n",
       "      <th>25%</th>\n",
       "      <td>83.000000</td>\n",
       "      <td>4.300000</td>\n",
       "      <td>12.400000</td>\n",
       "      <td>0.000000</td>\n",
       "      <td>37.000000</td>\n",
       "      <td>7.700000</td>\n",
       "      <td>13.000000</td>\n",
       "      <td>11.200000</td>\n",
       "      <td>17.000000</td>\n",
       "      <td>89002.0</td>\n",
       "    </tr>\n",
       "    <tr>\n",
       "      <th>50%</th>\n",
       "      <td>104.000000</td>\n",
       "      <td>7.000000</td>\n",
       "      <td>17.100000</td>\n",
       "      <td>0.000000</td>\n",
       "      <td>44.000000</td>\n",
       "      <td>10.800000</td>\n",
       "      <td>20.000000</td>\n",
       "      <td>15.800000</td>\n",
       "      <td>22.000000</td>\n",
       "      <td>89002.0</td>\n",
       "    </tr>\n",
       "    <tr>\n",
       "      <th>75%</th>\n",
       "      <td>136.000000</td>\n",
       "      <td>10.600000</td>\n",
       "      <td>23.100000</td>\n",
       "      <td>1.000000</td>\n",
       "      <td>54.000000</td>\n",
       "      <td>14.900000</td>\n",
       "      <td>28.000000</td>\n",
       "      <td>21.375000</td>\n",
       "      <td>30.000000</td>\n",
       "      <td>89002.0</td>\n",
       "    </tr>\n",
       "    <tr>\n",
       "      <th>max</th>\n",
       "      <td>530.000000</td>\n",
       "      <td>24.700000</td>\n",
       "      <td>43.500000</td>\n",
       "      <td>46.800000</td>\n",
       "      <td>107.000000</td>\n",
       "      <td>32.600000</td>\n",
       "      <td>54.000000</td>\n",
       "      <td>40.000000</td>\n",
       "      <td>61.000000</td>\n",
       "      <td>89002.0</td>\n",
       "    </tr>\n",
       "  </tbody>\n",
       "</table>\n",
       "</div>"
      ],
      "text/plain": [
       "       Incident_count  Minimum temperature (°C)  Maximum temperature (°C)  \\\n",
       "count     1634.000000               1634.000000               1634.000000   \n",
       "mean       121.904529                  7.533048                 18.355692   \n",
       "std         63.662792                  4.722733                  7.183329   \n",
       "min         40.000000                 -3.800000                  4.200000   \n",
       "25%         83.000000                  4.300000                 12.400000   \n",
       "50%        104.000000                  7.000000                 17.100000   \n",
       "75%        136.000000                 10.600000                 23.100000   \n",
       "max        530.000000                 24.700000                 43.500000   \n",
       "\n",
       "       Rainfall (mm)  Speed of maximum wind gust (km/h)  9am Temperature (°C)  \\\n",
       "count    1634.000000                        1634.000000           1634.000000   \n",
       "mean        1.693146                          45.686047             11.688862   \n",
       "std         4.460253                          13.590547              5.357024   \n",
       "min         0.000000                           0.000000              0.100000   \n",
       "25%         0.000000                          37.000000              7.700000   \n",
       "50%         0.000000                          44.000000             10.800000   \n",
       "75%         1.000000                          54.000000             14.900000   \n",
       "max        46.800000                         107.000000             32.600000   \n",
       "\n",
       "       9am wind speed (km/h)  3pm Temperature (°C)  3pm wind speed (km/h)  \\\n",
       "count            1634.000000           1634.000000            1634.000000   \n",
       "mean               20.580171             16.912729              23.218482   \n",
       "std                 9.465055              6.992087               9.156428   \n",
       "min                 0.000000              2.900000               0.000000   \n",
       "25%                13.000000             11.200000              17.000000   \n",
       "50%                20.000000             15.800000              22.000000   \n",
       "75%                28.000000             21.375000              30.000000   \n",
       "max                54.000000             40.000000              61.000000   \n",
       "\n",
       "       station_id  \n",
       "count      1634.0  \n",
       "mean      89002.0  \n",
       "std           0.0  \n",
       "min       89002.0  \n",
       "25%       89002.0  \n",
       "50%       89002.0  \n",
       "75%       89002.0  \n",
       "max       89002.0  "
      ]
     },
     "execution_count": 7,
     "metadata": {},
     "output_type": "execute_result"
    }
   ],
   "source": [
    "CFA_dataset.describe()\n"
   ]
  },
  {
   "cell_type": "code",
   "execution_count": 8,
   "id": "c3a98b81",
   "metadata": {},
   "outputs": [
    {
     "name": "stdout",
     "output_type": "stream",
     "text": [
      "<class 'pandas.core.frame.DataFrame'>\n",
      "Int64Index: 1634 entries, 0 to 1633\n",
      "Data columns (total 16 columns):\n",
      " #   Column                             Non-Null Count  Dtype  \n",
      "---  ------                             --------------  -----  \n",
      " 0   incident_datetime                  1634 non-null   object \n",
      " 1   Incident_count                     1634 non-null   int64  \n",
      " 2   Date                               1634 non-null   object \n",
      " 3   Minimum temperature (°C)           1634 non-null   float64\n",
      " 4   Maximum temperature (°C)           1634 non-null   float64\n",
      " 5   Rainfall (mm)                      1634 non-null   float64\n",
      " 6   Direction of maximum wind gust     1634 non-null   object \n",
      " 7   Speed of maximum wind gust (km/h)  1634 non-null   float64\n",
      " 8   Time of maximum wind gust          1634 non-null   object \n",
      " 9   9am Temperature (°C)               1634 non-null   float64\n",
      " 10  9am wind direction                 1634 non-null   object \n",
      " 11  9am wind speed (km/h)              1634 non-null   int64  \n",
      " 12  3pm Temperature (°C)               1634 non-null   float64\n",
      " 13  3pm wind direction                 1634 non-null   object \n",
      " 14  3pm wind speed (km/h)              1634 non-null   int64  \n",
      " 15  station_id                         1634 non-null   int64  \n",
      "dtypes: float64(6), int64(4), object(6)\n",
      "memory usage: 217.0+ KB\n"
     ]
    }
   ],
   "source": [
    "CFA_dataset.info()"
   ]
  },
  {
   "cell_type": "code",
   "execution_count": null,
   "id": "7576ecd4",
   "metadata": {},
   "outputs": [],
   "source": []
  },
  {
   "cell_type": "code",
   "execution_count": 9,
   "id": "0bcd29fd",
   "metadata": {},
   "outputs": [],
   "source": [
    "# enc = OneHotEncoder(handle_unknown='ignore')\n",
    "# enc_arr = enc.fit_transform(CFA_dataset[['Direction of maximum wind gust ']])\n",
    "# column_names = enc.get_feature_names_out(input_features=['Direction of maximum wind gust '])\n",
    "\n",
    "# enc_df = pd.DataFrame(enc_arr.toarray(), columns=column_names)\n",
    "\n",
    "# CFA_dataset = CFA_dataset.join(enc_df)\n",
    "# CFA_dataset"
   ]
  },
  {
   "cell_type": "code",
   "execution_count": 10,
   "id": "3a95f5a6",
   "metadata": {},
   "outputs": [
    {
     "name": "stdout",
     "output_type": "stream",
     "text": [
      "Index(['incident_datetime', 'Incident_count', 'Date',\n",
      "       'Minimum temperature (°C)', 'Maximum temperature (°C)', 'Rainfall (mm)',\n",
      "       'Direction of maximum wind gust ', 'Speed of maximum wind gust (km/h)',\n",
      "       'Time of maximum wind gust', '9am Temperature (°C)',\n",
      "       '9am wind direction', '9am wind speed (km/h)', '3pm Temperature (°C)',\n",
      "       '3pm wind direction', '3pm wind speed (km/h)', 'station_id'],\n",
      "      dtype='object')\n"
     ]
    }
   ],
   "source": [
    "print(CFA_dataset.columns)"
   ]
  },
  {
   "cell_type": "code",
   "execution_count": 11,
   "id": "0d925f93",
   "metadata": {},
   "outputs": [],
   "source": [
    "columns_to_drop = ['incident_datetime', 'Date',\\\n",
    "                   '9am Temperature (°C)', 'Direction of maximum wind gust ',\\\n",
    "       '9am wind direction', '9am wind speed (km/h)', '3pm Temperature (°C)',\\\n",
    "       '3pm wind direction', '3pm wind speed (km/h)', 'station_id']\n",
    "CFA_dataset = CFA_dataset.drop(columns_to_drop, axis=1)"
   ]
  },
  {
   "cell_type": "code",
   "execution_count": 12,
   "id": "e040496f",
   "metadata": {},
   "outputs": [
    {
     "name": "stdout",
     "output_type": "stream",
     "text": [
      "      Incident_count  Minimum temperature (°C)  Maximum temperature (°C)  \\\n",
      "0                324                      12.3                      25.4   \n",
      "1                240                       9.7                      21.0   \n",
      "2                264                       9.3                      22.8   \n",
      "3                244                      10.5                      27.4   \n",
      "4                280                      11.9                      32.2   \n",
      "...              ...                       ...                       ...   \n",
      "1629              63                       5.6                      10.0   \n",
      "1630              68                      -0.5                       9.9   \n",
      "1631              56                      -0.1                      10.1   \n",
      "1632              63                       2.2                       7.4   \n",
      "1633              60                       1.8                      11.9   \n",
      "\n",
      "      Rainfall (mm)  Speed of maximum wind gust (km/h)  \\\n",
      "0               0.2                               37.0   \n",
      "1               0.0                               43.0   \n",
      "2               0.0                               44.0   \n",
      "3               0.0                               39.0   \n",
      "4               0.0                               35.0   \n",
      "...             ...                                ...   \n",
      "1629            0.4                               43.0   \n",
      "1630            3.6                               28.0   \n",
      "1631            0.0                               43.0   \n",
      "1632            0.2                               46.0   \n",
      "1633            0.0                               31.0   \n",
      "\n",
      "     Time of maximum wind gust  \n",
      "0                        17:52  \n",
      "1                        19:07  \n",
      "2                        14:24  \n",
      "3                        18:32  \n",
      "4                        12:55  \n",
      "...                        ...  \n",
      "1629                     15:14  \n",
      "1630                     11:18  \n",
      "1631                     12:15  \n",
      "1632                     11:40  \n",
      "1633                     23:58  \n",
      "\n",
      "[1634 rows x 6 columns]\n"
     ]
    }
   ],
   "source": [
    "print(CFA_dataset)"
   ]
  },
  {
   "cell_type": "code",
   "execution_count": 13,
   "id": "3fb2b493",
   "metadata": {},
   "outputs": [
    {
     "data": {
      "text/plain": [
       "<Axes: >"
      ]
     },
     "execution_count": 13,
     "metadata": {},
     "output_type": "execute_result"
    },
    {
     "data": {
      "image/png": "[encoded data removed]",
      "text/plain": [
       "<Figure size 640x480 with 1 Axes>"
      ]
     },
     "metadata": {},
     "output_type": "display_data"
    }
   ],
   "source": [
    "CFA_dataset['Maximum temperature (°C)'].plot()"
   ]
  },
  {
   "cell_type": "code",
   "execution_count": 14,
   "id": "6e74265e",
   "metadata": {},
   "outputs": [
    {
     "data": {
      "text/plain": [
       "<Axes: >"
      ]
     },
     "execution_count": 14,
     "metadata": {},
     "output_type": "execute_result"
    },
    {
     "data": {
      "image/png": "[encoded data removed]",
      "text/plain": [
       "<Figure size 640x480 with 1 Axes>"
      ]
     },
     "metadata": {},
     "output_type": "display_data"
    }
   ],
   "source": [
    "CFA_dataset['Speed of maximum wind gust (km/h)'].plot()"
   ]
  },
  {
   "cell_type": "code",
   "execution_count": 17,
   "id": "d6ec2c27",
   "metadata": {
    "scrolled": true
   },
   "outputs": [
    {
     "data": {
      "text/plain": [
       "<Axes: >"
      ]
     },
     "execution_count": 17,
     "metadata": {},
     "output_type": "execute_result"
    },
    {
     "data": {
      "image/png": "[encoded data removed]",
      "text/plain": [
       "<Figure size 640x480 with 1 Axes>"
      ]
     },
     "metadata": {},
     "output_type": "display_data"
    }
   ],
   "source": [
    "CFA_dataset[['Incident_count','Maximum temperature (°C)','Speed of maximum wind gust (km/h)']].plot()"
   ]
  },
  {
   "cell_type": "code",
   "execution_count": 18,
   "id": "4c0dd656",
   "metadata": {},
   "outputs": [
    {
     "name": "stdout",
     "output_type": "stream",
     "text": [
      "Intercept: \n",
      " [38.3102943]\n",
      "Coefficients: \n",
      " [[3.81406094 0.2973448 ]]\n",
      "                            OLS Regression Results                            \n",
      "==============================================================================\n",
      "Dep. Variable:         Incident_count   R-squared:                       0.194\n",
      "Model:                            OLS   Adj. R-squared:                  0.193\n",
      "Method:                 Least Squares   F-statistic:                     196.4\n",
      "Date:                Wed, 08 Nov 2023   Prob (F-statistic):           3.63e-77\n",
      "Time:                        10:30:43   Log-Likelihood:                -8928.7\n",
      "No. Observations:                1634   AIC:                         1.786e+04\n",
      "Df Residuals:                    1631   BIC:                         1.788e+04\n",
      "Df Model:                           2                                         \n",
      "Covariance Type:            nonrobust                                         \n",
      "=====================================================================================================\n",
      "                                        coef    std err          t      P>|t|      [0.025      0.975]\n",
      "-----------------------------------------------------------------------------------------------------\n",
      "const                                38.3103      5.907      6.486      0.000      26.725      49.896\n",
      "Maximum temperature (°C)              3.8141      0.198     19.283      0.000       3.426       4.202\n",
      "Speed of maximum wind gust (km/h)     0.2973      0.105      2.844      0.005       0.092       0.502\n",
      "==============================================================================\n",
      "Omnibus:                      675.066   Durbin-Watson:                   0.313\n",
      "Prob(Omnibus):                  0.000   Jarque-Bera (JB):             2803.229\n",
      "Skew:                           1.996   Prob(JB):                         0.00\n",
      "Kurtosis:                       8.023   Cond. No.                         213.\n",
      "==============================================================================\n",
      "\n",
      "Notes:\n",
      "[1] Standard Errors assume that the covariance matrix of the errors is correctly specified.\n"
     ]
    }
   ],
   "source": [
    "px = CFA_dataset[['Maximum temperature (°C)','Speed of maximum wind gust (km/h)']]\n",
    "py = CFA_dataset[['Incident_count']]\n",
    "\n",
    "regr = linear_model.LinearRegression()\n",
    "regr.fit(px, py)\n",
    "\n",
    "print('Intercept: \\n', regr.intercept_)\n",
    "print('Coefficients: \\n', regr.coef_)\n",
    "\n",
    "px = sm.add_constant(px) # adding a constant\n",
    " \n",
    "model = sm.OLS(py, px).fit()\n",
    "predictions = model.predict(px) \n",
    " \n",
    "print_model = model.summary()\n",
    "print(print_model)\n",
    "\n"
   ]
  },
  {
   "cell_type": "code",
   "execution_count": 19,
   "id": "d3d1e9cb",
   "metadata": {},
   "outputs": [
    {
     "name": "stdout",
     "output_type": "stream",
     "text": [
      "Intercept: \n",
      " [83.31416426]\n",
      "Coefficients: \n",
      " [[ 1.19864242 -0.64302201  0.05424712]]\n",
      "                            OLS Regression Results                            \n",
      "==============================================================================\n",
      "Dep. Variable:         Incident_count   R-squared:                       0.202\n",
      "Model:                            OLS   Adj. R-squared:                  0.201\n",
      "Method:                 Least Squares   F-statistic:                     137.5\n",
      "Date:                Wed, 08 Nov 2023   Prob (F-statistic):           2.02e-79\n",
      "Time:                        10:30:48   Log-Likelihood:                -8920.7\n",
      "No. Observations:                1634   AIC:                         1.785e+04\n",
      "Df Residuals:                    1630   BIC:                         1.787e+04\n",
      "Df Model:                           3                                         \n",
      "Covariance Type:            nonrobust                                         \n",
      "=====================================================================================================\n",
      "                                        coef    std err          t      P>|t|      [0.025      0.975]\n",
      "-----------------------------------------------------------------------------------------------------\n",
      "const                                83.3142     12.685      6.568      0.000      58.433     108.196\n",
      "Maximum temperature (°C)              1.1986      0.682      1.757      0.079      -0.140       2.537\n",
      "Speed of maximum wind gust (km/h)    -0.6430      0.257     -2.503      0.012      -1.147      -0.139\n",
      "CrossProduct                          0.0542      0.014      4.004      0.000       0.028       0.081\n",
      "==============================================================================\n",
      "Omnibus:                      666.875   Durbin-Watson:                   0.302\n",
      "Prob(Omnibus):                  0.000   Jarque-Bera (JB):             2691.466\n",
      "Skew:                           1.982   Prob(JB):                         0.00\n",
      "Kurtosis:                       7.881   Cond. No.                     8.66e+03\n",
      "==============================================================================\n",
      "\n",
      "Notes:\n",
      "[1] Standard Errors assume that the covariance matrix of the errors is correctly specified.\n",
      "[2] The condition number is large, 8.66e+03. This might indicate that there are\n",
      "strong multicollinearity or other numerical problems.\n"
     ]
    }
   ],
   "source": [
    "\n",
    "px = CFA_dataset[['Maximum temperature (°C)','Speed of maximum wind gust (km/h)']]\n",
    "px['CrossProduct'] = px['Maximum temperature (°C)']*px['Speed of maximum wind gust (km/h)']\n",
    "\n",
    "\n",
    "py = CFA_dataset[['Incident_count']]\n",
    "\n",
    "regr = linear_model.LinearRegression()\n",
    "regr.fit(px, py)\n",
    "\n",
    "print('Intercept: \\n', regr.intercept_)\n",
    "print('Coefficients: \\n', regr.coef_)\n",
    "\n",
    "px = sm.add_constant(px) # adding a constant\n",
    " \n",
    "model = sm.OLS(py, px).fit()\n",
    "predictions = model.predict(px) \n",
    " \n",
    "print_model = model.summary()\n",
    "print(print_model)"
   ]
  },
  {
   "cell_type": "code",
   "execution_count": 20,
   "id": "9cfefe44",
   "metadata": {},
   "outputs": [
    {
     "data": {
      "text/plain": [
       "Index(['Incident_count', 'Minimum temperature (°C)',\n",
       "       'Maximum temperature (°C)', 'Rainfall (mm)',\n",
       "       'Speed of maximum wind gust (km/h)', 'Time of maximum wind gust'],\n",
       "      dtype='object')"
      ]
     },
     "execution_count": 20,
     "metadata": {},
     "output_type": "execute_result"
    }
   ],
   "source": [
    "CFA_dataset.columns"
   ]
  },
  {
   "cell_type": "code",
   "execution_count": null,
   "id": "ad4099cc",
   "metadata": {},
   "outputs": [],
   "source": [
    "# px = CFA_dataset[['Maximum temperature (°C)','Speed of maximum wind gust (km/h)']]\n",
    "# px['CrossProduct'] = px['Maximum temperature (°C)']*px['Speed of maximum wind gust (km/h)']\n",
    "# px['CrossProduct'] = px['Rainfall (mm)']*px['Speed of maximum wind gust (km/h)']\n",
    "\n",
    "# py = CFA_dataset[['Incident_count']]\n",
    "\n",
    "# regr = linear_model.LinearRegression()\n",
    "# regr.fit(px, py)\n",
    "\n",
    "# print('Intercept: \\n', regr.intercept_)\n",
    "# print('Coefficients: \\n', regr.coef_)\n",
    "\n",
    "# px = sm.add_constant(px) # adding a constant\n",
    " \n",
    "# model = sm.OLS(py, px).fit()\n",
    "# predictions = model.predict(px) \n",
    " \n",
    "# print_model = model.summary()\n",
    "# print(print_model)"
   ]
  },
  {
   "cell_type": "code",
   "execution_count": null,
   "id": "d5133f6e",
   "metadata": {},
   "outputs": [],
   "source": [
    "# px = CFA_dataset[['Ball_Maximum temperature (°C)','Ball_Speed of maximum wind gust (km/h)','Fern_Maximum temperature (°C)','Fern_Speed of maximum wind gust (km/h)','Wang_Maximum temperature (°C)','Wang_Speed of maximum wind gust (km/h)']]\n",
    "# px.loc[:,'Ball_CrossProduct'] = px['Ball_Maximum temperature (°C)']*px['Ball_Speed of maximum wind gust (km/h)']\n",
    "# px.loc[:,'Fern_CrossProduct'] = px['Fern_Maximum temperature (°C)']*px['Fern_Speed of maximum wind gust (km/h)']\n",
    "# px.loc[:,'Wang_CrossProduct'] = px['Wang_Maximum temperature (°C)']*px['Wang_Speed of maximum wind gust (km/h)']\n",
    "\n",
    "# py = CFA_dataset[['Incident_count']]\n",
    "\n",
    "# X=[[0, 0], [1, 1]] #Need to get X and y values from own data, this is just to get the model set up.\n",
    "# y=[0, 1]\n",
    "\n",
    "# reg = linear_model.Lasso(alpha=0.1)\n",
    "# reg.fit(X,y)\n",
    "\n",
    "\n",
    "# prediction = reg.predict(X)\n",
    "# print(prediction)"
   ]
  },
  {
   "cell_type": "code",
   "execution_count": null,
   "id": "e4d3a35a",
   "metadata": {},
   "outputs": [],
   "source": [
    "# enc = OneHotEncoder(handle_unknown='ignore')\n",
    "# enc_arr = enc.fit_transform(CFA_dataset[['Direction of maximum wind gust ']])\n",
    "# column_names = enc.get_feature_names_out(input_features=['Direction of maximum wind gust '])\n",
    "\n",
    "# enc_df = pd.DataFrame(enc_arr.toarray(), columns=column_names)\n",
    "\n",
    "# CFA_dataset = CFA_dataset.join(enc_df)\n",
    "# CFA_dataset"
   ]
  },
  {
   "cell_type": "code",
   "execution_count": 27,
   "id": "7ec5363f",
   "metadata": {},
   "outputs": [
    {
     "data": {
      "text/html": [
       "<div>\n",
       "<style scoped>\n",
       "    .dataframe tbody tr th:only-of-type {\n",
       "        vertical-align: middle;\n",
       "    }\n",
       "\n",
       "    .dataframe tbody tr th {\n",
       "        vertical-align: top;\n",
       "    }\n",
       "\n",
       "    .dataframe thead th {\n",
       "        text-align: right;\n",
       "    }\n",
       "</style>\n",
       "<table border=\"1\" class=\"dataframe\">\n",
       "  <thead>\n",
       "    <tr style=\"text-align: right;\">\n",
       "      <th></th>\n",
       "      <th>Minimum temperature (°C)</th>\n",
       "      <th>Maximum temperature (°C)</th>\n",
       "      <th>Rainfall (mm)</th>\n",
       "      <th>Speed of maximum wind gust (km/h)</th>\n",
       "    </tr>\n",
       "  </thead>\n",
       "  <tbody>\n",
       "    <tr>\n",
       "      <th>0</th>\n",
       "      <td>12.3</td>\n",
       "      <td>25.4</td>\n",
       "      <td>0.2</td>\n",
       "      <td>37.0</td>\n",
       "    </tr>\n",
       "    <tr>\n",
       "      <th>1</th>\n",
       "      <td>9.7</td>\n",
       "      <td>21.0</td>\n",
       "      <td>0.0</td>\n",
       "      <td>43.0</td>\n",
       "    </tr>\n",
       "    <tr>\n",
       "      <th>2</th>\n",
       "      <td>9.3</td>\n",
       "      <td>22.8</td>\n",
       "      <td>0.0</td>\n",
       "      <td>44.0</td>\n",
       "    </tr>\n",
       "    <tr>\n",
       "      <th>3</th>\n",
       "      <td>10.5</td>\n",
       "      <td>27.4</td>\n",
       "      <td>0.0</td>\n",
       "      <td>39.0</td>\n",
       "    </tr>\n",
       "    <tr>\n",
       "      <th>4</th>\n",
       "      <td>11.9</td>\n",
       "      <td>32.2</td>\n",
       "      <td>0.0</td>\n",
       "      <td>35.0</td>\n",
       "    </tr>\n",
       "  </tbody>\n",
       "</table>\n",
       "</div>"
      ],
      "text/plain": [
       "   Minimum temperature (°C)  Maximum temperature (°C)  Rainfall (mm)  \\\n",
       "0                      12.3                      25.4            0.2   \n",
       "1                       9.7                      21.0            0.0   \n",
       "2                       9.3                      22.8            0.0   \n",
       "3                      10.5                      27.4            0.0   \n",
       "4                      11.9                      32.2            0.0   \n",
       "\n",
       "   Speed of maximum wind gust (km/h)  \n",
       "0                               37.0  \n",
       "1                               43.0  \n",
       "2                               44.0  \n",
       "3                               39.0  \n",
       "4                               35.0  "
      ]
     },
     "execution_count": 27,
     "metadata": {},
     "output_type": "execute_result"
    }
   ],
   "source": [
    "X = CFA_dataset.copy()\n",
    "columns_dropped = [\"Incident_count\", \"Time of maximum wind gust\"]\n",
    "X.drop(columns_dropped, axis=1, inplace=True)\n",
    "X.head()"
   ]
  },
  {
   "cell_type": "code",
   "execution_count": 28,
   "id": "1a0381b8",
   "metadata": {},
   "outputs": [
    {
     "data": {
      "text/plain": [
       "array([324, 240, 264, 244, 280], dtype=int64)"
      ]
     },
     "execution_count": 28,
     "metadata": {},
     "output_type": "execute_result"
    }
   ],
   "source": [
    "ya = CFA_dataset[\"Incident_count\"].ravel()\n",
    "ya[:5]\n"
   ]
  },
  {
   "cell_type": "code",
   "execution_count": 29,
   "id": "806f8f93",
   "metadata": {},
   "outputs": [],
   "source": [
    "# Splitting into Train and Test sets\n",
    "X_train, X_test, ya_train, ya_test = train_test_split(X, ya, random_state=78)"
   ]
  },
  {
   "cell_type": "code",
   "execution_count": 30,
   "id": "368563ac",
   "metadata": {},
   "outputs": [],
   "source": [
    "# Creating StandardScaler instance\n",
    "scaler = StandardScaler()"
   ]
  },
  {
   "cell_type": "code",
   "execution_count": 31,
   "id": "2c3fbe59",
   "metadata": {},
   "outputs": [],
   "source": [
    "# Fitting Standard Scaler\n",
    "X_scaler = scaler.fit(X_train)"
   ]
  },
  {
   "cell_type": "code",
   "execution_count": 32,
   "id": "e8dfd354",
   "metadata": {},
   "outputs": [
    {
     "name": "stdout",
     "output_type": "stream",
     "text": [
      "[[ 1.90340612  1.93970629 -0.37916126 -0.3743829 ]\n",
      " [-1.19146603 -0.91480606 -0.29680797 -1.61983399]\n",
      " [-0.91961915 -1.48019256 -0.33798462  0.28497356]\n",
      " ...\n",
      " [ 1.67338183  1.663908   -0.37916126  1.67694832]\n",
      " [ 2.00796261  1.36052987 -0.37916126  0.28497356]\n",
      " [ 0.23050225  0.47797533 -0.37916126 -0.15459741]]\n"
     ]
    }
   ],
   "source": [
    "# Scaling data\n",
    "X_train_scaled = X_scaler.transform(X_train)\n",
    "X_test_scaled = X_scaler.transform(X_test)\n",
    "print(X_train_scaled)"
   ]
  },
  {
   "cell_type": "code",
   "execution_count": 33,
   "id": "52d025b6",
   "metadata": {},
   "outputs": [],
   "source": [
    "from sklearn.linear_model import LinearRegression"
   ]
  },
  {
   "cell_type": "code",
   "execution_count": 34,
   "id": "ea3f00e7",
   "metadata": {},
   "outputs": [],
   "source": [
    "linear = LinearRegression()"
   ]
  },
  {
   "cell_type": "code",
   "execution_count": 35,
   "id": "c17faa6e",
   "metadata": {},
   "outputs": [
    {
     "data": {
      "text/html": [
       "<style>#sk-container-id-1 {color: black;}#sk-container-id-1 pre{padding: 0;}#sk-container-id-1 div.sk-toggleable {background-color: white;}#sk-container-id-1 label.sk-toggleable__label {cursor: pointer;display: block;width: 100%;margin-bottom: 0;padding: 0.3em;box-sizing: border-box;text-align: center;}#sk-container-id-1 label.sk-toggleable__label-arrow:before {content: \"▸\";float: left;margin-right: 0.25em;color: #696969;}#sk-container-id-1 label.sk-toggleable__label-arrow:hover:before {color: black;}#sk-container-id-1 div.sk-estimator:hover label.sk-toggleable__label-arrow:before {color: black;}#sk-container-id-1 div.sk-toggleable__content {max-height: 0;max-width: 0;overflow: hidden;text-align: left;background-color: #f0f8ff;}#sk-container-id-1 div.sk-toggleable__content pre {margin: 0.2em;color: black;border-radius: 0.25em;background-color: #f0f8ff;}#sk-container-id-1 input.sk-toggleable__control:checked~div.sk-toggleable__content {max-height: 200px;max-width: 100%;overflow: auto;}#sk-container-id-1 input.sk-toggleable__control:checked~label.sk-toggleable__label-arrow:before {content: \"▾\";}#sk-container-id-1 div.sk-estimator input.sk-toggleable__control:checked~label.sk-toggleable__label {background-color: #d4ebff;}#sk-container-id-1 div.sk-label input.sk-toggleable__control:checked~label.sk-toggleable__label {background-color: #d4ebff;}#sk-container-id-1 input.sk-hidden--visually {border: 0;clip: rect(1px 1px 1px 1px);clip: rect(1px, 1px, 1px, 1px);height: 1px;margin: -1px;overflow: hidden;padding: 0;position: absolute;width: 1px;}#sk-container-id-1 div.sk-estimator {font-family: monospace;background-color: #f0f8ff;border: 1px dotted black;border-radius: 0.25em;box-sizing: border-box;margin-bottom: 0.5em;}#sk-container-id-1 div.sk-estimator:hover {background-color: #d4ebff;}#sk-container-id-1 div.sk-parallel-item::after {content: \"\";width: 100%;border-bottom: 1px solid gray;flex-grow: 1;}#sk-container-id-1 div.sk-label:hover label.sk-toggleable__label {background-color: #d4ebff;}#sk-container-id-1 div.sk-serial::before {content: \"\";position: absolute;border-left: 1px solid gray;box-sizing: border-box;top: 0;bottom: 0;left: 50%;z-index: 0;}#sk-container-id-1 div.sk-serial {display: flex;flex-direction: column;align-items: center;background-color: white;padding-right: 0.2em;padding-left: 0.2em;position: relative;}#sk-container-id-1 div.sk-item {position: relative;z-index: 1;}#sk-container-id-1 div.sk-parallel {display: flex;align-items: stretch;justify-content: center;background-color: white;position: relative;}#sk-container-id-1 div.sk-item::before, #sk-container-id-1 div.sk-parallel-item::before {content: \"\";position: absolute;border-left: 1px solid gray;box-sizing: border-box;top: 0;bottom: 0;left: 50%;z-index: -1;}#sk-container-id-1 div.sk-parallel-item {display: flex;flex-direction: column;z-index: 1;position: relative;background-color: white;}#sk-container-id-1 div.sk-parallel-item:first-child::after {align-self: flex-end;width: 50%;}#sk-container-id-1 div.sk-parallel-item:last-child::after {align-self: flex-start;width: 50%;}#sk-container-id-1 div.sk-parallel-item:only-child::after {width: 0;}#sk-container-id-1 div.sk-dashed-wrapped {border: 1px dashed gray;margin: 0 0.4em 0.5em 0.4em;box-sizing: border-box;padding-bottom: 0.4em;background-color: white;}#sk-container-id-1 div.sk-label label {font-family: monospace;font-weight: bold;display: inline-block;line-height: 1.2em;}#sk-container-id-1 div.sk-label-container {text-align: center;}#sk-container-id-1 div.sk-container {/* jupyter's `normalize.less` sets `[hidden] { display: none; }` but bootstrap.min.css set `[hidden] { display: none !important; }` so we also need the `!important` here to be able to override the default hidden behavior on the sphinx rendered scikit-learn.org. See: https://github.com/scikit-learn/scikit-learn/issues/21755 */display: inline-block !important;position: relative;}#sk-container-id-1 div.sk-text-repr-fallback {display: none;}</style><div id=\"sk-container-id-1\" class=\"sk-top-container\"><div class=\"sk-text-repr-fallback\"><pre>LinearRegression()</pre><b>In a Jupyter environment, please rerun this cell to show the HTML representation or trust the notebook. <br />On GitHub, the HTML representation is unable to render, please try loading this page with nbviewer.org.</b></div><div class=\"sk-container\" hidden><div class=\"sk-item\"><div class=\"sk-estimator sk-toggleable\"><input class=\"sk-toggleable__control sk-hidden--visually\" id=\"sk-estimator-id-1\" type=\"checkbox\" checked><label for=\"sk-estimator-id-1\" class=\"sk-toggleable__label sk-toggleable__label-arrow\">LinearRegression</label><div class=\"sk-toggleable__content\"><pre>LinearRegression()</pre></div></div></div></div></div>"
      ],
      "text/plain": [
       "LinearRegression()"
      ]
     },
     "execution_count": 35,
     "metadata": {},
     "output_type": "execute_result"
    }
   ],
   "source": [
    "linear.fit(X_train_scaled,ya_train)"
   ]
  },
  {
   "cell_type": "code",
   "execution_count": 36,
   "id": "2e23c4fb",
   "metadata": {},
   "outputs": [
    {
     "data": {
      "text/html": [
       "<style>#sk-container-id-2 {color: black;}#sk-container-id-2 pre{padding: 0;}#sk-container-id-2 div.sk-toggleable {background-color: white;}#sk-container-id-2 label.sk-toggleable__label {cursor: pointer;display: block;width: 100%;margin-bottom: 0;padding: 0.3em;box-sizing: border-box;text-align: center;}#sk-container-id-2 label.sk-toggleable__label-arrow:before {content: \"▸\";float: left;margin-right: 0.25em;color: #696969;}#sk-container-id-2 label.sk-toggleable__label-arrow:hover:before {color: black;}#sk-container-id-2 div.sk-estimator:hover label.sk-toggleable__label-arrow:before {color: black;}#sk-container-id-2 div.sk-toggleable__content {max-height: 0;max-width: 0;overflow: hidden;text-align: left;background-color: #f0f8ff;}#sk-container-id-2 div.sk-toggleable__content pre {margin: 0.2em;color: black;border-radius: 0.25em;background-color: #f0f8ff;}#sk-container-id-2 input.sk-toggleable__control:checked~div.sk-toggleable__content {max-height: 200px;max-width: 100%;overflow: auto;}#sk-container-id-2 input.sk-toggleable__control:checked~label.sk-toggleable__label-arrow:before {content: \"▾\";}#sk-container-id-2 div.sk-estimator input.sk-toggleable__control:checked~label.sk-toggleable__label {background-color: #d4ebff;}#sk-container-id-2 div.sk-label input.sk-toggleable__control:checked~label.sk-toggleable__label {background-color: #d4ebff;}#sk-container-id-2 input.sk-hidden--visually {border: 0;clip: rect(1px 1px 1px 1px);clip: rect(1px, 1px, 1px, 1px);height: 1px;margin: -1px;overflow: hidden;padding: 0;position: absolute;width: 1px;}#sk-container-id-2 div.sk-estimator {font-family: monospace;background-color: #f0f8ff;border: 1px dotted black;border-radius: 0.25em;box-sizing: border-box;margin-bottom: 0.5em;}#sk-container-id-2 div.sk-estimator:hover {background-color: #d4ebff;}#sk-container-id-2 div.sk-parallel-item::after {content: \"\";width: 100%;border-bottom: 1px solid gray;flex-grow: 1;}#sk-container-id-2 div.sk-label:hover label.sk-toggleable__label {background-color: #d4ebff;}#sk-container-id-2 div.sk-serial::before {content: \"\";position: absolute;border-left: 1px solid gray;box-sizing: border-box;top: 0;bottom: 0;left: 50%;z-index: 0;}#sk-container-id-2 div.sk-serial {display: flex;flex-direction: column;align-items: center;background-color: white;padding-right: 0.2em;padding-left: 0.2em;position: relative;}#sk-container-id-2 div.sk-item {position: relative;z-index: 1;}#sk-container-id-2 div.sk-parallel {display: flex;align-items: stretch;justify-content: center;background-color: white;position: relative;}#sk-container-id-2 div.sk-item::before, #sk-container-id-2 div.sk-parallel-item::before {content: \"\";position: absolute;border-left: 1px solid gray;box-sizing: border-box;top: 0;bottom: 0;left: 50%;z-index: -1;}#sk-container-id-2 div.sk-parallel-item {display: flex;flex-direction: column;z-index: 1;position: relative;background-color: white;}#sk-container-id-2 div.sk-parallel-item:first-child::after {align-self: flex-end;width: 50%;}#sk-container-id-2 div.sk-parallel-item:last-child::after {align-self: flex-start;width: 50%;}#sk-container-id-2 div.sk-parallel-item:only-child::after {width: 0;}#sk-container-id-2 div.sk-dashed-wrapped {border: 1px dashed gray;margin: 0 0.4em 0.5em 0.4em;box-sizing: border-box;padding-bottom: 0.4em;background-color: white;}#sk-container-id-2 div.sk-label label {font-family: monospace;font-weight: bold;display: inline-block;line-height: 1.2em;}#sk-container-id-2 div.sk-label-container {text-align: center;}#sk-container-id-2 div.sk-container {/* jupyter's `normalize.less` sets `[hidden] { display: none; }` but bootstrap.min.css set `[hidden] { display: none !important; }` so we also need the `!important` here to be able to override the default hidden behavior on the sphinx rendered scikit-learn.org. See: https://github.com/scikit-learn/scikit-learn/issues/21755 */display: inline-block !important;position: relative;}#sk-container-id-2 div.sk-text-repr-fallback {display: none;}</style><div id=\"sk-container-id-2\" class=\"sk-top-container\"><div class=\"sk-text-repr-fallback\"><pre>LinearRegression(n_jobs=1)</pre><b>In a Jupyter environment, please rerun this cell to show the HTML representation or trust the notebook. <br />On GitHub, the HTML representation is unable to render, please try loading this page with nbviewer.org.</b></div><div class=\"sk-container\" hidden><div class=\"sk-item\"><div class=\"sk-estimator sk-toggleable\"><input class=\"sk-toggleable__control sk-hidden--visually\" id=\"sk-estimator-id-2\" type=\"checkbox\" checked><label for=\"sk-estimator-id-2\" class=\"sk-toggleable__label sk-toggleable__label-arrow\">LinearRegression</label><div class=\"sk-toggleable__content\"><pre>LinearRegression(n_jobs=1)</pre></div></div></div></div></div>"
      ],
      "text/plain": [
       "LinearRegression(n_jobs=1)"
      ]
     },
     "execution_count": 36,
     "metadata": {},
     "output_type": "execute_result"
    }
   ],
   "source": [
    "LinearRegression(copy_X=True, fit_intercept=True, n_jobs=1)"
   ]
  },
  {
   "cell_type": "code",
   "execution_count": 37,
   "id": "5319ac29",
   "metadata": {},
   "outputs": [
    {
     "name": "stdout",
     "output_type": "stream",
     "text": [
      "Coefficients: \n",
      " [-2.8168394  29.17671984 -0.20862008  5.41167983]\n"
     ]
    }
   ],
   "source": [
    "print('Coefficients: \\n', linear.coef_)"
   ]
  },
  {
   "cell_type": "code",
   "execution_count": 38,
   "id": "2f08e667",
   "metadata": {},
   "outputs": [],
   "source": [
    "predictions = linear.predict(X_test_scaled)"
   ]
  },
  {
   "cell_type": "code",
   "execution_count": 39,
   "id": "fec4bb55",
   "metadata": {},
   "outputs": [
    {
     "data": {
      "text/plain": [
       "Text(0, 0.5, 'Predicted Y')"
      ]
     },
     "execution_count": 39,
     "metadata": {},
     "output_type": "execute_result"
    },
    {
     "data": {
      "image/png": "[encoded data removed]",
      "text/plain": [
       "<Figure size 640x480 with 1 Axes>"
      ]
     },
     "metadata": {},
     "output_type": "display_data"
    }
   ],
   "source": [
    "plt.scatter(ya_test,predictions)\n",
    "plt.xlabel('Y Test')\n",
    "plt.ylabel('Predicted Y')"
   ]
  },
  {
   "cell_type": "code",
   "execution_count": 40,
   "id": "029957b5",
   "metadata": {},
   "outputs": [
    {
     "name": "stdout",
     "output_type": "stream",
     "text": [
      "MAE: 39.15208965734726\n",
      "MSE: 3288.3539631295207\n",
      "RMSE: 57.34417113473278\n"
     ]
    }
   ],
   "source": [
    "from sklearn import metrics\n",
    "\n",
    "print('MAE:', metrics.mean_absolute_error(ya_test, predictions))\n",
    "print('MSE:', metrics.mean_squared_error(ya_test, predictions))\n",
    "print('RMSE:', np.sqrt(metrics.mean_squared_error(ya_test, predictions)))"
   ]
  },
  {
   "cell_type": "code",
   "execution_count": 41,
   "id": "05a486f8",
   "metadata": {},
   "outputs": [
    {
     "data": {
      "text/plain": [
       "(array([ 5., 13., 55., 92., 76., 62., 43., 11.,  4.,  3., 12.,  8.,  7.,\n",
       "         3.,  7.,  2.,  0.,  3.,  2.,  1.]),\n",
       " array([-93.29788612, -75.46518145, -57.63247678, -39.79977211,\n",
       "        -21.96706744,  -4.13436277,  13.6983419 ,  31.53104657,\n",
       "         49.36375124,  67.19645591,  85.02916058, 102.86186525,\n",
       "        120.69456992, 138.52727459, 156.35997926, 174.19268393,\n",
       "        192.0253886 , 209.85809327, 227.69079794, 245.52350261,\n",
       "        263.35620728]),\n",
       " <BarContainer object of 20 artists>)"
      ]
     },
     "execution_count": 41,
     "metadata": {},
     "output_type": "execute_result"
    },
    {
     "data": {
      "image/png": "[encoded data removed]",
      "text/plain": [
       "<Figure size 640x480 with 1 Axes>"
      ]
     },
     "metadata": {},
     "output_type": "display_data"
    }
   ],
   "source": [
    "plt.hist((ya_test-predictions),bins=20)\n",
    "\n",
    "\n",
    "# residuals = ya_test - predictions\n",
    "# plt.hist(residuals, bins=20, edgecolor='k')\n",
    "# plt.xlabel('Residuals')\n",
    "# plt.ylabel('Frequency')\n",
    "# plt.title('Residuals Distribution')\n",
    "\n",
    "# plt.show()\n"
   ]
  },
  {
   "cell_type": "code",
   "execution_count": 42,
   "id": "d34cd3ce",
   "metadata": {},
   "outputs": [
    {
     "data": {
      "text/html": [
       "<div>\n",
       "<style scoped>\n",
       "    .dataframe tbody tr th:only-of-type {\n",
       "        vertical-align: middle;\n",
       "    }\n",
       "\n",
       "    .dataframe tbody tr th {\n",
       "        vertical-align: top;\n",
       "    }\n",
       "\n",
       "    .dataframe thead th {\n",
       "        text-align: right;\n",
       "    }\n",
       "</style>\n",
       "<table border=\"1\" class=\"dataframe\">\n",
       "  <thead>\n",
       "    <tr style=\"text-align: right;\">\n",
       "      <th></th>\n",
       "      <th>Coeffecient</th>\n",
       "    </tr>\n",
       "  </thead>\n",
       "  <tbody>\n",
       "    <tr>\n",
       "      <th>Minimum temperature (°C)</th>\n",
       "      <td>-2.816839</td>\n",
       "    </tr>\n",
       "    <tr>\n",
       "      <th>Maximum temperature (°C)</th>\n",
       "      <td>29.176720</td>\n",
       "    </tr>\n",
       "    <tr>\n",
       "      <th>Rainfall (mm)</th>\n",
       "      <td>-0.208620</td>\n",
       "    </tr>\n",
       "    <tr>\n",
       "      <th>Speed of maximum wind gust (km/h)</th>\n",
       "      <td>5.411680</td>\n",
       "    </tr>\n",
       "  </tbody>\n",
       "</table>\n",
       "</div>"
      ],
      "text/plain": [
       "                                   Coeffecient\n",
       "Minimum temperature (°C)             -2.816839\n",
       "Maximum temperature (°C)             29.176720\n",
       "Rainfall (mm)                        -0.208620\n",
       "Speed of maximum wind gust (km/h)     5.411680"
      ]
     },
     "execution_count": 42,
     "metadata": {},
     "output_type": "execute_result"
    }
   ],
   "source": [
    "coeffecients = pd.DataFrame(linear.coef_,X.columns)\n",
    "coeffecients.columns = ['Coeffecient']\n",
    "coeffecients"
   ]
  },
  {
   "cell_type": "code",
   "execution_count": null,
   "id": "27de16e6",
   "metadata": {},
   "outputs": [],
   "source": []
  }
 ],
 "metadata": {
  "kernelspec": {
   "display_name": "Python 3 (ipykernel)",
   "language": "python",
   "name": "python3"
  },
  "language_info": {
   "codemirror_mode": {
    "name": "ipython",
    "version": 3
   },
   "file_extension": ".py",
   "mimetype": "text/x-python",
   "name": "python",
   "nbconvert_exporter": "python",
   "pygments_lexer": "ipython3",
   "version": "3.10.12"
  }
 },
 "nbformat": 4,
 "nbformat_minor": 5
}
