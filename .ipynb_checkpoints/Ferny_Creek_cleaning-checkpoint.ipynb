{
 "cells": [
  {
   "cell_type": "code",
   "execution_count": 1,
   "id": "372eac5f",
   "metadata": {},
   "outputs": [],
   "source": [
    "import pandas as pd\n",
    "\n",
    "import numpy as np\n"
   ]
  },
  {
   "cell_type": "code",
   "execution_count": 2,
   "id": "5c41bbd0",
   "metadata": {},
   "outputs": [],
   "source": [
    "df1 = pd.read_csv(\"Fern\\IDCJDW3102.202207.csv\", encoding = \"windows-1252\")"
   ]
  },
  {
   "cell_type": "code",
   "execution_count": 5,
   "id": "d13b634a",
   "metadata": {},
   "outputs": [],
   "source": [
    "df2 = pd.read_csv(\"Fern\\IDCJDW3102.202206.csv\", skiprows=5, nrows=38, encoding = \"windows-1252\")"
   ]
  },
  {
   "cell_type": "code",
   "execution_count": 6,
   "id": "508fed27",
   "metadata": {},
   "outputs": [],
   "source": [
    "df3 = pd.read_csv(\"Fern\\IDCJDW3102.202205.csv\", encoding = \"windows-1252\")"
   ]
  },
  {
   "cell_type": "code",
   "execution_count": 7,
   "id": "30c9d888",
   "metadata": {},
   "outputs": [],
   "source": [
    "df4 = pd.read_csv(\"Fern\\IDCJDW3102.202204.csv\", encoding = \"windows-1252\")"
   ]
  },
  {
   "cell_type": "code",
   "execution_count": 8,
   "id": "94713f0c",
   "metadata": {},
   "outputs": [],
   "source": [
    "df5 = pd.read_csv(\"Fern\\IDCJDW3102.202203.csv\", encoding = \"windows-1252\")"
   ]
  },
  {
   "cell_type": "code",
   "execution_count": 9,
   "id": "26d8e952",
   "metadata": {},
   "outputs": [],
   "source": [
    "df6 = pd.read_csv(\"Fern\\IDCJDW3102.202202.csv\", encoding = \"windows-1252\")"
   ]
  },
  {
   "cell_type": "code",
   "execution_count": 10,
   "id": "7a51d8ee",
   "metadata": {},
   "outputs": [],
   "source": [
    "df7 = pd.read_csv(\"Fern\\IDCJDW3102.202201.csv\", encoding = \"windows-1252\")"
   ]
  },
  {
   "cell_type": "code",
   "execution_count": 11,
   "id": "9657635d",
   "metadata": {},
   "outputs": [],
   "source": [
    "df8 = pd.read_csv(\"Fern\\IDCJDW3102.202112.csv\", encoding = \"windows-1252\")"
   ]
  },
  {
   "cell_type": "code",
   "execution_count": 12,
   "id": "5e78455e",
   "metadata": {},
   "outputs": [],
   "source": [
    "df9 = pd.read_csv(\"Fern\\IDCJDW3102.202111.csv\", encoding = \"windows-1252\")"
   ]
  },
  {
   "cell_type": "code",
   "execution_count": 13,
   "id": "490d3a49",
   "metadata": {},
   "outputs": [],
   "source": [
    "df10 = pd.read_csv(\"Fern\\IDCJDW3102.202110.csv\", encoding = \"windows-1252\")"
   ]
  },
  {
   "cell_type": "code",
   "execution_count": 14,
   "id": "4d2617be",
   "metadata": {},
   "outputs": [],
   "source": [
    "df11 = pd.read_csv(\"Fern\\IDCJDW3102.202109.csv\", encoding = \"windows-1252\")"
   ]
  },
  {
   "cell_type": "code",
   "execution_count": 15,
   "id": "f3cc1146",
   "metadata": {},
   "outputs": [],
   "source": [
    "df12 = pd.read_csv(\"Fern\\IDCJDW3102.202108.csv\", encoding = \"windows-1252\")"
   ]
  },
  {
   "cell_type": "code",
   "execution_count": 16,
   "id": "167eea6e",
   "metadata": {},
   "outputs": [],
   "source": [
    "df13 = pd.read_csv(\"Fern\\IDCJDW3102.202107.csv\", encoding = \"windows-1252\")"
   ]
  },
  {
   "cell_type": "code",
   "execution_count": 17,
   "id": "c977dc57",
   "metadata": {},
   "outputs": [],
   "source": [
    "df14 = pd.read_csv(\"Fern\\IDCJDW3102.202106.csv\", skiprows=5, nrows=38, encoding = \"windows-1252\")"
   ]
  },
  {
   "cell_type": "code",
   "execution_count": 18,
   "id": "88327a92",
   "metadata": {},
   "outputs": [],
   "source": [
    "df15 = pd.read_csv(\"Fern\\IDCJDW3102.202105.csv\", skiprows=5, nrows=38, encoding = \"windows-1252\")"
   ]
  },
  {
   "cell_type": "code",
   "execution_count": 19,
   "id": "969a8a35",
   "metadata": {},
   "outputs": [],
   "source": [
    "df16 = pd.read_csv(\"Fern\\IDCJDW3102.202104.csv\", skiprows=5, nrows=38, encoding = \"windows-1252\")"
   ]
  },
  {
   "cell_type": "code",
   "execution_count": 20,
   "id": "3a7f12f4",
   "metadata": {},
   "outputs": [],
   "source": [
    "df17 = pd.read_csv(\"Fern\\IDCJDW3102.202103.csv\", skiprows=5, nrows=38, encoding = \"windows-1252\")"
   ]
  },
  {
   "cell_type": "code",
   "execution_count": 21,
   "id": "18690e3f",
   "metadata": {},
   "outputs": [],
   "source": [
    "df18 = pd.read_csv(\"Fern\\IDCJDW3102.202102.csv\", skiprows=5, nrows=38, encoding = \"windows-1252\")"
   ]
  },
  {
   "cell_type": "code",
   "execution_count": 22,
   "id": "4ff745f5",
   "metadata": {},
   "outputs": [],
   "source": [
    "df19 = pd.read_csv(\"Fern\\IDCJDW3102.202101.csv\", skiprows=5, nrows=38, encoding = \"windows-1252\")"
   ]
  },
  {
   "cell_type": "code",
   "execution_count": 23,
   "id": "a93fec75",
   "metadata": {},
   "outputs": [],
   "source": [
    "df20 = pd.read_csv(\"Fern\\IDCJDW3102.202012.csv\", skiprows=5, nrows=38, encoding = \"windows-1252\")"
   ]
  },
  {
   "cell_type": "code",
   "execution_count": 24,
   "id": "54915faf",
   "metadata": {},
   "outputs": [],
   "source": [
    "df21 = pd.read_csv(\"Fern\\IDCJDW3102.202011.csv\", skiprows=5, nrows=38, encoding = \"windows-1252\")"
   ]
  },
  {
   "cell_type": "code",
   "execution_count": 25,
   "id": "82d9284a",
   "metadata": {},
   "outputs": [],
   "source": [
    "df21a = pd.read_csv(\"Fern\\IDCJDW3102.202010.csv\", skiprows=5, nrows=38, encoding = \"windows-1252\")"
   ]
  },
  {
   "cell_type": "code",
   "execution_count": 26,
   "id": "eb147073",
   "metadata": {},
   "outputs": [],
   "source": [
    "df21b = pd.read_csv(\"Fern\\IDCJDW3102.202009.csv\", skiprows=5, nrows=38, encoding = \"windows-1252\")"
   ]
  },
  {
   "cell_type": "code",
   "execution_count": 27,
   "id": "3ca0063a",
   "metadata": {},
   "outputs": [],
   "source": [
    "df22 = pd.read_csv(\"Fern\\IDCJDW3102.202008.csv\", skiprows=5, nrows=38, encoding = \"windows-1252\")"
   ]
  },
  {
   "cell_type": "code",
   "execution_count": 28,
   "id": "85a1a4bd",
   "metadata": {},
   "outputs": [],
   "source": [
    "df23 = pd.read_csv(\"Fern\\IDCJDW3102.202007.csv\", skiprows=5, nrows=38, encoding = \"windows-1252\")"
   ]
  },
  {
   "cell_type": "code",
   "execution_count": 29,
   "id": "dbea2d43",
   "metadata": {},
   "outputs": [],
   "source": [
    "df24 = pd.read_csv(\"Fern\\IDCJDW3102.202006.csv\", skiprows=5, nrows=38, encoding = \"windows-1252\")"
   ]
  },
  {
   "cell_type": "code",
   "execution_count": 30,
   "id": "03768ff0",
   "metadata": {},
   "outputs": [],
   "source": [
    "df25 = pd.read_csv(\"Fern\\IDCJDW3102.202005.csv\", skiprows=5, nrows=38, encoding = \"windows-1252\")"
   ]
  },
  {
   "cell_type": "code",
   "execution_count": 31,
   "id": "52757e68",
   "metadata": {},
   "outputs": [],
   "source": [
    "df26 = pd.read_csv(\"Fern\\IDCJDW3102.202004.csv\", skiprows=5, nrows=38, encoding = \"windows-1252\")"
   ]
  },
  {
   "cell_type": "code",
   "execution_count": 32,
   "id": "0a5c71f3",
   "metadata": {},
   "outputs": [],
   "source": [
    "df27 = pd.read_csv(\"Fern\\IDCJDW3102.202003.csv\", skiprows=5, nrows=38, encoding = \"windows-1252\")"
   ]
  },
  {
   "cell_type": "code",
   "execution_count": 33,
   "id": "bfb515e0",
   "metadata": {},
   "outputs": [],
   "source": [
    "df28 = pd.read_csv(\"Fern\\IDCJDW3102.201907.csv\", skiprows=5, nrows=38, encoding = \"windows-1252\")"
   ]
  },
  {
   "cell_type": "code",
   "execution_count": 34,
   "id": "17330da3",
   "metadata": {},
   "outputs": [],
   "source": [
    "df29 = pd.read_csv(\"Fern\\IDCJDW3102.201906.csv\", skiprows=5, nrows=38, encoding = \"windows-1252\")"
   ]
  },
  {
   "cell_type": "code",
   "execution_count": 35,
   "id": "ffca9ea0",
   "metadata": {},
   "outputs": [],
   "source": [
    "df30 = pd.read_csv(\"Fern\\IDCJDW3102.201905.csv\", skiprows=5, nrows=38, encoding = \"windows-1252\")"
   ]
  },
  {
   "cell_type": "code",
   "execution_count": 36,
   "id": "3bed2e79",
   "metadata": {},
   "outputs": [],
   "source": [
    "df31 = pd.read_csv(\"Fern\\IDCJDW3102.201904.csv\", skiprows=5, nrows=38, encoding = \"windows-1252\")"
   ]
  },
  {
   "cell_type": "code",
   "execution_count": 37,
   "id": "48609738",
   "metadata": {},
   "outputs": [],
   "source": [
    "df32 = pd.read_csv(\"Fern\\IDCJDW3102.201903.csv\", skiprows=5, nrows=38, encoding = \"windows-1252\")"
   ]
  },
  {
   "cell_type": "code",
   "execution_count": 38,
   "id": "64fb203c",
   "metadata": {},
   "outputs": [],
   "source": [
    "df33 = pd.read_csv(\"Fern\\IDCJDW3102.201902.csv\", skiprows=5, nrows=38, encoding = \"windows-1252\")"
   ]
  },
  {
   "cell_type": "code",
   "execution_count": 39,
   "id": "61f60905",
   "metadata": {},
   "outputs": [],
   "source": [
    "df34 = pd.read_csv(\"Fern\\IDCJDW3102.201901.csv\", skiprows=5, nrows=38, encoding = \"windows-1252\")"
   ]
  },
  {
   "cell_type": "code",
   "execution_count": 40,
   "id": "9f20e19b",
   "metadata": {},
   "outputs": [],
   "source": [
    "df35 = pd.read_csv(\"Fern\\IDCJDW3102.201812.csv\", skiprows=5, nrows=38, encoding = \"windows-1252\")"
   ]
  },
  {
   "cell_type": "code",
   "execution_count": 41,
   "id": "8c2abb23",
   "metadata": {},
   "outputs": [],
   "source": [
    "df36 = pd.read_csv(\"Fern\\IDCJDW3102.201811.csv\", skiprows=5, nrows=38, encoding = \"windows-1252\")"
   ]
  },
  {
   "cell_type": "code",
   "execution_count": 42,
   "id": "d5a7fc20",
   "metadata": {},
   "outputs": [],
   "source": [
    "df37 = pd.read_csv(\"Fern\\IDCJDW3102.201810.csv\", skiprows=5, nrows=38, encoding = \"windows-1252\")"
   ]
  },
  {
   "cell_type": "code",
   "execution_count": 43,
   "id": "66acf57c",
   "metadata": {},
   "outputs": [],
   "source": [
    "df38 = pd.read_csv(\"Fern\\IDCJDW3102.201809.csv\", skiprows=5, nrows=38, encoding = \"windows-1252\")"
   ]
  },
  {
   "cell_type": "code",
   "execution_count": 44,
   "id": "ad6fe804",
   "metadata": {},
   "outputs": [],
   "source": [
    "df39 = pd.read_csv(\"Fern\\IDCJDW3102.201808.csv\", skiprows=5, nrows=38, encoding = \"windows-1252\")"
   ]
  },
  {
   "cell_type": "code",
   "execution_count": 45,
   "id": "37612eb9",
   "metadata": {},
   "outputs": [],
   "source": [
    "df40 = pd.read_csv(\"Fern\\IDCJDW3102.201807.csv\", skiprows=5, nrows=38, encoding = \"windows-1252\")"
   ]
  },
  {
   "cell_type": "code",
   "execution_count": 46,
   "id": "b27ef7c1",
   "metadata": {},
   "outputs": [],
   "source": [
    "df41 = pd.read_csv(\"Fern\\IDCJDW3102.201806.csv\", skiprows=5, nrows=38, encoding = \"windows-1252\")"
   ]
  },
  {
   "cell_type": "code",
   "execution_count": 47,
   "id": "8a794153",
   "metadata": {},
   "outputs": [],
   "source": [
    "df42 = pd.read_csv(\"Fern\\IDCJDW3102.201805.csv\", skiprows=5, nrows=38, encoding = \"windows-1252\")"
   ]
  },
  {
   "cell_type": "code",
   "execution_count": 48,
   "id": "78c0b6d1",
   "metadata": {},
   "outputs": [],
   "source": [
    "df43 = pd.read_csv(\"Fern\\IDCJDW3102.201804.csv\", skiprows=5, nrows=38, encoding = \"windows-1252\")"
   ]
  },
  {
   "cell_type": "code",
   "execution_count": 49,
   "id": "77f3543f",
   "metadata": {},
   "outputs": [],
   "source": [
    "df44 = pd.read_csv(\"Fern\\IDCJDW3102.201803.csv\", skiprows=5, nrows=38, encoding = \"windows-1252\")"
   ]
  },
  {
   "cell_type": "code",
   "execution_count": 50,
   "id": "deb609d0",
   "metadata": {},
   "outputs": [],
   "source": [
    "df45 = pd.read_csv(\"Fern\\IDCJDW3102.201802.csv\", skiprows=5, nrows=38, encoding = \"windows-1252\")"
   ]
  },
  {
   "cell_type": "code",
   "execution_count": 51,
   "id": "04cf6c16",
   "metadata": {},
   "outputs": [],
   "source": [
    "df46 = pd.read_csv(\"Fern\\IDCJDW3102.201801.csv\", skiprows=5, nrows=38, encoding = \"windows-1252\")"
   ]
  },
  {
   "cell_type": "code",
   "execution_count": 52,
   "id": "40c931e7",
   "metadata": {},
   "outputs": [],
   "source": [
    "frames = [df1, df2, df3, df4, df5, df6, df7, df9, df10, df11, df12, df13, df14, df15, df16, df17, df18, df19, df20, df21, df21a, df21b, df22, df23, df24, df25, df26, df27, df28, df29, df30, df31, df32, df33, df34, df35, df36, df37, df38, df39, df40, df41, df42, df43, df44, df45, df46]\n",
    "result = pd.concat(frames)"
   ]
  },
  {
   "cell_type": "code",
   "execution_count": 53,
   "id": "aeeb87c5",
   "metadata": {},
   "outputs": [
    {
     "data": {
      "text/html": [
       "<div>\n",
       "<style scoped>\n",
       "    .dataframe tbody tr th:only-of-type {\n",
       "        vertical-align: middle;\n",
       "    }\n",
       "\n",
       "    .dataframe tbody tr th {\n",
       "        vertical-align: top;\n",
       "    }\n",
       "\n",
       "    .dataframe thead th {\n",
       "        text-align: right;\n",
       "    }\n",
       "</style>\n",
       "<table border=\"1\" class=\"dataframe\">\n",
       "  <thead>\n",
       "    <tr style=\"text-align: right;\">\n",
       "      <th></th>\n",
       "      <th>Date</th>\n",
       "      <th>Minimum temperature (°C)</th>\n",
       "      <th>Maximum temperature (°C)</th>\n",
       "      <th>Rainfall (mm)</th>\n",
       "      <th>Evaporation (mm)</th>\n",
       "      <th>Sunshine (hours)</th>\n",
       "      <th>Direction of maximum wind gust</th>\n",
       "      <th>Speed of maximum wind gust (km/h)</th>\n",
       "      <th>Time of maximum wind gust</th>\n",
       "      <th>9am Temperature (°C)</th>\n",
       "      <th>...</th>\n",
       "      <th>9am wind direction</th>\n",
       "      <th>9am wind speed (km/h)</th>\n",
       "      <th>9am MSL pressure (hPa)</th>\n",
       "      <th>3pm Temperature (°C)</th>\n",
       "      <th>3pm relative humidity (%)</th>\n",
       "      <th>3pm cloud amount (oktas)</th>\n",
       "      <th>3pm wind direction</th>\n",
       "      <th>3pm wind speed (km/h)</th>\n",
       "      <th>3pm MSL pressure (hPa)</th>\n",
       "      <th>Unnamed: 0</th>\n",
       "    </tr>\n",
       "  </thead>\n",
       "  <tbody>\n",
       "    <tr>\n",
       "      <th>0</th>\n",
       "      <td>1/07/2022</td>\n",
       "      <td>4.8</td>\n",
       "      <td>9.5</td>\n",
       "      <td>0.0</td>\n",
       "      <td>NaN</td>\n",
       "      <td>NaN</td>\n",
       "      <td>SE</td>\n",
       "      <td>20.0</td>\n",
       "      <td>23:38</td>\n",
       "      <td>6.9</td>\n",
       "      <td>...</td>\n",
       "      <td>ESE</td>\n",
       "      <td>6</td>\n",
       "      <td>1030.2</td>\n",
       "      <td>8.5</td>\n",
       "      <td>93.0</td>\n",
       "      <td>NaN</td>\n",
       "      <td>E</td>\n",
       "      <td>4</td>\n",
       "      <td>1029.5</td>\n",
       "      <td>NaN</td>\n",
       "    </tr>\n",
       "    <tr>\n",
       "      <th>1</th>\n",
       "      <td>2/07/2022</td>\n",
       "      <td>5.1</td>\n",
       "      <td>8.7</td>\n",
       "      <td>0.2</td>\n",
       "      <td>NaN</td>\n",
       "      <td>NaN</td>\n",
       "      <td>SE</td>\n",
       "      <td>30.0</td>\n",
       "      <td>23:36</td>\n",
       "      <td>6.2</td>\n",
       "      <td>...</td>\n",
       "      <td>ESE</td>\n",
       "      <td>9</td>\n",
       "      <td>1030.2</td>\n",
       "      <td>7.8</td>\n",
       "      <td>84.0</td>\n",
       "      <td>NaN</td>\n",
       "      <td>ESE</td>\n",
       "      <td>7</td>\n",
       "      <td>1028.5</td>\n",
       "      <td>NaN</td>\n",
       "    </tr>\n",
       "    <tr>\n",
       "      <th>2</th>\n",
       "      <td>3/07/2022</td>\n",
       "      <td>4.0</td>\n",
       "      <td>8.4</td>\n",
       "      <td>0.0</td>\n",
       "      <td>NaN</td>\n",
       "      <td>NaN</td>\n",
       "      <td>ESE</td>\n",
       "      <td>37.0</td>\n",
       "      <td>11:03</td>\n",
       "      <td>5.4</td>\n",
       "      <td>...</td>\n",
       "      <td>ESE</td>\n",
       "      <td>17</td>\n",
       "      <td>1028.2</td>\n",
       "      <td>7.3</td>\n",
       "      <td>81.0</td>\n",
       "      <td>NaN</td>\n",
       "      <td>ESE</td>\n",
       "      <td>11</td>\n",
       "      <td>1026.3</td>\n",
       "      <td>NaN</td>\n",
       "    </tr>\n",
       "    <tr>\n",
       "      <th>3</th>\n",
       "      <td>4/07/2022</td>\n",
       "      <td>3.5</td>\n",
       "      <td>8.8</td>\n",
       "      <td>0.0</td>\n",
       "      <td>NaN</td>\n",
       "      <td>NaN</td>\n",
       "      <td>ESE</td>\n",
       "      <td>35.0</td>\n",
       "      <td>7:07</td>\n",
       "      <td>6.3</td>\n",
       "      <td>...</td>\n",
       "      <td>ESE</td>\n",
       "      <td>15</td>\n",
       "      <td>1027.5</td>\n",
       "      <td>8.6</td>\n",
       "      <td>71.0</td>\n",
       "      <td>NaN</td>\n",
       "      <td>ESE</td>\n",
       "      <td>9</td>\n",
       "      <td>1026.5</td>\n",
       "      <td>NaN</td>\n",
       "    </tr>\n",
       "    <tr>\n",
       "      <th>4</th>\n",
       "      <td>5/07/2022</td>\n",
       "      <td>6.3</td>\n",
       "      <td>10.1</td>\n",
       "      <td>0.4</td>\n",
       "      <td>NaN</td>\n",
       "      <td>NaN</td>\n",
       "      <td>ESE</td>\n",
       "      <td>30.0</td>\n",
       "      <td>10:34</td>\n",
       "      <td>7.3</td>\n",
       "      <td>...</td>\n",
       "      <td>ESE</td>\n",
       "      <td>13</td>\n",
       "      <td>1027.2</td>\n",
       "      <td>9.7</td>\n",
       "      <td>71.0</td>\n",
       "      <td>NaN</td>\n",
       "      <td>ESE</td>\n",
       "      <td>13</td>\n",
       "      <td>1024.4</td>\n",
       "      <td>NaN</td>\n",
       "    </tr>\n",
       "  </tbody>\n",
       "</table>\n",
       "<p>5 rows × 22 columns</p>\n",
       "</div>"
      ],
      "text/plain": [
       "        Date  Minimum temperature (°C)  Maximum temperature (°C)  \\\n",
       "0  1/07/2022                       4.8                       9.5   \n",
       "1  2/07/2022                       5.1                       8.7   \n",
       "2  3/07/2022                       4.0                       8.4   \n",
       "3  4/07/2022                       3.5                       8.8   \n",
       "4  5/07/2022                       6.3                      10.1   \n",
       "\n",
       "   Rainfall (mm)  Evaporation (mm)  Sunshine (hours)  \\\n",
       "0            0.0               NaN               NaN   \n",
       "1            0.2               NaN               NaN   \n",
       "2            0.0               NaN               NaN   \n",
       "3            0.0               NaN               NaN   \n",
       "4            0.4               NaN               NaN   \n",
       "\n",
       "  Direction of maximum wind gust   Speed of maximum wind gust (km/h)  \\\n",
       "0                              SE                               20.0   \n",
       "1                              SE                               30.0   \n",
       "2                             ESE                               37.0   \n",
       "3                             ESE                               35.0   \n",
       "4                             ESE                               30.0   \n",
       "\n",
       "  Time of maximum wind gust  9am Temperature (°C)  ...  9am wind direction  \\\n",
       "0                     23:38                   6.9  ...                 ESE   \n",
       "1                     23:36                   6.2  ...                 ESE   \n",
       "2                     11:03                   5.4  ...                 ESE   \n",
       "3                      7:07                   6.3  ...                 ESE   \n",
       "4                     10:34                   7.3  ...                 ESE   \n",
       "\n",
       "   9am wind speed (km/h) 9am MSL pressure (hPa) 3pm Temperature (°C)  \\\n",
       "0                      6                 1030.2                  8.5   \n",
       "1                      9                 1030.2                  7.8   \n",
       "2                     17                 1028.2                  7.3   \n",
       "3                     15                 1027.5                  8.6   \n",
       "4                     13                 1027.2                  9.7   \n",
       "\n",
       "   3pm relative humidity (%)  3pm cloud amount (oktas)  3pm wind direction  \\\n",
       "0                       93.0                       NaN                   E   \n",
       "1                       84.0                       NaN                 ESE   \n",
       "2                       81.0                       NaN                 ESE   \n",
       "3                       71.0                       NaN                 ESE   \n",
       "4                       71.0                       NaN                 ESE   \n",
       "\n",
       "   3pm wind speed (km/h) 3pm MSL pressure (hPa) Unnamed: 0  \n",
       "0                      4                 1029.5        NaN  \n",
       "1                      7                 1028.5        NaN  \n",
       "2                     11                 1026.3        NaN  \n",
       "3                      9                 1026.5        NaN  \n",
       "4                     13                 1024.4        NaN  \n",
       "\n",
       "[5 rows x 22 columns]"
      ]
     },
     "execution_count": 53,
     "metadata": {},
     "output_type": "execute_result"
    }
   ],
   "source": [
    "result.head()"
   ]
  },
  {
   "cell_type": "code",
   "execution_count": 54,
   "id": "6fed08be",
   "metadata": {},
   "outputs": [],
   "source": [
    "clean_Ferny_Creek = pd.DataFrame(result.drop(columns=['Unnamed: 0','Evaporation (mm)', 'Sunshine (hours)','9am cloud amount (oktas)', '3pm cloud amount (oktas)', '9am MSL pressure (hPa)', '3pm MSL pressure (hPa)', '3pm relative humidity (%)', '9am relative humidity (%)' ]))"
   ]
  },
  {
   "cell_type": "code",
   "execution_count": 55,
   "id": "c570f3b1",
   "metadata": {},
   "outputs": [
    {
     "data": {
      "text/html": [
       "<div>\n",
       "<style scoped>\n",
       "    .dataframe tbody tr th:only-of-type {\n",
       "        vertical-align: middle;\n",
       "    }\n",
       "\n",
       "    .dataframe tbody tr th {\n",
       "        vertical-align: top;\n",
       "    }\n",
       "\n",
       "    .dataframe thead th {\n",
       "        text-align: right;\n",
       "    }\n",
       "</style>\n",
       "<table border=\"1\" class=\"dataframe\">\n",
       "  <thead>\n",
       "    <tr style=\"text-align: right;\">\n",
       "      <th></th>\n",
       "      <th>Date</th>\n",
       "      <th>Minimum temperature (°C)</th>\n",
       "      <th>Maximum temperature (°C)</th>\n",
       "      <th>Rainfall (mm)</th>\n",
       "      <th>Direction of maximum wind gust</th>\n",
       "      <th>Speed of maximum wind gust (km/h)</th>\n",
       "      <th>Time of maximum wind gust</th>\n",
       "      <th>9am Temperature (°C)</th>\n",
       "      <th>9am wind direction</th>\n",
       "      <th>9am wind speed (km/h)</th>\n",
       "      <th>3pm Temperature (°C)</th>\n",
       "      <th>3pm wind direction</th>\n",
       "      <th>3pm wind speed (km/h)</th>\n",
       "    </tr>\n",
       "  </thead>\n",
       "  <tbody>\n",
       "    <tr>\n",
       "      <th>0</th>\n",
       "      <td>1/07/2022</td>\n",
       "      <td>4.8</td>\n",
       "      <td>9.5</td>\n",
       "      <td>0.0</td>\n",
       "      <td>SE</td>\n",
       "      <td>20.0</td>\n",
       "      <td>23:38</td>\n",
       "      <td>6.9</td>\n",
       "      <td>ESE</td>\n",
       "      <td>6</td>\n",
       "      <td>8.5</td>\n",
       "      <td>E</td>\n",
       "      <td>4</td>\n",
       "    </tr>\n",
       "    <tr>\n",
       "      <th>1</th>\n",
       "      <td>2/07/2022</td>\n",
       "      <td>5.1</td>\n",
       "      <td>8.7</td>\n",
       "      <td>0.2</td>\n",
       "      <td>SE</td>\n",
       "      <td>30.0</td>\n",
       "      <td>23:36</td>\n",
       "      <td>6.2</td>\n",
       "      <td>ESE</td>\n",
       "      <td>9</td>\n",
       "      <td>7.8</td>\n",
       "      <td>ESE</td>\n",
       "      <td>7</td>\n",
       "    </tr>\n",
       "    <tr>\n",
       "      <th>2</th>\n",
       "      <td>3/07/2022</td>\n",
       "      <td>4.0</td>\n",
       "      <td>8.4</td>\n",
       "      <td>0.0</td>\n",
       "      <td>ESE</td>\n",
       "      <td>37.0</td>\n",
       "      <td>11:03</td>\n",
       "      <td>5.4</td>\n",
       "      <td>ESE</td>\n",
       "      <td>17</td>\n",
       "      <td>7.3</td>\n",
       "      <td>ESE</td>\n",
       "      <td>11</td>\n",
       "    </tr>\n",
       "    <tr>\n",
       "      <th>3</th>\n",
       "      <td>4/07/2022</td>\n",
       "      <td>3.5</td>\n",
       "      <td>8.8</td>\n",
       "      <td>0.0</td>\n",
       "      <td>ESE</td>\n",
       "      <td>35.0</td>\n",
       "      <td>7:07</td>\n",
       "      <td>6.3</td>\n",
       "      <td>ESE</td>\n",
       "      <td>15</td>\n",
       "      <td>8.6</td>\n",
       "      <td>ESE</td>\n",
       "      <td>9</td>\n",
       "    </tr>\n",
       "    <tr>\n",
       "      <th>4</th>\n",
       "      <td>5/07/2022</td>\n",
       "      <td>6.3</td>\n",
       "      <td>10.1</td>\n",
       "      <td>0.4</td>\n",
       "      <td>ESE</td>\n",
       "      <td>30.0</td>\n",
       "      <td>10:34</td>\n",
       "      <td>7.3</td>\n",
       "      <td>ESE</td>\n",
       "      <td>13</td>\n",
       "      <td>9.7</td>\n",
       "      <td>ESE</td>\n",
       "      <td>13</td>\n",
       "    </tr>\n",
       "    <tr>\n",
       "      <th>5</th>\n",
       "      <td>6/07/2022</td>\n",
       "      <td>4.5</td>\n",
       "      <td>12.9</td>\n",
       "      <td>0.0</td>\n",
       "      <td>NNW</td>\n",
       "      <td>17.0</td>\n",
       "      <td>5:00</td>\n",
       "      <td>9.5</td>\n",
       "      <td>NNW</td>\n",
       "      <td>4</td>\n",
       "      <td>12.3</td>\n",
       "      <td>NW</td>\n",
       "      <td>4</td>\n",
       "    </tr>\n",
       "    <tr>\n",
       "      <th>6</th>\n",
       "      <td>7/07/2022</td>\n",
       "      <td>4.6</td>\n",
       "      <td>8.7</td>\n",
       "      <td>0.4</td>\n",
       "      <td>WSW</td>\n",
       "      <td>22.0</td>\n",
       "      <td>23:35</td>\n",
       "      <td>5.7</td>\n",
       "      <td>WSW</td>\n",
       "      <td>4</td>\n",
       "      <td>7.6</td>\n",
       "      <td>W</td>\n",
       "      <td>4</td>\n",
       "    </tr>\n",
       "    <tr>\n",
       "      <th>7</th>\n",
       "      <td>8/07/2022</td>\n",
       "      <td>5.6</td>\n",
       "      <td>7.5</td>\n",
       "      <td>16.6</td>\n",
       "      <td>W</td>\n",
       "      <td>37.0</td>\n",
       "      <td>15:45</td>\n",
       "      <td>6.0</td>\n",
       "      <td>W</td>\n",
       "      <td>7</td>\n",
       "      <td>7.2</td>\n",
       "      <td>WSW</td>\n",
       "      <td>9</td>\n",
       "    </tr>\n",
       "    <tr>\n",
       "      <th>8</th>\n",
       "      <td>9/07/2022</td>\n",
       "      <td>5.1</td>\n",
       "      <td>8.4</td>\n",
       "      <td>11.6</td>\n",
       "      <td>ESE</td>\n",
       "      <td>26.0</td>\n",
       "      <td>23:07</td>\n",
       "      <td>5.8</td>\n",
       "      <td>SW</td>\n",
       "      <td>4</td>\n",
       "      <td>7.8</td>\n",
       "      <td>SE</td>\n",
       "      <td>4</td>\n",
       "    </tr>\n",
       "    <tr>\n",
       "      <th>9</th>\n",
       "      <td>10/07/2022</td>\n",
       "      <td>5.2</td>\n",
       "      <td>11.8</td>\n",
       "      <td>1.4</td>\n",
       "      <td>E</td>\n",
       "      <td>31.0</td>\n",
       "      <td>5:59</td>\n",
       "      <td>6.9</td>\n",
       "      <td>E</td>\n",
       "      <td>11</td>\n",
       "      <td>11.1</td>\n",
       "      <td>NE</td>\n",
       "      <td>6</td>\n",
       "    </tr>\n",
       "  </tbody>\n",
       "</table>\n",
       "</div>"
      ],
      "text/plain": [
       "         Date  Minimum temperature (°C)  Maximum temperature (°C)  \\\n",
       "0   1/07/2022                       4.8                       9.5   \n",
       "1   2/07/2022                       5.1                       8.7   \n",
       "2   3/07/2022                       4.0                       8.4   \n",
       "3   4/07/2022                       3.5                       8.8   \n",
       "4   5/07/2022                       6.3                      10.1   \n",
       "5   6/07/2022                       4.5                      12.9   \n",
       "6   7/07/2022                       4.6                       8.7   \n",
       "7   8/07/2022                       5.6                       7.5   \n",
       "8   9/07/2022                       5.1                       8.4   \n",
       "9  10/07/2022                       5.2                      11.8   \n",
       "\n",
       "   Rainfall (mm) Direction of maximum wind gust   \\\n",
       "0            0.0                              SE   \n",
       "1            0.2                              SE   \n",
       "2            0.0                             ESE   \n",
       "3            0.0                             ESE   \n",
       "4            0.4                             ESE   \n",
       "5            0.0                             NNW   \n",
       "6            0.4                             WSW   \n",
       "7           16.6                               W   \n",
       "8           11.6                             ESE   \n",
       "9            1.4                               E   \n",
       "\n",
       "   Speed of maximum wind gust (km/h) Time of maximum wind gust  \\\n",
       "0                               20.0                     23:38   \n",
       "1                               30.0                     23:36   \n",
       "2                               37.0                     11:03   \n",
       "3                               35.0                      7:07   \n",
       "4                               30.0                     10:34   \n",
       "5                               17.0                      5:00   \n",
       "6                               22.0                     23:35   \n",
       "7                               37.0                     15:45   \n",
       "8                               26.0                     23:07   \n",
       "9                               31.0                      5:59   \n",
       "\n",
       "   9am Temperature (°C) 9am wind direction 9am wind speed (km/h)  \\\n",
       "0                   6.9                ESE                     6   \n",
       "1                   6.2                ESE                     9   \n",
       "2                   5.4                ESE                    17   \n",
       "3                   6.3                ESE                    15   \n",
       "4                   7.3                ESE                    13   \n",
       "5                   9.5                NNW                     4   \n",
       "6                   5.7                WSW                     4   \n",
       "7                   6.0                  W                     7   \n",
       "8                   5.8                 SW                     4   \n",
       "9                   6.9                  E                    11   \n",
       "\n",
       "   3pm Temperature (°C) 3pm wind direction 3pm wind speed (km/h)  \n",
       "0                   8.5                  E                     4  \n",
       "1                   7.8                ESE                     7  \n",
       "2                   7.3                ESE                    11  \n",
       "3                   8.6                ESE                     9  \n",
       "4                   9.7                ESE                    13  \n",
       "5                  12.3                 NW                     4  \n",
       "6                   7.6                  W                     4  \n",
       "7                   7.2                WSW                     9  \n",
       "8                   7.8                 SE                     4  \n",
       "9                  11.1                 NE                     6  "
      ]
     },
     "execution_count": 55,
     "metadata": {},
     "output_type": "execute_result"
    }
   ],
   "source": [
    "clean_Ferny_Creek.head(10)"
   ]
  },
  {
   "cell_type": "code",
   "execution_count": 56,
   "id": "1b07a514",
   "metadata": {},
   "outputs": [
    {
     "data": {
      "text/plain": [
       "Date                                  object\n",
       "Minimum temperature (°C)             float64\n",
       "Maximum temperature (°C)             float64\n",
       "Rainfall (mm)                        float64\n",
       "Direction of maximum wind gust        object\n",
       "Speed of maximum wind gust (km/h)    float64\n",
       "Time of maximum wind gust             object\n",
       "9am Temperature (°C)                 float64\n",
       "9am wind direction                    object\n",
       "9am wind speed (km/h)                 object\n",
       "3pm Temperature (°C)                 float64\n",
       "3pm wind direction                    object\n",
       "3pm wind speed (km/h)                 object\n",
       "dtype: object"
      ]
     },
     "execution_count": 56,
     "metadata": {},
     "output_type": "execute_result"
    }
   ],
   "source": [
    "clean_Ferny_Creek.dtypes"
   ]
  },
  {
   "cell_type": "code",
   "execution_count": 57,
   "id": "a76ab4d0",
   "metadata": {},
   "outputs": [],
   "source": [
    "clean_Ferny_Creek['station_id']= 86266"
   ]
  },
  {
   "cell_type": "code",
   "execution_count": 58,
   "id": "e9ad70ba",
   "metadata": {},
   "outputs": [
    {
     "data": {
      "text/plain": [
       "Date                                  object\n",
       "Minimum temperature (°C)             float64\n",
       "Maximum temperature (°C)             float64\n",
       "Rainfall (mm)                        float64\n",
       "Direction of maximum wind gust        object\n",
       "Speed of maximum wind gust (km/h)    float64\n",
       "Time of maximum wind gust             object\n",
       "9am Temperature (°C)                 float64\n",
       "9am wind direction                    object\n",
       "9am wind speed (km/h)                 object\n",
       "3pm Temperature (°C)                 float64\n",
       "3pm wind direction                    object\n",
       "3pm wind speed (km/h)                 object\n",
       "station_id                             int64\n",
       "dtype: object"
      ]
     },
     "execution_count": 58,
     "metadata": {},
     "output_type": "execute_result"
    }
   ],
   "source": [
    "clean_Ferny_Creek.dtypes"
   ]
  },
  {
   "cell_type": "code",
   "execution_count": 59,
   "id": "f9e1f317",
   "metadata": {},
   "outputs": [],
   "source": [
    "# change 'calm' to numeric 0 in wind speed column\n",
    "clean_Ferny_Creek['9am wind speed (km/h)'].replace(\"Calm\", 0, inplace=True)"
   ]
  },
  {
   "cell_type": "code",
   "execution_count": 60,
   "id": "d81a8dc4",
   "metadata": {},
   "outputs": [],
   "source": [
    "clean_Ferny_Creek['3pm wind speed (km/h)'].replace(\"Calm\", 0, inplace=True)"
   ]
  },
  {
   "cell_type": "code",
   "execution_count": 61,
   "id": "dc265d3f",
   "metadata": {},
   "outputs": [],
   "source": [
    "clean_Ferny_Creek['Speed of maximum wind gust (km/h)'].replace(\"Calm\", 0, inplace=True)"
   ]
  },
  {
   "cell_type": "code",
   "execution_count": 62,
   "id": "a896dd7d",
   "metadata": {},
   "outputs": [],
   "source": [
    "clean_Ferny_Creek['9am wind speed (km/h)'].replace(np.nan, 0, inplace=True)"
   ]
  },
  {
   "cell_type": "code",
   "execution_count": 63,
   "id": "e6ccb61a",
   "metadata": {},
   "outputs": [],
   "source": [
    "clean_Ferny_Creek['3pm wind speed (km/h)'].replace(np.nan, 0, inplace=True)"
   ]
  },
  {
   "cell_type": "code",
   "execution_count": 64,
   "id": "07817872",
   "metadata": {},
   "outputs": [],
   "source": [
    "clean_Ferny_Creek['Speed of maximum wind gust (km/h)'].replace(np.nan, 0, inplace=True)"
   ]
  },
  {
   "cell_type": "code",
   "execution_count": 65,
   "id": "4aa5c534",
   "metadata": {},
   "outputs": [],
   "source": [
    "clean_Ferny_Creek['Speed of maximum wind gust (km/h)'].replace('NaN', 0, inplace=True)"
   ]
  },
  {
   "cell_type": "code",
   "execution_count": 66,
   "id": "17e8e780",
   "metadata": {},
   "outputs": [],
   "source": [
    "clean_Ferny_Creek['9am wind speed (km/h)'].replace('NaN', 0, inplace=True)"
   ]
  },
  {
   "cell_type": "code",
   "execution_count": 67,
   "id": "132d2b74",
   "metadata": {},
   "outputs": [],
   "source": [
    "clean_Ferny_Creek['3pm wind speed (km/h)'].replace('NaN', 0, inplace=True)"
   ]
  },
  {
   "cell_type": "code",
   "execution_count": 68,
   "id": "fa5c23b1",
   "metadata": {},
   "outputs": [],
   "source": [
    "clean_Ferny_Creek['3pm wind direction'].replace(np.nan, \"None\", inplace=True)"
   ]
  },
  {
   "cell_type": "code",
   "execution_count": 69,
   "id": "54bf8f43",
   "metadata": {},
   "outputs": [],
   "source": [
    "clean_Ferny_Creek['9am wind direction'].replace(np.nan, \"None\", inplace=True)"
   ]
  },
  {
   "cell_type": "code",
   "execution_count": 70,
   "id": "88182d74",
   "metadata": {},
   "outputs": [
    {
     "data": {
      "text/plain": [
       "81"
      ]
     },
     "execution_count": 70,
     "metadata": {},
     "output_type": "execute_result"
    }
   ],
   "source": [
    "clean_Ferny_Creek.isnull().values.sum()"
   ]
  },
  {
   "cell_type": "code",
   "execution_count": 91,
   "id": "3a811ef5",
   "metadata": {},
   "outputs": [
    {
     "name": "stdout",
     "output_type": "stream",
     "text": [
      "          Date  Minimum temperature (°C)  Maximum temperature (°C)  \\\n",
      "1    2/02/2022                      9.30                 16.300000   \n",
      "2    3/02/2022                      8.70                 18.633333   \n",
      "3    4/02/2022                     10.25                 20.966667   \n",
      "18  19/01/2022                     11.00                 21.400000   \n",
      "29  30/10/2021                      2.50                 19.366667   \n",
      "7    8/09/2021                      6.10                 15.400000   \n",
      "11  2021-06-12                      7.80                 10.500000   \n",
      "13  2021-06-14                      7.85                 12.000000   \n",
      "15  2021-06-16                      7.90                 12.000000   \n",
      "21  2021-06-22                      5.80                 12.200000   \n",
      "22  2021-06-23                      8.60                 12.100000   \n",
      "9   2021-03-10                      9.70                 19.100000   \n",
      "2    2020-12-3                      6.10                 21.600000   \n",
      "22  2020-08-23                      2.00                  6.933333   \n",
      "19  2019-04-20                     13.50                 25.300000   \n",
      "26  2019-02-27                      9.10                 30.700000   \n",
      "10  2018-10-11                      4.20                 10.050000   \n",
      "3    2018-05-4                      7.00                 11.700000   \n",
      "17  2018-04-18                      5.70                 19.000000   \n",
      "\n",
      "    Rainfall (mm) Direction of maximum wind gust   \\\n",
      "1        1.000000                            None   \n",
      "2        0.750000                            None   \n",
      "3        0.500000                            None   \n",
      "18       0.266667                            None   \n",
      "29       8.600000                            None   \n",
      "7        0.000000                            None   \n",
      "11      19.800000                            None   \n",
      "13      11.000000                            None   \n",
      "15       2.200000                            None   \n",
      "21       0.000000                            None   \n",
      "22       6.650000                            None   \n",
      "9        2.600000                            None   \n",
      "2        1.200000                            None   \n",
      "22      32.000000                            None   \n",
      "19       0.000000                            None   \n",
      "26       0.000000                            None   \n",
      "10       0.000000                            None   \n",
      "3       11.200000                            None   \n",
      "17       1.600000                            None   \n",
      "\n",
      "    Speed of maximum wind gust (km/h) Time of maximum wind gust  \\\n",
      "1                                 0.0                       NaN   \n",
      "2                                 0.0                       NaN   \n",
      "3                                 0.0                       NaN   \n",
      "18                                0.0                       NaN   \n",
      "29                                0.0                       NaN   \n",
      "7                                 0.0                       NaN   \n",
      "11                                0.0                       NaN   \n",
      "13                                0.0                       NaN   \n",
      "15                                0.0                       NaN   \n",
      "21                                0.0                       NaN   \n",
      "22                                0.0                       NaN   \n",
      "9                                 0.0                       NaN   \n",
      "2                                 0.0                       NaN   \n",
      "22                                0.0                       NaN   \n",
      "19                                0.0                       NaN   \n",
      "26                                0.0                       NaN   \n",
      "10                                0.0                       NaN   \n",
      "3                                 0.0                       NaN   \n",
      "17                                0.0                       NaN   \n",
      "\n",
      "    9am Temperature (°C) 9am wind direction 9am wind speed (km/h)  \\\n",
      "1                   12.0                  S                   7.0   \n",
      "2                   13.6               None                     0   \n",
      "3                   15.2               None                     0   \n",
      "18                  16.5                  E                    22   \n",
      "29                   6.0                 NW                     7   \n",
      "7                    9.0                NNW                     9   \n",
      "11                   8.2                  W                     4   \n",
      "13                   9.2                 NW                     4   \n",
      "15                   7.9                 NE                    19   \n",
      "21                   8.7                NNW                     4   \n",
      "22                  10.7                NNE                    13   \n",
      "9                   11.1                ESE                     9   \n",
      "2                   12.2                 SE                     6   \n",
      "22                   4.9                  W                     4   \n",
      "19                  21.4                ENE                     4   \n",
      "26                  14.5               None                     0   \n",
      "10                   8.5                  E                     9   \n",
      "3                    7.2                WNW                     4   \n",
      "17                  12.3                 NW                     4   \n",
      "\n",
      "    3pm Temperature (°C) 3pm wind direction 3pm wind speed (km/h)  station_id  \n",
      "1                   14.8                SSW                     6       86266  \n",
      "2                   14.0                  S                     6       86266  \n",
      "3                   19.1                 SE                    13       86266  \n",
      "18                  20.2                  E                    24       86266  \n",
      "29                  18.3               None                     0       86266  \n",
      "7                   14.9                NNW                     9       86266  \n",
      "11                  10.2                  W                     2       86266  \n",
      "13                  11.0                                        0       86266  \n",
      "15                  10.8                  N                     7       86266  \n",
      "21                  11.7                  N                     6       86266  \n",
      "22                  10.0                NNE                    15       86266  \n",
      "9                   17.7                  E                     7       86266  \n",
      "2                   20.2                  W                     4       86266  \n",
      "22                   5.7                WSW                     9       86266  \n",
      "19                  24.6                  N                     6       86266  \n",
      "26                  29.1                NNE                     4       86266  \n",
      "10                   8.1               None                     0       86266  \n",
      "3                    9.7                  W                     6       86266  \n",
      "17                  18.6                NNE                     6       86266  \n"
     ]
    }
   ],
   "source": [
    "# no longer necessary, but leaving in for next run.\n",
    "rows_with_nan = clean_Ferny_Creek[clean_Ferny_Creek.isna().any(axis=1)]\n",
    "\n",
    "# Print the rows with NaN values\n",
    "print(rows_with_nan)"
   ]
  },
  {
   "cell_type": "code",
   "execution_count": null,
   "id": "49300ce9",
   "metadata": {},
   "outputs": [],
   "source": []
  },
  {
   "cell_type": "code",
   "execution_count": 72,
   "id": "0bc6cdcf",
   "metadata": {},
   "outputs": [],
   "source": [
    "clean_Ferny_Creek['Direction of maximum wind gust '].replace(np.nan, \"None\", inplace=True)"
   ]
  },
  {
   "cell_type": "code",
   "execution_count": 73,
   "id": "66e1ea9f",
   "metadata": {},
   "outputs": [],
   "source": [
    "clean_Ferny_Creek['Speed of maximum wind gust (km/h)'].replace(np.nan, 0, inplace=True)"
   ]
  },
  {
   "cell_type": "code",
   "execution_count": 78,
   "id": "37ca8b46",
   "metadata": {},
   "outputs": [],
   "source": [
    "clean_Ferny_Creek['9am wind direction'].replace(0, \"None\", inplace=True)"
   ]
  },
  {
   "cell_type": "code",
   "execution_count": 81,
   "id": "153023df",
   "metadata": {},
   "outputs": [],
   "source": [
    "clean_Ferny_Creek['9am wind direction'].replace(\" \", \"None\", inplace=True)"
   ]
  },
  {
   "cell_type": "code",
   "execution_count": 77,
   "id": "63fa208f",
   "metadata": {},
   "outputs": [],
   "source": [
    "clean_Ferny_Creek['9am wind direction'] = clean_Ferny_Creek['9am wind direction'].fillna(0)"
   ]
  },
  {
   "cell_type": "code",
   "execution_count": 82,
   "id": "997224bf",
   "metadata": {},
   "outputs": [
    {
     "name": "stdout",
     "output_type": "stream",
     "text": [
      "['ESE' 'NNW' 'WSW' 'W' 'SW' 'E' 'N' 'WNW' 'SSE' 'None' 'NE' 'NNE' 'NW'\n",
      " 'ENE' 'SE' 'S' 'SSW']\n"
     ]
    }
   ],
   "source": [
    "# I can be blind sometimes. Check for spaces, always. Keeping in for posterity\n",
    "print(clean_Ferny_Creek['9am wind direction'].unique())"
   ]
  },
  {
   "cell_type": "code",
   "execution_count": 250,
   "id": "005ecbe9",
   "metadata": {},
   "outputs": [],
   "source": [
    "# print(clean_Ferny_Creek['9am MSL pressure (hPa)'].unique())"
   ]
  },
  {
   "cell_type": "code",
   "execution_count": 251,
   "id": "102dccfa",
   "metadata": {},
   "outputs": [],
   "source": [
    "# get rid of NANs in some of the columns\n",
    "# clean_Ferny_Creek['Rainfall (mm)'] = clean_Ferny_Creek['Rainfall (mm)'].fillna(0)"
   ]
  },
  {
   "cell_type": "code",
   "execution_count": 252,
   "id": "df9e5f7f",
   "metadata": {},
   "outputs": [],
   "source": [
    "# # Other columns\n",
    "# clean_Ferny_Creek['9am wind direction'].replace(\" \", \"None\", inplace=True)"
   ]
  },
  {
   "cell_type": "code",
   "execution_count": 253,
   "id": "7f585d6d",
   "metadata": {},
   "outputs": [],
   "source": [
    "# clean_Ferny_Creek['3pm wind direction'].replace(\" \", \"None\", inplace=True)"
   ]
  },
  {
   "cell_type": "code",
   "execution_count": 254,
   "id": "84f60c30",
   "metadata": {},
   "outputs": [],
   "source": [
    "# clean_Ferny_Creek['3pm wind direction'].replace(\"nan\", \"None\", inplace=True)"
   ]
  },
  {
   "cell_type": "code",
   "execution_count": 84,
   "id": "c55f561b",
   "metadata": {},
   "outputs": [],
   "source": [
    "clean_Ferny_Creek['Minimum temperature (°C)'] = pd.to_numeric(clean_Ferny_Creek['Minimum temperature (°C)'], errors='coerce')\n",
    "clean_Ferny_Creek['Minimum temperature (°C)'].interpolate(inplace=True)\n",
    "clean_Ferny_Creek['Minimum temperature (°C)'] = clean_Ferny_Creek['Minimum temperature (°C)'].round(1)"
   ]
  },
  {
   "cell_type": "code",
   "execution_count": 85,
   "id": "04a2399d",
   "metadata": {},
   "outputs": [],
   "source": [
    "clean_Ferny_Creek['Maximum temperature (°C)'] = pd.to_numeric(clean_Ferny_Creek['Maximum temperature (°C)'], errors='coerce')\n",
    "clean_Ferny_Creek['Maximum temperature (°C)'].interpolate(inplace=True)\n",
    "clean_Ferny_Creek['Maximum temperature (°C)'] = clean_Ferny_Creek['Maximum temperature (°C)'].round(1)"
   ]
  },
  {
   "cell_type": "code",
   "execution_count": 92,
   "id": "33e0f09f",
   "metadata": {},
   "outputs": [],
   "source": [
    "clean_Ferny_Creek['Rainfall (mm)'] = pd.to_numeric(clean_Ferny_Creek['Rainfall (mm)'], errors='coerce')\n",
    "clean_Ferny_Creek['Rainfall (mm)'].interpolate(inplace=True)\n",
    "clean_Ferny_Creek['Rainfall (mm)'] = clean_Ferny_Creek['Rainfall (mm)'].round(1)"
   ]
  },
  {
   "cell_type": "code",
   "execution_count": 87,
   "id": "b704a7a7",
   "metadata": {},
   "outputs": [],
   "source": [
    "clean_Ferny_Creek['9am Temperature (°C)'] = pd.to_numeric(clean_Ferny_Creek['9am Temperature (°C)'], errors='coerce')\n",
    "clean_Ferny_Creek['9am Temperature (°C)'].interpolate(inplace=True)"
   ]
  },
  {
   "cell_type": "code",
   "execution_count": 93,
   "id": "3a3f07d5",
   "metadata": {},
   "outputs": [],
   "source": [
    "clean_Ferny_Creek['3pm Temperature (°C)'] = pd.to_numeric(clean_Ferny_Creek['3pm Temperature (°C)'], errors='coerce')\n",
    "clean_Ferny_Creek['3pm Temperature (°C)'].interpolate(inplace=True)\n",
    "clean_Ferny_Creek['3pm Temperature (°C)'] = clean_Ferny_Creek['3pm Temperature (°C)'].round(1)"
   ]
  },
  {
   "cell_type": "code",
   "execution_count": 94,
   "id": "3675359c",
   "metadata": {},
   "outputs": [
    {
     "data": {
      "text/html": [
       "<div>\n",
       "<style scoped>\n",
       "    .dataframe tbody tr th:only-of-type {\n",
       "        vertical-align: middle;\n",
       "    }\n",
       "\n",
       "    .dataframe tbody tr th {\n",
       "        vertical-align: top;\n",
       "    }\n",
       "\n",
       "    .dataframe thead th {\n",
       "        text-align: right;\n",
       "    }\n",
       "</style>\n",
       "<table border=\"1\" class=\"dataframe\">\n",
       "  <thead>\n",
       "    <tr style=\"text-align: right;\">\n",
       "      <th></th>\n",
       "      <th>Date</th>\n",
       "      <th>Minimum temperature (°C)</th>\n",
       "      <th>Maximum temperature (°C)</th>\n",
       "      <th>Rainfall (mm)</th>\n",
       "      <th>Direction of maximum wind gust</th>\n",
       "      <th>Speed of maximum wind gust (km/h)</th>\n",
       "      <th>Time of maximum wind gust</th>\n",
       "      <th>9am Temperature (°C)</th>\n",
       "      <th>9am wind direction</th>\n",
       "      <th>9am wind speed (km/h)</th>\n",
       "      <th>3pm Temperature (°C)</th>\n",
       "      <th>3pm wind direction</th>\n",
       "      <th>3pm wind speed (km/h)</th>\n",
       "      <th>station_id</th>\n",
       "    </tr>\n",
       "  </thead>\n",
       "  <tbody>\n",
       "    <tr>\n",
       "      <th>0</th>\n",
       "      <td>1/07/2022</td>\n",
       "      <td>4.8</td>\n",
       "      <td>9.5</td>\n",
       "      <td>0.0</td>\n",
       "      <td>SE</td>\n",
       "      <td>20.0</td>\n",
       "      <td>23:38</td>\n",
       "      <td>6.9</td>\n",
       "      <td>ESE</td>\n",
       "      <td>6</td>\n",
       "      <td>8.5</td>\n",
       "      <td>E</td>\n",
       "      <td>4</td>\n",
       "      <td>86266</td>\n",
       "    </tr>\n",
       "    <tr>\n",
       "      <th>1</th>\n",
       "      <td>2/07/2022</td>\n",
       "      <td>5.1</td>\n",
       "      <td>8.7</td>\n",
       "      <td>0.2</td>\n",
       "      <td>SE</td>\n",
       "      <td>30.0</td>\n",
       "      <td>23:36</td>\n",
       "      <td>6.2</td>\n",
       "      <td>ESE</td>\n",
       "      <td>9</td>\n",
       "      <td>7.8</td>\n",
       "      <td>ESE</td>\n",
       "      <td>7</td>\n",
       "      <td>86266</td>\n",
       "    </tr>\n",
       "    <tr>\n",
       "      <th>2</th>\n",
       "      <td>3/07/2022</td>\n",
       "      <td>4.0</td>\n",
       "      <td>8.4</td>\n",
       "      <td>0.0</td>\n",
       "      <td>ESE</td>\n",
       "      <td>37.0</td>\n",
       "      <td>11:03</td>\n",
       "      <td>5.4</td>\n",
       "      <td>ESE</td>\n",
       "      <td>17</td>\n",
       "      <td>7.3</td>\n",
       "      <td>ESE</td>\n",
       "      <td>11</td>\n",
       "      <td>86266</td>\n",
       "    </tr>\n",
       "    <tr>\n",
       "      <th>3</th>\n",
       "      <td>4/07/2022</td>\n",
       "      <td>3.5</td>\n",
       "      <td>8.8</td>\n",
       "      <td>0.0</td>\n",
       "      <td>ESE</td>\n",
       "      <td>35.0</td>\n",
       "      <td>7:07</td>\n",
       "      <td>6.3</td>\n",
       "      <td>ESE</td>\n",
       "      <td>15</td>\n",
       "      <td>8.6</td>\n",
       "      <td>ESE</td>\n",
       "      <td>9</td>\n",
       "      <td>86266</td>\n",
       "    </tr>\n",
       "    <tr>\n",
       "      <th>4</th>\n",
       "      <td>5/07/2022</td>\n",
       "      <td>6.3</td>\n",
       "      <td>10.1</td>\n",
       "      <td>0.4</td>\n",
       "      <td>ESE</td>\n",
       "      <td>30.0</td>\n",
       "      <td>10:34</td>\n",
       "      <td>7.3</td>\n",
       "      <td>ESE</td>\n",
       "      <td>13</td>\n",
       "      <td>9.7</td>\n",
       "      <td>ESE</td>\n",
       "      <td>13</td>\n",
       "      <td>86266</td>\n",
       "    </tr>\n",
       "    <tr>\n",
       "      <th>...</th>\n",
       "      <td>...</td>\n",
       "      <td>...</td>\n",
       "      <td>...</td>\n",
       "      <td>...</td>\n",
       "      <td>...</td>\n",
       "      <td>...</td>\n",
       "      <td>...</td>\n",
       "      <td>...</td>\n",
       "      <td>...</td>\n",
       "      <td>...</td>\n",
       "      <td>...</td>\n",
       "      <td>...</td>\n",
       "      <td>...</td>\n",
       "      <td>...</td>\n",
       "    </tr>\n",
       "    <tr>\n",
       "      <th>26</th>\n",
       "      <td>2018-01-27</td>\n",
       "      <td>18.2</td>\n",
       "      <td>31.0</td>\n",
       "      <td>3.4</td>\n",
       "      <td>NE</td>\n",
       "      <td>28.0</td>\n",
       "      <td>00:03</td>\n",
       "      <td>21.0</td>\n",
       "      <td>E</td>\n",
       "      <td>4</td>\n",
       "      <td>29.8</td>\n",
       "      <td>E</td>\n",
       "      <td>6</td>\n",
       "      <td>86266</td>\n",
       "    </tr>\n",
       "    <tr>\n",
       "      <th>27</th>\n",
       "      <td>2018-01-28</td>\n",
       "      <td>20.4</td>\n",
       "      <td>34.1</td>\n",
       "      <td>0.0</td>\n",
       "      <td>WNW</td>\n",
       "      <td>31.0</td>\n",
       "      <td>14:27</td>\n",
       "      <td>26.7</td>\n",
       "      <td>N</td>\n",
       "      <td>7</td>\n",
       "      <td>32.5</td>\n",
       "      <td>NNE</td>\n",
       "      <td>6</td>\n",
       "      <td>86266</td>\n",
       "    </tr>\n",
       "    <tr>\n",
       "      <th>28</th>\n",
       "      <td>2018-01-29</td>\n",
       "      <td>24.4</td>\n",
       "      <td>30.8</td>\n",
       "      <td>0.0</td>\n",
       "      <td>N</td>\n",
       "      <td>43.0</td>\n",
       "      <td>05:15</td>\n",
       "      <td>26.2</td>\n",
       "      <td>N</td>\n",
       "      <td>15</td>\n",
       "      <td>29.2</td>\n",
       "      <td>NNE</td>\n",
       "      <td>4</td>\n",
       "      <td>86266</td>\n",
       "    </tr>\n",
       "    <tr>\n",
       "      <th>29</th>\n",
       "      <td>2018-01-30</td>\n",
       "      <td>10.7</td>\n",
       "      <td>16.2</td>\n",
       "      <td>30.0</td>\n",
       "      <td>S</td>\n",
       "      <td>28.0</td>\n",
       "      <td>05:32</td>\n",
       "      <td>11.4</td>\n",
       "      <td>S</td>\n",
       "      <td>6</td>\n",
       "      <td>14.6</td>\n",
       "      <td>ESE</td>\n",
       "      <td>6</td>\n",
       "      <td>86266</td>\n",
       "    </tr>\n",
       "    <tr>\n",
       "      <th>30</th>\n",
       "      <td>2018-01-31</td>\n",
       "      <td>9.2</td>\n",
       "      <td>16.3</td>\n",
       "      <td>0.2</td>\n",
       "      <td>SE</td>\n",
       "      <td>31.0</td>\n",
       "      <td>11:15</td>\n",
       "      <td>11.3</td>\n",
       "      <td>S</td>\n",
       "      <td>7</td>\n",
       "      <td>13.9</td>\n",
       "      <td>SE</td>\n",
       "      <td>11</td>\n",
       "      <td>86266</td>\n",
       "    </tr>\n",
       "  </tbody>\n",
       "</table>\n",
       "<p>1401 rows × 14 columns</p>\n",
       "</div>"
      ],
      "text/plain": [
       "          Date  Minimum temperature (°C)  Maximum temperature (°C)  \\\n",
       "0    1/07/2022                       4.8                       9.5   \n",
       "1    2/07/2022                       5.1                       8.7   \n",
       "2    3/07/2022                       4.0                       8.4   \n",
       "3    4/07/2022                       3.5                       8.8   \n",
       "4    5/07/2022                       6.3                      10.1   \n",
       "..         ...                       ...                       ...   \n",
       "26  2018-01-27                      18.2                      31.0   \n",
       "27  2018-01-28                      20.4                      34.1   \n",
       "28  2018-01-29                      24.4                      30.8   \n",
       "29  2018-01-30                      10.7                      16.2   \n",
       "30  2018-01-31                       9.2                      16.3   \n",
       "\n",
       "    Rainfall (mm) Direction of maximum wind gust   \\\n",
       "0             0.0                              SE   \n",
       "1             0.2                              SE   \n",
       "2             0.0                             ESE   \n",
       "3             0.0                             ESE   \n",
       "4             0.4                             ESE   \n",
       "..            ...                             ...   \n",
       "26            3.4                              NE   \n",
       "27            0.0                             WNW   \n",
       "28            0.0                               N   \n",
       "29           30.0                               S   \n",
       "30            0.2                              SE   \n",
       "\n",
       "    Speed of maximum wind gust (km/h) Time of maximum wind gust  \\\n",
       "0                                20.0                     23:38   \n",
       "1                                30.0                     23:36   \n",
       "2                                37.0                     11:03   \n",
       "3                                35.0                      7:07   \n",
       "4                                30.0                     10:34   \n",
       "..                                ...                       ...   \n",
       "26                               28.0                     00:03   \n",
       "27                               31.0                     14:27   \n",
       "28                               43.0                     05:15   \n",
       "29                               28.0                     05:32   \n",
       "30                               31.0                     11:15   \n",
       "\n",
       "    9am Temperature (°C) 9am wind direction 9am wind speed (km/h)  \\\n",
       "0                    6.9                ESE                     6   \n",
       "1                    6.2                ESE                     9   \n",
       "2                    5.4                ESE                    17   \n",
       "3                    6.3                ESE                    15   \n",
       "4                    7.3                ESE                    13   \n",
       "..                   ...                ...                   ...   \n",
       "26                  21.0                  E                     4   \n",
       "27                  26.7                  N                     7   \n",
       "28                  26.2                  N                    15   \n",
       "29                  11.4                  S                     6   \n",
       "30                  11.3                  S                     7   \n",
       "\n",
       "    3pm Temperature (°C) 3pm wind direction 3pm wind speed (km/h)  station_id  \n",
       "0                    8.5                  E                     4       86266  \n",
       "1                    7.8                ESE                     7       86266  \n",
       "2                    7.3                ESE                    11       86266  \n",
       "3                    8.6                ESE                     9       86266  \n",
       "4                    9.7                ESE                    13       86266  \n",
       "..                   ...                ...                   ...         ...  \n",
       "26                  29.8                  E                     6       86266  \n",
       "27                  32.5                NNE                     6       86266  \n",
       "28                  29.2                NNE                     4       86266  \n",
       "29                  14.6                ESE                     6       86266  \n",
       "30                  13.9                 SE                    11       86266  \n",
       "\n",
       "[1401 rows x 14 columns]"
      ]
     },
     "execution_count": 94,
     "metadata": {},
     "output_type": "execute_result"
    }
   ],
   "source": [
    "clean_Ferny_Creek"
   ]
  },
  {
   "cell_type": "code",
   "execution_count": 95,
   "id": "cd6e15b4",
   "metadata": {},
   "outputs": [
    {
     "data": {
      "text/plain": [
       "19"
      ]
     },
     "execution_count": 95,
     "metadata": {},
     "output_type": "execute_result"
    }
   ],
   "source": [
    "clean_Ferny_Creek.isnull().values.sum()"
   ]
  },
  {
   "cell_type": "code",
   "execution_count": 96,
   "id": "53ceecd8",
   "metadata": {},
   "outputs": [],
   "source": [
    "# change those columns with no times to 00:00 (not enough to be statistically relevant)\n",
    "clean_Ferny_Creek['Time of maximum wind gust'].replace(np.nan, \"00:00\", inplace=True)\n"
   ]
  },
  {
   "cell_type": "code",
   "execution_count": 97,
   "id": "cfd59bd8",
   "metadata": {},
   "outputs": [
    {
     "name": "stdout",
     "output_type": "stream",
     "text": [
      "Empty DataFrame\n",
      "Columns: [Date, Minimum temperature (°C), Maximum temperature (°C), Rainfall (mm), Direction of maximum wind gust , Speed of maximum wind gust (km/h), Time of maximum wind gust, 9am Temperature (°C), 9am wind direction, 9am wind speed (km/h), 3pm Temperature (°C), 3pm wind direction, 3pm wind speed (km/h), station_id]\n",
      "Index: []\n"
     ]
    }
   ],
   "source": [
    "# no longer necessary, but leaving in for next run.\n",
    "rows_with_nan = clean_Ferny_Creek[clean_Ferny_Creek.isna().any(axis=1)]\n",
    "\n",
    "# Print the rows with NaN values\n",
    "print(rows_with_nan)"
   ]
  },
  {
   "cell_type": "code",
   "execution_count": 98,
   "id": "eeb82c25",
   "metadata": {},
   "outputs": [
    {
     "name": "stdout",
     "output_type": "stream",
     "text": [
      "Empty DataFrame\n",
      "Columns: [Date, Minimum temperature (°C), Maximum temperature (°C), Rainfall (mm), Direction of maximum wind gust , Speed of maximum wind gust (km/h), Time of maximum wind gust, 9am Temperature (°C), 9am wind direction, 9am wind speed (km/h), 3pm Temperature (°C), 3pm wind direction, 3pm wind speed (km/h), station_id]\n",
      "Index: []\n"
     ]
    }
   ],
   "source": [
    "# no longer necessary, but leaving in for next run.\n",
    "rows_with_nan = clean_Ferny_Creek[clean_Ferny_Creek.isna().any(axis=1)]\n",
    "\n",
    "# Print the rows with NaN values\n",
    "print(rows_with_nan)"
   ]
  },
  {
   "cell_type": "code",
   "execution_count": 99,
   "id": "42a30eb1",
   "metadata": {},
   "outputs": [],
   "source": [
    "clean_Ferny_Creek['Direction of maximum wind gust '].replace(\" \", \"None\", inplace=True)"
   ]
  },
  {
   "cell_type": "code",
   "execution_count": 100,
   "id": "4daab724",
   "metadata": {},
   "outputs": [],
   "source": [
    "clean_Ferny_Creek['Direction of maximum wind gust '].replace(\"NaN\", \"None\", inplace=True)"
   ]
  },
  {
   "cell_type": "code",
   "execution_count": 101,
   "id": "c535fece",
   "metadata": {},
   "outputs": [],
   "source": [
    "clean_Ferny_Creek['3pm wind direction'].replace(\" \", \"None\", inplace=True)"
   ]
  },
  {
   "cell_type": "code",
   "execution_count": 102,
   "id": "a6975819",
   "metadata": {},
   "outputs": [
    {
     "data": {
      "text/plain": [
       "Date                                  object\n",
       "Minimum temperature (°C)             float64\n",
       "Maximum temperature (°C)             float64\n",
       "Rainfall (mm)                        float64\n",
       "Direction of maximum wind gust        object\n",
       "Speed of maximum wind gust (km/h)    float64\n",
       "Time of maximum wind gust             object\n",
       "9am Temperature (°C)                 float64\n",
       "9am wind direction                    object\n",
       "9am wind speed (km/h)                 object\n",
       "3pm Temperature (°C)                 float64\n",
       "3pm wind direction                    object\n",
       "3pm wind speed (km/h)                 object\n",
       "station_id                             int64\n",
       "dtype: object"
      ]
     },
     "execution_count": 102,
     "metadata": {},
     "output_type": "execute_result"
    }
   ],
   "source": [
    "clean_Ferny_Creek.dtypes"
   ]
  },
  {
   "cell_type": "code",
   "execution_count": 103,
   "id": "5ba9e01a",
   "metadata": {},
   "outputs": [],
   "source": [
    "# clean date column\n",
    "clean_Ferny_Creek['Date']= pd.to_datetime(clean_Ferny_Creek['Date'], dayfirst=True)"
   ]
  },
  {
   "cell_type": "code",
   "execution_count": 104,
   "id": "254f5bfd",
   "metadata": {},
   "outputs": [],
   "source": [
    "# Change data column types for time and date fields, also for km/h, now 'calm' has been replaced with 0.\n",
    "\n",
    "clean_Ferny_Creek[[\"9am wind speed (km/h)\", \"3pm wind speed (km/h)\"]] = clean_Ferny_Creek[[\"9am wind speed (km/h)\", \"3pm wind speed (km/h)\"]].apply(pd.to_numeric)"
   ]
  },
  {
   "cell_type": "code",
   "execution_count": 105,
   "id": "ed4bbdd1",
   "metadata": {},
   "outputs": [
    {
     "data": {
      "text/plain": [
       "Date                                 datetime64[ns]\n",
       "Minimum temperature (°C)                    float64\n",
       "Maximum temperature (°C)                    float64\n",
       "Rainfall (mm)                               float64\n",
       "Direction of maximum wind gust               object\n",
       "Speed of maximum wind gust (km/h)           float64\n",
       "Time of maximum wind gust                    object\n",
       "9am Temperature (°C)                        float64\n",
       "9am wind direction                           object\n",
       "9am wind speed (km/h)                       float64\n",
       "3pm Temperature (°C)                        float64\n",
       "3pm wind direction                           object\n",
       "3pm wind speed (km/h)                       float64\n",
       "station_id                                    int64\n",
       "dtype: object"
      ]
     },
     "execution_count": 105,
     "metadata": {},
     "output_type": "execute_result"
    }
   ],
   "source": [
    "clean_Ferny_Creek.dtypes"
   ]
  },
  {
   "cell_type": "code",
   "execution_count": 106,
   "id": "0e497461",
   "metadata": {},
   "outputs": [
    {
     "data": {
      "text/plain": [
       "0"
      ]
     },
     "execution_count": 106,
     "metadata": {},
     "output_type": "execute_result"
    }
   ],
   "source": [
    "clean_Ferny_Creek.isnull().values.sum()"
   ]
  },
  {
   "cell_type": "code",
   "execution_count": 107,
   "id": "8c7430fb",
   "metadata": {},
   "outputs": [],
   "source": [
    "clean_Ferny_Creek['Minimum temperature (°C)'] = pd.to_numeric(clean_Ferny_Creek['Minimum temperature (°C)'], errors='coerce')\n",
    "clean_Ferny_Creek['Minimum temperature (°C)'].interpolate(inplace=True)"
   ]
  },
  {
   "cell_type": "code",
   "execution_count": 272,
   "id": "ac603005",
   "metadata": {},
   "outputs": [],
   "source": [
    "clean_Ferny_Creek['Maximum temperature (°C)'] = pd.to_numeric(clean_Ferny_Creek['Maximum temperature (°C)'], errors='coerce')\n",
    "clean_Ferny_Creek['Maximum temperature (°C)'].interpolate(inplace=True)"
   ]
  },
  {
   "cell_type": "code",
   "execution_count": 275,
   "id": "3c4eca22",
   "metadata": {},
   "outputs": [],
   "source": [
    "clean_Ferny_Creek['Time of maximum wind gust'].replace(np.nan, \"00:00\", inplace=True)"
   ]
  },
  {
   "cell_type": "code",
   "execution_count": 276,
   "id": "b8a7b1d6",
   "metadata": {},
   "outputs": [],
   "source": [
    "# Change data column types for time and date fields, also for km/h, now 'calm' has been replaced with 0.\n",
    "\n",
    "clean_Ferny_Creek[[\"9am wind speed (km/h)\", \"3pm wind speed (km/h)\"]] = clean_Ferny_Creek[[\"9am wind speed (km/h)\", \"3pm wind speed (km/h)\"]].apply(pd.to_numeric)"
   ]
  },
  {
   "cell_type": "code",
   "execution_count": 277,
   "id": "ed107fe8",
   "metadata": {},
   "outputs": [
    {
     "data": {
      "text/plain": [
       "6"
      ]
     },
     "execution_count": 277,
     "metadata": {},
     "output_type": "execute_result"
    }
   ],
   "source": [
    "clean_Ferny_Creek.isnull().values.sum()"
   ]
  },
  {
   "cell_type": "code",
   "execution_count": 109,
   "id": "916f6ef7",
   "metadata": {},
   "outputs": [
    {
     "data": {
      "text/plain": [
       "Date                                 datetime64[ns]\n",
       "Minimum temperature (°C)                    float64\n",
       "Maximum temperature (°C)                    float64\n",
       "Rainfall (mm)                               float64\n",
       "Direction of maximum wind gust               object\n",
       "Speed of maximum wind gust (km/h)           float64\n",
       "Time of maximum wind gust                    object\n",
       "9am Temperature (°C)                        float64\n",
       "9am wind direction                           object\n",
       "9am wind speed (km/h)                       float64\n",
       "3pm Temperature (°C)                        float64\n",
       "3pm wind direction                           object\n",
       "3pm wind speed (km/h)                       float64\n",
       "station_id                                    int64\n",
       "dtype: object"
      ]
     },
     "execution_count": 109,
     "metadata": {},
     "output_type": "execute_result"
    }
   ],
   "source": [
    "clean_Ferny_Creek.dtypes"
   ]
  },
  {
   "cell_type": "code",
   "execution_count": 110,
   "id": "bb8d4dd6",
   "metadata": {},
   "outputs": [],
   "source": [
    "clean_Ferny_Creek.to_csv('Clean_Ferny_Creek.csv', sep=',', index=False)"
   ]
  },
  {
   "cell_type": "code",
   "execution_count": 111,
   "id": "9877b758",
   "metadata": {},
   "outputs": [],
   "source": [
    "clean_Ferny_Creek_slim = clean_Ferny_Creek[['Date','Minimum temperature (°C)','Maximum temperature (°C)','Direction of maximum wind gust ','Speed of maximum wind gust (km/h)']].copy()"
   ]
  },
  {
   "cell_type": "code",
   "execution_count": 112,
   "id": "890aa83b",
   "metadata": {},
   "outputs": [],
   "source": [
    "clean_Ferny_Creek_slim = clean_Ferny_Creek_slim.rename(columns={\"Minimum temperature (°C)\":'Fern_Minimum temperature (°C)',\"Maximum temperature (°C)\":\"Fern_Maximum temperature (°C)\",\"Direction of maximum wind gust \":\"Fern_Direction of maximum wind gust\",\"Speed of maximum wind gust (km/h)\":\"Fern_Speed of maximum wind gust (km/h)\"})"
   ]
  },
  {
   "cell_type": "code",
   "execution_count": 113,
   "id": "6bec5a61",
   "metadata": {},
   "outputs": [],
   "source": [
    "clean_Ferny_Creek_slim.to_csv('clean_Ferny_Creek_slim.csv', sep=',', index=False)"
   ]
  },
  {
   "cell_type": "code",
   "execution_count": null,
   "id": "b229efce",
   "metadata": {},
   "outputs": [],
   "source": []
  },
  {
   "cell_type": "code",
   "execution_count": null,
   "id": "b7ac526a",
   "metadata": {},
   "outputs": [],
   "source": []
  }
 ],
 "metadata": {
  "kernelspec": {
   "display_name": "Python 3 (ipykernel)",
   "language": "python",
   "name": "python3"
  },
  "language_info": {
   "codemirror_mode": {
    "name": "ipython",
    "version": 3
   },
   "file_extension": ".py",
   "mimetype": "text/x-python",
   "name": "python",
   "nbconvert_exporter": "python",
   "pygments_lexer": "ipython3",
   "version": "3.10.12"
  }
 },
 "nbformat": 4,
 "nbformat_minor": 5
}
