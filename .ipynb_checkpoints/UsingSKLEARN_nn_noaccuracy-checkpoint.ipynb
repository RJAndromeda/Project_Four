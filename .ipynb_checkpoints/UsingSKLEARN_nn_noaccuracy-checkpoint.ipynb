{
 "cells": [
  {
   "cell_type": "code",
   "execution_count": 15,
   "id": "448fa4e2",
   "metadata": {},
   "outputs": [],
   "source": [
    "# Import our dependencies\n",
    "from sklearn.model_selection import train_test_split\n",
    "from sklearn.preprocessing import StandardScaler\n",
    "from sklearn.metrics import accuracy_score\n",
    "import pandas as pd\n",
    "import tensorflow as tf\n",
    "\n",
    "# It suggest sklearn.ensemble.HistGradientBoostingClassifier and Regressor, for NaN handlers, or preprocessing data"
   ]
  },
  {
   "cell_type": "code",
   "execution_count": 16,
   "id": "1e0e0123",
   "metadata": {},
   "outputs": [],
   "source": [
    "# Read the CSV file into a Pandas DataFrame\n",
    "try:\n",
    "    df = pd.read_csv(\"CFA_dataset_clean.csv\")\n",
    "except Exception as e:\n",
    "    print(\"An error occured:\", e)"
   ]
  },
  {
   "cell_type": "code",
   "execution_count": 17,
   "id": "78617e6f",
   "metadata": {},
   "outputs": [
    {
     "data": {
      "text/plain": [
       "0"
      ]
     },
     "execution_count": 17,
     "metadata": {},
     "output_type": "execute_result"
    }
   ],
   "source": [
    "df.isnull().values.sum()"
   ]
  },
  {
   "cell_type": "code",
   "execution_count": 18,
   "id": "dffa7a9d",
   "metadata": {},
   "outputs": [
    {
     "data": {
      "text/plain": [
       "incident_datetime                          object\n",
       "Incident_count                              int64\n",
       "Ball_Direction of maximum wind gust        object\n",
       "Ball_Maximum temperature (°C)             float64\n",
       "Ball_Minimum temperature (°C)             float64\n",
       "Ball_Speed of maximum wind gust (km/h)    float64\n",
       "Fern_Direction of maximum wind gust        object\n",
       "Fern_Maximum temperature (°C)             float64\n",
       "Fern_Minimum temperature (°C)             float64\n",
       "Fern_Speed of maximum wind gust (km/h)    float64\n",
       "Wang_Direction of maximum wind gust        object\n",
       "Wang_Maximum temperature (°C)             float64\n",
       "Wang_Minimum temperature (°C)             float64\n",
       "Wang_Speed of maximum wind gust (km/h)    float64\n",
       "dtype: object"
      ]
     },
     "execution_count": 18,
     "metadata": {},
     "output_type": "execute_result"
    }
   ],
   "source": [
    "df.dtypes"
   ]
  },
  {
   "cell_type": "code",
   "execution_count": 5,
   "id": "647021c8",
   "metadata": {},
   "outputs": [],
   "source": [
    "df.drop(columns=['incident_datetime'], inplace=True)"
   ]
  },
  {
   "cell_type": "code",
   "execution_count": 14,
   "id": "bb23e85e",
   "metadata": {},
   "outputs": [
    {
     "ename": "TypeError",
     "evalue": "OneHotEncoder.__init__() got an unexpected keyword argument 'categorical_features'",
     "output_type": "error",
     "traceback": [
      "\u001b[1;31m---------------------------------------------------------------------------\u001b[0m",
      "\u001b[1;31mTypeError\u001b[0m                                 Traceback (most recent call last)",
      "Cell \u001b[1;32mIn[14], line 2\u001b[0m\n\u001b[0;32m      1\u001b[0m \u001b[38;5;28;01mfrom\u001b[39;00m \u001b[38;5;21;01msklearn\u001b[39;00m\u001b[38;5;21;01m.\u001b[39;00m\u001b[38;5;21;01mpreprocessing\u001b[39;00m \u001b[38;5;28;01mimport\u001b[39;00m OneHotEncoder\n\u001b[1;32m----> 2\u001b[0m onehotencoder \u001b[38;5;241m=\u001b[39m \u001b[43mOneHotEncoder\u001b[49m\u001b[43m(\u001b[49m\u001b[43mcategorical_features\u001b[49m\u001b[43m \u001b[49m\u001b[38;5;241;43m=\u001b[39;49m\u001b[43m \u001b[49m\u001b[43m[\u001b[49m\u001b[38;5;241;43m0\u001b[39;49m\u001b[43m]\u001b[49m\u001b[43m)\u001b[49m\n\u001b[0;32m      3\u001b[0m x \u001b[38;5;241m=\u001b[39m onehotencoder\u001b[38;5;241m.\u001b[39mfit_transform(x)\u001b[38;5;241m.\u001b[39mtoarray()\n",
      "\u001b[1;31mTypeError\u001b[0m: OneHotEncoder.__init__() got an unexpected keyword argument 'categorical_features'"
     ]
    }
   ],
   "source": [
    "from sklearn.preprocessing import OneHotEncoder\n",
    "onehotencoder = OneHotEncoder(categorical_features = [0])\n",
    "x = onehotencoder.fit_transform(x).toarray()"
   ]
  },
  {
   "cell_type": "code",
   "execution_count": 13,
   "id": "1e4407ed",
   "metadata": {},
   "outputs": [
    {
     "data": {
      "text/html": [
       "<div>\n",
       "<style scoped>\n",
       "    .dataframe tbody tr th:only-of-type {\n",
       "        vertical-align: middle;\n",
       "    }\n",
       "\n",
       "    .dataframe tbody tr th {\n",
       "        vertical-align: top;\n",
       "    }\n",
       "\n",
       "    .dataframe thead th {\n",
       "        text-align: right;\n",
       "    }\n",
       "</style>\n",
       "<table border=\"1\" class=\"dataframe\">\n",
       "  <thead>\n",
       "    <tr style=\"text-align: right;\">\n",
       "      <th></th>\n",
       "      <th>Incident_count</th>\n",
       "      <th>Ball_Direction of maximum wind gust</th>\n",
       "      <th>Ball_Maximum temperature (°C)</th>\n",
       "      <th>Ball_Minimum temperature (°C)</th>\n",
       "      <th>Ball_Speed of maximum wind gust (km/h)</th>\n",
       "      <th>Fern_Direction of maximum wind gust</th>\n",
       "      <th>Fern_Maximum temperature (°C)</th>\n",
       "      <th>Fern_Minimum temperature (°C)</th>\n",
       "      <th>Fern_Speed of maximum wind gust (km/h)</th>\n",
       "      <th>Wang_Direction of maximum wind gust</th>\n",
       "      <th>Wang_Maximum temperature (°C)</th>\n",
       "      <th>Wang_Minimum temperature (°C)</th>\n",
       "      <th>Wang_Speed of maximum wind gust (km/h)</th>\n",
       "    </tr>\n",
       "  </thead>\n",
       "  <tbody>\n",
       "    <tr>\n",
       "      <th>0</th>\n",
       "      <td>204</td>\n",
       "      <td>NNW</td>\n",
       "      <td>30.5</td>\n",
       "      <td>2.9</td>\n",
       "      <td>78.0</td>\n",
       "      <td>E</td>\n",
       "      <td>18.9</td>\n",
       "      <td>11.8</td>\n",
       "      <td>15.0</td>\n",
       "      <td>N</td>\n",
       "      <td>39.5</td>\n",
       "      <td>13.6</td>\n",
       "      <td>33.0</td>\n",
       "    </tr>\n",
       "    <tr>\n",
       "      <th>1</th>\n",
       "      <td>132</td>\n",
       "      <td>NW</td>\n",
       "      <td>16.4</td>\n",
       "      <td>9.0</td>\n",
       "      <td>61.0</td>\n",
       "      <td>NW</td>\n",
       "      <td>21.2</td>\n",
       "      <td>10.1</td>\n",
       "      <td>19.0</td>\n",
       "      <td>NNW</td>\n",
       "      <td>45.6</td>\n",
       "      <td>18.4</td>\n",
       "      <td>50.0</td>\n",
       "    </tr>\n",
       "    <tr>\n",
       "      <th>2</th>\n",
       "      <td>162</td>\n",
       "      <td>S</td>\n",
       "      <td>28.9</td>\n",
       "      <td>8.0</td>\n",
       "      <td>46.0</td>\n",
       "      <td>NW</td>\n",
       "      <td>10.7</td>\n",
       "      <td>7.2</td>\n",
       "      <td>24.0</td>\n",
       "      <td>WNW</td>\n",
       "      <td>27.3</td>\n",
       "      <td>10.7</td>\n",
       "      <td>44.0</td>\n",
       "    </tr>\n",
       "    <tr>\n",
       "      <th>3</th>\n",
       "      <td>140</td>\n",
       "      <td>SE</td>\n",
       "      <td>26.0</td>\n",
       "      <td>13.3</td>\n",
       "      <td>43.0</td>\n",
       "      <td>WNW</td>\n",
       "      <td>10.7</td>\n",
       "      <td>8.6</td>\n",
       "      <td>26.0</td>\n",
       "      <td>NNE</td>\n",
       "      <td>28.3</td>\n",
       "      <td>8.5</td>\n",
       "      <td>35.0</td>\n",
       "    </tr>\n",
       "    <tr>\n",
       "      <th>4</th>\n",
       "      <td>135</td>\n",
       "      <td>SE</td>\n",
       "      <td>32.8</td>\n",
       "      <td>12.3</td>\n",
       "      <td>43.0</td>\n",
       "      <td>SW</td>\n",
       "      <td>11.4</td>\n",
       "      <td>8.5</td>\n",
       "      <td>43.0</td>\n",
       "      <td>WSW</td>\n",
       "      <td>32.8</td>\n",
       "      <td>10.0</td>\n",
       "      <td>39.0</td>\n",
       "    </tr>\n",
       "    <tr>\n",
       "      <th>...</th>\n",
       "      <td>...</td>\n",
       "      <td>...</td>\n",
       "      <td>...</td>\n",
       "      <td>...</td>\n",
       "      <td>...</td>\n",
       "      <td>...</td>\n",
       "      <td>...</td>\n",
       "      <td>...</td>\n",
       "      <td>...</td>\n",
       "      <td>...</td>\n",
       "      <td>...</td>\n",
       "      <td>...</td>\n",
       "      <td>...</td>\n",
       "    </tr>\n",
       "    <tr>\n",
       "      <th>1266</th>\n",
       "      <td>63</td>\n",
       "      <td>SW</td>\n",
       "      <td>10.0</td>\n",
       "      <td>5.6</td>\n",
       "      <td>43.0</td>\n",
       "      <td>NW</td>\n",
       "      <td>7.8</td>\n",
       "      <td>6.7</td>\n",
       "      <td>30.0</td>\n",
       "      <td>WNW</td>\n",
       "      <td>18.4</td>\n",
       "      <td>3.6</td>\n",
       "      <td>26.0</td>\n",
       "    </tr>\n",
       "    <tr>\n",
       "      <th>1267</th>\n",
       "      <td>68</td>\n",
       "      <td>SSW</td>\n",
       "      <td>9.9</td>\n",
       "      <td>-0.5</td>\n",
       "      <td>28.0</td>\n",
       "      <td>WSW</td>\n",
       "      <td>7.3</td>\n",
       "      <td>4.2</td>\n",
       "      <td>17.0</td>\n",
       "      <td>NE</td>\n",
       "      <td>19.4</td>\n",
       "      <td>3.8</td>\n",
       "      <td>24.0</td>\n",
       "    </tr>\n",
       "    <tr>\n",
       "      <th>1268</th>\n",
       "      <td>56</td>\n",
       "      <td>N</td>\n",
       "      <td>10.1</td>\n",
       "      <td>-0.1</td>\n",
       "      <td>43.0</td>\n",
       "      <td>N</td>\n",
       "      <td>9.9</td>\n",
       "      <td>3.9</td>\n",
       "      <td>39.0</td>\n",
       "      <td>SE</td>\n",
       "      <td>21.1</td>\n",
       "      <td>7.4</td>\n",
       "      <td>39.0</td>\n",
       "    </tr>\n",
       "    <tr>\n",
       "      <th>1269</th>\n",
       "      <td>63</td>\n",
       "      <td>N</td>\n",
       "      <td>7.4</td>\n",
       "      <td>2.2</td>\n",
       "      <td>46.0</td>\n",
       "      <td>N</td>\n",
       "      <td>7.7</td>\n",
       "      <td>4.8</td>\n",
       "      <td>33.0</td>\n",
       "      <td>S</td>\n",
       "      <td>24.1</td>\n",
       "      <td>3.7</td>\n",
       "      <td>24.0</td>\n",
       "    </tr>\n",
       "    <tr>\n",
       "      <th>1270</th>\n",
       "      <td>60</td>\n",
       "      <td>SSE</td>\n",
       "      <td>11.9</td>\n",
       "      <td>1.8</td>\n",
       "      <td>31.0</td>\n",
       "      <td>NW</td>\n",
       "      <td>11.7</td>\n",
       "      <td>4.7</td>\n",
       "      <td>22.0</td>\n",
       "      <td>NNW</td>\n",
       "      <td>22.9</td>\n",
       "      <td>8.3</td>\n",
       "      <td>19.0</td>\n",
       "    </tr>\n",
       "  </tbody>\n",
       "</table>\n",
       "<p>1271 rows × 13 columns</p>\n",
       "</div>"
      ],
      "text/plain": [
       "      Incident_count Ball_Direction of maximum wind gust  \\\n",
       "0                204                                 NNW   \n",
       "1                132                                  NW   \n",
       "2                162                                   S   \n",
       "3                140                                  SE   \n",
       "4                135                                  SE   \n",
       "...              ...                                 ...   \n",
       "1266              63                                  SW   \n",
       "1267              68                                 SSW   \n",
       "1268              56                                   N   \n",
       "1269              63                                   N   \n",
       "1270              60                                 SSE   \n",
       "\n",
       "      Ball_Maximum temperature (°C)  Ball_Minimum temperature (°C)  \\\n",
       "0                              30.5                            2.9   \n",
       "1                              16.4                            9.0   \n",
       "2                              28.9                            8.0   \n",
       "3                              26.0                           13.3   \n",
       "4                              32.8                           12.3   \n",
       "...                             ...                            ...   \n",
       "1266                           10.0                            5.6   \n",
       "1267                            9.9                           -0.5   \n",
       "1268                           10.1                           -0.1   \n",
       "1269                            7.4                            2.2   \n",
       "1270                           11.9                            1.8   \n",
       "\n",
       "      Ball_Speed of maximum wind gust (km/h)  \\\n",
       "0                                       78.0   \n",
       "1                                       61.0   \n",
       "2                                       46.0   \n",
       "3                                       43.0   \n",
       "4                                       43.0   \n",
       "...                                      ...   \n",
       "1266                                    43.0   \n",
       "1267                                    28.0   \n",
       "1268                                    43.0   \n",
       "1269                                    46.0   \n",
       "1270                                    31.0   \n",
       "\n",
       "     Fern_Direction of maximum wind gust  Fern_Maximum temperature (°C)  \\\n",
       "0                                      E                           18.9   \n",
       "1                                     NW                           21.2   \n",
       "2                                     NW                           10.7   \n",
       "3                                    WNW                           10.7   \n",
       "4                                     SW                           11.4   \n",
       "...                                  ...                            ...   \n",
       "1266                                  NW                            7.8   \n",
       "1267                                 WSW                            7.3   \n",
       "1268                                   N                            9.9   \n",
       "1269                                   N                            7.7   \n",
       "1270                                  NW                           11.7   \n",
       "\n",
       "      Fern_Minimum temperature (°C)  Fern_Speed of maximum wind gust (km/h)  \\\n",
       "0                              11.8                                    15.0   \n",
       "1                              10.1                                    19.0   \n",
       "2                               7.2                                    24.0   \n",
       "3                               8.6                                    26.0   \n",
       "4                               8.5                                    43.0   \n",
       "...                             ...                                     ...   \n",
       "1266                            6.7                                    30.0   \n",
       "1267                            4.2                                    17.0   \n",
       "1268                            3.9                                    39.0   \n",
       "1269                            4.8                                    33.0   \n",
       "1270                            4.7                                    22.0   \n",
       "\n",
       "     Wang_Direction of maximum wind gust  Wang_Maximum temperature (°C)  \\\n",
       "0                                      N                           39.5   \n",
       "1                                    NNW                           45.6   \n",
       "2                                    WNW                           27.3   \n",
       "3                                    NNE                           28.3   \n",
       "4                                    WSW                           32.8   \n",
       "...                                  ...                            ...   \n",
       "1266                                 WNW                           18.4   \n",
       "1267                                  NE                           19.4   \n",
       "1268                                  SE                           21.1   \n",
       "1269                                   S                           24.1   \n",
       "1270                                 NNW                           22.9   \n",
       "\n",
       "      Wang_Minimum temperature (°C)  Wang_Speed of maximum wind gust (km/h)  \n",
       "0                              13.6                                    33.0  \n",
       "1                              18.4                                    50.0  \n",
       "2                              10.7                                    44.0  \n",
       "3                               8.5                                    35.0  \n",
       "4                              10.0                                    39.0  \n",
       "...                             ...                                     ...  \n",
       "1266                            3.6                                    26.0  \n",
       "1267                            3.8                                    24.0  \n",
       "1268                            7.4                                    39.0  \n",
       "1269                            3.7                                    24.0  \n",
       "1270                            8.3                                    19.0  \n",
       "\n",
       "[1271 rows x 13 columns]"
      ]
     },
     "execution_count": 13,
     "metadata": {},
     "output_type": "execute_result"
    }
   ],
   "source": []
  },
  {
   "cell_type": "code",
   "execution_count": 9,
   "id": "c62eef35",
   "metadata": {},
   "outputs": [
    {
     "ename": "NameError",
     "evalue": "name 'pipeline' is not defined",
     "output_type": "error",
     "traceback": [
      "\u001b[1;31m---------------------------------------------------------------------------\u001b[0m",
      "\u001b[1;31mNameError\u001b[0m                                 Traceback (most recent call last)",
      "Cell \u001b[1;32mIn[9], line 1\u001b[0m\n\u001b[1;32m----> 1\u001b[0m pipe \u001b[38;5;241m=\u001b[39m  \u001b[43mpipeline\u001b[49m\u001b[38;5;241m.\u001b[39mmake_pipeline(\n\u001b[0;32m      2\u001b[0m         TypeSelector(np\u001b[38;5;241m.\u001b[39mnumber),\n\u001b[0;32m      3\u001b[0m         preprocessing\u001b[38;5;241m.\u001b[39mStandardScaler()\n\u001b[0;32m      4\u001b[0m     )\n\u001b[0;32m      5\u001b[0m pipe\u001b[38;5;241m.\u001b[39mfit_transform(data\u001b[38;5;241m.\u001b[39mcopy())\u001b[38;5;241m.\u001b[39mtoarray()\n",
      "\u001b[1;31mNameError\u001b[0m: name 'pipeline' is not defined"
     ]
    }
   ],
   "source": []
  },
  {
   "cell_type": "code",
   "execution_count": null,
   "id": "e0361086",
   "metadata": {},
   "outputs": [],
   "source": []
  },
  {
   "cell_type": "code",
   "execution_count": null,
   "id": "b72a1e4f",
   "metadata": {},
   "outputs": [],
   "source": []
  },
  {
   "cell_type": "code",
   "execution_count": null,
   "id": "d166da1d",
   "metadata": {},
   "outputs": [],
   "source": []
  },
  {
   "cell_type": "code",
   "execution_count": null,
   "id": "d40cb6b0",
   "metadata": {},
   "outputs": [],
   "source": [
    "y[:5]"
   ]
  },
  {
   "cell_type": "code",
   "execution_count": null,
   "id": "f1268d3b",
   "metadata": {},
   "outputs": [],
   "source": [
    "from sklearn.preprocessing import OneHotEncoder"
   ]
  },
  {
   "cell_type": "code",
   "execution_count": null,
   "id": "5eb5b6b6",
   "metadata": {},
   "outputs": [],
   "source": [
    "selected_columns = df[['Ball_Direction of maximum wind gust', 'Fern_Direction of maximum wind gust','Wang_Direction of maximum wind gust']]"
   ]
  },
  {
   "cell_type": "code",
   "execution_count": null,
   "id": "3d9a5669",
   "metadata": {},
   "outputs": [],
   "source": [
    "# Initialize an encoder for each\n",
    "encoders = [OneHotEncoder(sparse=False) for _ in selected_columns.columns]\n",
    "\n",
    "# Fit and transform each encoder for each column\n",
    "encoded_data = [encoder.fit_transform(selected_columns[[col]]) for encoder, col in zip(encoders, selected_columns.columns)]\n",
    "\n",
    "# Create DataFrames for each encoded column\n",
    "encoded_dfs = [pd.DataFrame(encoded, columns=encoder.get_feature_names_out(input_features=[col])) for encoder, col, encoded in zip(encoders, selected_columns.columns, encoded_data)]\n",
    "\n",
    "# Concatenate the encoded DataFrames with the original DataFrame\n",
    "df_encoded = pd.concat([df] + encoded_dfs, axis=1)"
   ]
  },
  {
   "cell_type": "code",
   "execution_count": null,
   "id": "0f95761d",
   "metadata": {},
   "outputs": [],
   "source": [
    "df_encoded"
   ]
  },
  {
   "cell_type": "code",
   "execution_count": null,
   "id": "6cb10c61",
   "metadata": {},
   "outputs": [],
   "source": [
    "# Remove  target from features data\n",
    "y = df_encoded.Incident_count.values\n",
    "X = df_encoded.drop(columns=\"Incident_count\").values\n",
    "\n",
    "# Split training/test datasets\n",
    "X_train, X_test, y_train, y_test = train_test_split(X, y, random_state=42)"
   ]
  },
  {
   "cell_type": "code",
   "execution_count": null,
   "id": "06f801f7",
   "metadata": {},
   "outputs": [],
   "source": [
    "# Preview the features data\n",
    "print(X)"
   ]
  },
  {
   "cell_type": "code",
   "execution_count": null,
   "id": "69825cd2",
   "metadata": {},
   "outputs": [],
   "source": [
    "print(X)"
   ]
  },
  {
   "cell_type": "code",
   "execution_count": null,
   "id": "b0b6fe99",
   "metadata": {},
   "outputs": [],
   "source": [
    "# Instantiate a StandardScaler instance\n",
    "scaler = StandardScaler()\n",
    "\n",
    "# Fit the training data to the standard scaler\n",
    "X_scaler = scaler.fit(X_train)\n",
    "\n",
    "# Transform the training data using the scaler\n",
    "X_train_scaled = X_scaler.transform(X_train)\n",
    "\n",
    "# Transform the testing data using the scaler\n",
    "X_test_scaled = X_scaler.transform(X_test)"
   ]
  },
  {
   "cell_type": "code",
   "execution_count": null,
   "id": "9e75938c",
   "metadata": {},
   "outputs": [],
   "source": [
    "# Encode the categorical variables using get_dummies\n",
    "X = pd.get_dummies(X)"
   ]
  },
  {
   "cell_type": "code",
   "execution_count": null,
   "id": "2b0e79ab",
   "metadata": {},
   "outputs": [],
   "source": [
    "# Review the features data\n",
    "X.head()"
   ]
  },
  {
   "cell_type": "code",
   "execution_count": null,
   "id": "6c410af7",
   "metadata": {},
   "outputs": [],
   "source": [
    "# Split the dataset using train_test_split\n",
    "X_train, X_test, y_train, y_test = train_test_split(X, y, random_state=1)"
   ]
  },
  {
   "cell_type": "code",
   "execution_count": null,
   "id": "12d42c65",
   "metadata": {},
   "outputs": [],
   "source": [
    "# Instantiate a StandardScaler instance\n",
    "scaler = StandardScaler()\n",
    "\n",
    "# Fit the training data to the standard scaler\n",
    "X_scaler = scaler.fit(X_train)\n",
    "\n",
    "# Transform the training data using the scaler\n",
    "X_train_scaled = X_scaler.transform(X_train)\n",
    "\n",
    "# Transform the testing data using the scaler\n",
    "X_test_scaled = X_scaler.transform(X_test)"
   ]
  },
  {
   "cell_type": "code",
   "execution_count": null,
   "id": "a8aade39",
   "metadata": {},
   "outputs": [],
   "source": [
    "# Import the KNeighborsClassifier module from sklearn\n",
    "from sklearn.neighbors import KNeighborsClassifier\n",
    "\n",
    "# Instantiate the KNeighborsClassifier model with n_neighbors = 3 \n",
    "knn = KNeighborsClassifier(n_neighbors=3)"
   ]
  },
  {
   "cell_type": "code",
   "execution_count": null,
   "id": "ff6c6725",
   "metadata": {},
   "outputs": [],
   "source": [
    "# Train the model using the training data\n",
    "knn.fit(X_train_scaled, y_train)"
   ]
  },
  {
   "cell_type": "code",
   "execution_count": null,
   "id": "f41c37c7",
   "metadata": {},
   "outputs": [],
   "source": [
    "# Train the model using the training data\n",
    "knn.fit(X_train_scaled, y_train)"
   ]
  },
  {
   "cell_type": "code",
   "execution_count": null,
   "id": "da374e73",
   "metadata": {},
   "outputs": [],
   "source": [
    "# Create predictions using the testing data\n",
    "y_pred = knn.predict(X_test_scaled)"
   ]
  },
  {
   "cell_type": "code",
   "execution_count": null,
   "id": "7f33ff33",
   "metadata": {},
   "outputs": [],
   "source": [
    "# Print the classification report comparing the testing data to the model predictions\n",
    "print(classification_report(y_test, y_pred))"
   ]
  },
  {
   "cell_type": "code",
   "execution_count": null,
   "id": "aaf11702",
   "metadata": {},
   "outputs": [],
   "source": [
    "# NEW TEST, BUT SCALING THE DATA FIRST"
   ]
  },
  {
   "cell_type": "code",
   "execution_count": null,
   "id": "faacb067",
   "metadata": {},
   "outputs": [],
   "source": [
    "try:\n",
    "    df2 = pd.read_csv(\"D:\\Bootcamp\\Classwork\\Canberra_airport\\CFA_dataset_clean.csv\", low_memory=False)\n",
    "except Exception as e:\n",
    "    print(\"An error occured:\", e)\n"
   ]
  },
  {
   "cell_type": "code",
   "execution_count": null,
   "id": "bb38d751",
   "metadata": {},
   "outputs": [],
   "source": [
    "df2.dropna(inplace=True)"
   ]
  },
  {
   "cell_type": "code",
   "execution_count": null,
   "id": "0a674119",
   "metadata": {},
   "outputs": [],
   "source": [
    "df2.head()"
   ]
  },
  {
   "cell_type": "code",
   "execution_count": null,
   "id": "4d068237",
   "metadata": {},
   "outputs": [],
   "source": [
    "# Scaling the numeric columns\n",
    "data_scaled = StandardScaler().fit_transform(df[[\"Ball_Maximum temperature (°C)\", \"Ball_Speed of maximum wind gust (km/h)\", \"Fern_Maximum temperature (°C)\",\"Fern_Maximum temperature (°C)\", \"Fern_Minimum temperature (°C)\",\"Fern_Speed of maximum wind gust (km/h)\", \"Wang_Maximum temperature (°C)\", \"Wang_Minimum temperature (°C)\",\"Wang_Speed of maximum wind gust (km/h)\"]])\n",
    "\n",
    "# Creating a DataFrame with with the scaled data\n",
    "data_transformed = pd.DataFrame(data_scaled, columns=[\"Ball_Maximum temperature (°C)\", \"Ball_Speed of maximum wind gust (km/h)\", \"Fern_Maximum temperature (°C)\",\"Fern_Maximum temperature (°C)\", \"Fern_Minimum temperature (°C)\",\"Fern_Speed of maximum wind gust (km/h)\", \"Wang_Maximum temperature (°C)\", \"Wang_Minimum temperature (°C)\",\"Wang_Speed of maximum wind gust (km/h)\"])\n",
    "\n",
    "# Display sample data\n",
    "data_transformed.head()"
   ]
  },
  {
   "cell_type": "code",
   "execution_count": null,
   "id": "ffb4214a",
   "metadata": {},
   "outputs": [],
   "source": [
    "df2.tail()"
   ]
  },
  {
   "cell_type": "code",
   "execution_count": null,
   "id": "070a9228",
   "metadata": {},
   "outputs": [],
   "source": [
    "dummies = pd.get_dummies(df2[{\"Ball_Direction of maximum wind gust\", \"Fern_Direction of maximum wind gust\", \"Wang_Direction of maximum wind gust\"}])\n",
    "\n",
    "# Display sample data\n",
    "dummies.head()"
   ]
  },
  {
   "cell_type": "code",
   "execution_count": null,
   "id": "58477a5b",
   "metadata": {},
   "outputs": [],
   "source": [
    "df2['Incident_count'] = pd.to_numeric(df2['Incident_count'], downcast='integer')\n",
    "\n",
    "y = df2['Incident_count'].reset_index(drop=True)\n",
    "y"
   ]
  },
  {
   "cell_type": "code",
   "execution_count": null,
   "id": "58508495",
   "metadata": {},
   "outputs": [],
   "source": [
    "# Concatenate the df_shopping_transformed and the card_dummies DataFrames\n",
    "cfa_transformed = pd.concat([y, data_transformed, dummies], axis=1)\n",
    "\n",
    "# Display sample data\n",
    "cfa_transformed.tail()"
   ]
  },
  {
   "cell_type": "code",
   "execution_count": null,
   "id": "dd97ca27",
   "metadata": {},
   "outputs": [],
   "source": [
    "pd.DataFrame(cfa_transformed)"
   ]
  },
  {
   "cell_type": "code",
   "execution_count": null,
   "id": "b208743f",
   "metadata": {},
   "outputs": [],
   "source": [
    "cfa_transformed.to_csv('cfa_transformed', sep=',', index=False)"
   ]
  },
  {
   "cell_type": "code",
   "execution_count": null,
   "id": "6f7d0587",
   "metadata": {},
   "outputs": [],
   "source": []
  }
 ],
 "metadata": {
  "kernelspec": {
   "display_name": "Python 3 (ipykernel)",
   "language": "python",
   "name": "python3"
  },
  "language_info": {
   "codemirror_mode": {
    "name": "ipython",
    "version": 3
   },
   "file_extension": ".py",
   "mimetype": "text/x-python",
   "name": "python",
   "nbconvert_exporter": "python",
   "pygments_lexer": "ipython3",
   "version": "3.10.12"
  }
 },
 "nbformat": 4,
 "nbformat_minor": 5
}
